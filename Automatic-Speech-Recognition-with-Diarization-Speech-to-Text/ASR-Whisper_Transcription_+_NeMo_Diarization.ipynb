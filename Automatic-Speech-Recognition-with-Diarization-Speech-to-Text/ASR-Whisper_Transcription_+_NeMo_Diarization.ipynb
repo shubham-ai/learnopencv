{
  "cells": [
    {
      "cell_type": "markdown",
      "metadata": {
        "id": "eCmjcOc9yEtQ"
      },
      "source": [
        "## **Installing Dependencies**"
      ]
    },
    {
      "cell_type": "markdown",
      "metadata": {
        "id": "ZoXSTfK5kLLs"
      },
      "source": [
        "<div style=\"text-align: center;\">\n",
        "    <img src=\"https://learnopencv.com/wp-content/uploads/2024/05/ASR-Feature-Automatic-Speech-Recognition.gif\" alt=\"ASR Diarization\">\n",
        "</div>\n"
      ]
    },
    {
      "cell_type": "markdown",
      "metadata": {
        "id": "cPsHAyR1IGGu"
      },
      "source": [
        "**Change runtime type to `T4 GPU` in Colab**"
      ]
    },
    {
      "cell_type": "markdown",
      "metadata": {
        "id": "DfGsFFQvR3oj"
      },
      "source": [
        "**OpenAI's whisper** does not natively support batching, and can be inaccurate by several seconds. So we will leverage [**whisperX**](https://github.com/m-bain/whisperX) which supports batched inference and  offers realtime transcription.\n"
      ]
    },
    {
      "cell_type": "code",
      "execution_count": 1,
      "metadata": {
        "colab": {
          "base_uri": "https://localhost:8080/"
        },
        "id": "Tn1c-CoDv2kw",
        "outputId": "8dfb1e24-884b-4d4b-ece4-35e692641229"
      },
      "outputs": [
        {
          "name": "stdout",
          "output_type": "stream",
          "text": [
            "  Preparing metadata (setup.py) ... \u001b[?25l\u001b[?25hdone\n",
            "\u001b[2K     \u001b[90m━━━━━━━━━━━━━━━━━━━━━━━━━━━━━━━━━━━━━━━━\u001b[0m \u001b[32m1.5/1.5 MB\u001b[0m \u001b[31m7.7 MB/s\u001b[0m eta \u001b[36m0:00:00\u001b[0m\n",
            "\u001b[2K     \u001b[90m━━━━━━━━━━━━━━━━━━━━━━━━━━━━━━━━━━━━━━━━\u001b[0m \u001b[32m208.7/208.7 kB\u001b[0m \u001b[31m24.5 MB/s\u001b[0m eta \u001b[36m0:00:00\u001b[0m\n",
            "\u001b[2K     \u001b[90m━━━━━━━━━━━━━━━━━━━━━━━━━━━━━━━━━━━━━━━━\u001b[0m \u001b[32m32.9/32.9 MB\u001b[0m \u001b[31m28.5 MB/s\u001b[0m eta \u001b[36m0:00:00\u001b[0m\n",
            "\u001b[2K     \u001b[90m━━━━━━━━━━━━━━━━━━━━━━━━━━━━━━━━━━━━━━━━\u001b[0m \u001b[32m179.4/179.4 MB\u001b[0m \u001b[31m6.9 MB/s\u001b[0m eta \u001b[36m0:00:00\u001b[0m\n",
            "\u001b[2K     \u001b[90m━━━━━━━━━━━━━━━━━━━━━━━━━━━━━━━━━━━━━━━━\u001b[0m \u001b[32m3.6/3.6 MB\u001b[0m \u001b[31m60.8 MB/s\u001b[0m eta \u001b[36m0:00:00\u001b[0m\n",
            "\u001b[2K     \u001b[90m━━━━━━━━━━━━━━━━━━━━━━━━━━━━━━━━━━━━━━━━\u001b[0m \u001b[32m6.8/6.8 MB\u001b[0m \u001b[31m62.6 MB/s\u001b[0m eta \u001b[36m0:00:00\u001b[0m\n",
            "\u001b[2K     \u001b[90m━━━━━━━━━━━━━━━━━━━━━━━━━━━━━━━━━━━━━━━━\u001b[0m \u001b[32m43.2/43.2 kB\u001b[0m \u001b[31m6.0 MB/s\u001b[0m eta \u001b[36m0:00:00\u001b[0m\n",
            "\u001b[2K     \u001b[90m━━━━━━━━━━━━━━━━━━━━━━━━━━━━━━━━━━━━━━━━\u001b[0m \u001b[32m2.0/2.0 MB\u001b[0m \u001b[31m53.4 MB/s\u001b[0m eta \u001b[36m0:00:00\u001b[0m\n",
            "\u001b[2K     \u001b[90m━━━━━━━━━━━━━━━━━━━━━━━━━━━━━━━━━━━━━━━━\u001b[0m \u001b[32m79.5/79.5 kB\u001b[0m \u001b[31m11.8 MB/s\u001b[0m eta \u001b[36m0:00:00\u001b[0m\n",
            "\u001b[2K     \u001b[90m━━━━━━━━━━━━━━━━━━━━━━━━━━━━━━━━━━━━━━━━\u001b[0m \u001b[32m58.5/58.5 kB\u001b[0m \u001b[31m9.0 MB/s\u001b[0m eta \u001b[36m0:00:00\u001b[0m\n",
            "\u001b[2K     \u001b[90m━━━━━━━━━━━━━━━━━━━━━━━━━━━━━━━━━━━━━━━━\u001b[0m \u001b[32m48.1/48.1 kB\u001b[0m \u001b[31m6.7 MB/s\u001b[0m eta \u001b[36m0:00:00\u001b[0m\n",
            "\u001b[2K     \u001b[90m━━━━━━━━━━━━━━━━━━━━━━━━━━━━━━━━━━━━━━━━\u001b[0m \u001b[32m51.4/51.4 kB\u001b[0m \u001b[31m8.3 MB/s\u001b[0m eta \u001b[36m0:00:00\u001b[0m\n",
            "\u001b[2K     \u001b[90m━━━━━━━━━━━━━━━━━━━━━━━━━━━━━━━━━━━━━━━━\u001b[0m \u001b[32m119.1/119.1 kB\u001b[0m \u001b[31m16.4 MB/s\u001b[0m eta \u001b[36m0:00:00\u001b[0m\n",
            "\u001b[2K     \u001b[90m━━━━━━━━━━━━━━━━━━━━━━━━━━━━━━━━━━━━━━━━\u001b[0m \u001b[32m760.1/760.1 kB\u001b[0m \u001b[31m44.0 MB/s\u001b[0m eta \u001b[36m0:00:00\u001b[0m\n",
            "\u001b[2K     \u001b[90m━━━━━━━━━━━━━━━━━━━━━━━━━━━━━━━━━━━━━━━━\u001b[0m \u001b[32m101.7/101.7 kB\u001b[0m \u001b[31m13.1 MB/s\u001b[0m eta \u001b[36m0:00:00\u001b[0m\n",
            "\u001b[2K     \u001b[90m━━━━━━━━━━━━━━━━━━━━━━━━━━━━━━━━━━━━━━━━\u001b[0m \u001b[32m50.1/50.1 kB\u001b[0m \u001b[31m7.6 MB/s\u001b[0m eta \u001b[36m0:00:00\u001b[0m\n",
            "\u001b[2K     \u001b[90m━━━━━━━━━━━━━━━━━━━━━━━━━━━━━━━━━━━━━━━━\u001b[0m \u001b[32m868.8/868.8 kB\u001b[0m \u001b[31m60.3 MB/s\u001b[0m eta \u001b[36m0:00:00\u001b[0m\n",
            "\u001b[2K     \u001b[90m━━━━━━━━━━━━━━━━━━━━━━━━━━━━━━━━━━━━━━━━\u001b[0m \u001b[32m9.0/9.0 MB\u001b[0m \u001b[31m59.4 MB/s\u001b[0m eta \u001b[36m0:00:00\u001b[0m\n",
            "\u001b[2K     \u001b[90m━━━━━━━━━━━━━━━━━━━━━━━━━━━━━━━━━━━━━━━━\u001b[0m \u001b[32m9.0/9.0 MB\u001b[0m \u001b[31m66.6 MB/s\u001b[0m eta \u001b[36m0:00:00\u001b[0m\n",
            "\u001b[2K     \u001b[90m━━━━━━━━━━━━━━━━━━━━━━━━━━━━━━━━━━━━━━━━\u001b[0m \u001b[32m8.8/8.8 MB\u001b[0m \u001b[31m66.1 MB/s\u001b[0m eta \u001b[36m0:00:00\u001b[0m\n",
            "\u001b[2K     \u001b[90m━━━━━━━━━━━━━━━━━━━━━━━━━━━━━━━━━━━━━━━━\u001b[0m \u001b[32m802.2/802.2 kB\u001b[0m \u001b[31m60.0 MB/s\u001b[0m eta \u001b[36m0:00:00\u001b[0m\n",
            "\u001b[2K     \u001b[90m━━━━━━━━━━━━━━━━━━━━━━━━━━━━━━━━━━━━━━━━\u001b[0m \u001b[32m117.0/117.0 kB\u001b[0m \u001b[31m18.2 MB/s\u001b[0m eta \u001b[36m0:00:00\u001b[0m\n",
            "\u001b[?25h  Preparing metadata (setup.py) ... \u001b[?25l\u001b[?25hdone\n",
            "\u001b[2K     \u001b[90m━━━━━━━━━━━━━━━━━━━━━━━━━━━━━━━━━━━━━━━━\u001b[0m \u001b[32m46.0/46.0 kB\u001b[0m \u001b[31m6.5 MB/s\u001b[0m eta \u001b[36m0:00:00\u001b[0m\n",
            "\u001b[2K     \u001b[90m━━━━━━━━━━━━━━━━━━━━━━━━━━━━━━━━━━━━━━━━\u001b[0m \u001b[32m47.2/47.2 kB\u001b[0m \u001b[31m6.2 MB/s\u001b[0m eta \u001b[36m0:00:00\u001b[0m\n",
            "\u001b[?25h  Preparing metadata (setup.py) ... \u001b[?25l\u001b[?25hdone\n",
            "\u001b[2K     \u001b[90m━━━━━━━━━━━━━━━━━━━━━━━━━━━━━━━━━━━━━━━━\u001b[0m \u001b[32m380.1/380.1 kB\u001b[0m \u001b[31m42.2 MB/s\u001b[0m eta \u001b[36m0:00:00\u001b[0m\n",
            "\u001b[2K     \u001b[90m━━━━━━━━━━━━━━━━━━━━━━━━━━━━━━━━━━━━━━━━\u001b[0m \u001b[32m59.6/59.6 kB\u001b[0m \u001b[31m8.4 MB/s\u001b[0m eta \u001b[36m0:00:00\u001b[0m\n",
            "\u001b[?25h  Preparing metadata (setup.py) ... \u001b[?25l\u001b[?25hdone\n",
            "\u001b[2K     \u001b[90m━━━━━━━━━━━━━━━━━━━━━━━━━━━━━━━━━━━━━━━━\u001b[0m \u001b[32m233.4/233.4 kB\u001b[0m \u001b[31m30.1 MB/s\u001b[0m eta \u001b[36m0:00:00\u001b[0m\n",
            "\u001b[2K     \u001b[90m━━━━━━━━━━━━━━━━━━━━━━━━━━━━━━━━━━━━━━━━\u001b[0m \u001b[32m86.8/86.8 kB\u001b[0m \u001b[31m13.2 MB/s\u001b[0m eta \u001b[36m0:00:00\u001b[0m\n",
            "\u001b[2K     \u001b[90m━━━━━━━━━━━━━━━━━━━━━━━━━━━━━━━━━━━━━━━━\u001b[0m \u001b[32m117.8/117.8 kB\u001b[0m \u001b[31m17.1 MB/s\u001b[0m eta \u001b[36m0:00:00\u001b[0m\n",
            "\u001b[2K     \u001b[90m━━━━━━━━━━━━━━━━━━━━━━━━━━━━━━━━━━━━━━━━\u001b[0m \u001b[32m78.6/78.6 kB\u001b[0m \u001b[31m12.2 MB/s\u001b[0m eta \u001b[36m0:00:00\u001b[0m\n",
            "\u001b[2K     \u001b[90m━━━━━━━━━━━━━━━━━━━━━━━━━━━━━━━━━━━━━━━━\u001b[0m \u001b[32m526.7/526.7 kB\u001b[0m \u001b[31m49.3 MB/s\u001b[0m eta \u001b[36m0:00:00\u001b[0m\n",
            "\u001b[?25h  Building wheel for whisperx (setup.py) ... \u001b[?25l\u001b[?25hdone\n",
            "  Building wheel for antlr4-python3-runtime (setup.py) ... \u001b[?25l\u001b[?25hdone\n",
            "  Building wheel for docopt (setup.py) ... \u001b[?25l\u001b[?25hdone\n",
            "  Building wheel for julius (setup.py) ... \u001b[?25l\u001b[?25hdone\n",
            "\u001b[31mERROR: pip's dependency resolver does not currently take into account all the packages that are installed. This behaviour is the source of the following dependency conflicts.\n",
            "spacy 3.7.4 requires typer<0.10.0,>=0.3.0, but you have typer 0.12.3 which is incompatible.\n",
            "weasel 0.3.4 requires typer<0.10.0,>=0.3.0, but you have typer 0.12.3 which is incompatible.\u001b[0m\u001b[31m\n",
            "\u001b[0m"
          ]
        }
      ],
      "source": [
        "!pip install -qq git+https://github.com/m-bain/whisperX.git@78dcfaab51005aa703ee21375f81ed31bc248560"
      ]
    },
    {
      "cell_type": "markdown",
      "metadata": {
        "id": "vZsBjYptwsSL"
      },
      "source": [
        "**Restart Session (recommended)**\n",
        "\n",
        "Next let’s install the Nvidia [Nemo Toolkit for ASR](https://github.com/NVIDIA/NeMo/tree/main/tutorials/speaker_tasks)"
      ]
    },
    {
      "cell_type": "code",
      "execution_count": 2,
      "metadata": {
        "colab": {
          "base_uri": "https://localhost:8080/"
        },
        "id": "RGX-qPp4uQ8r",
        "outputId": "3d3b3b21-4bcf-45e1-e37d-637eda3ebccd"
      },
      "outputs": [
        {
          "name": "stdout",
          "output_type": "stream",
          "text": [
            "\u001b[2K     \u001b[90m━━━━━━━━━━━━━━━━━━━━━━━━━━━━━━━━━━━━━━━━\u001b[0m \u001b[32m2.7/2.7 MB\u001b[0m \u001b[31m13.9 MB/s\u001b[0m eta \u001b[36m0:00:00\u001b[0m\n",
            "\u001b[2K     \u001b[90m━━━━━━━━━━━━━━━━━━━━━━━━━━━━━━━━━━━━━━━━\u001b[0m \u001b[32m17.1/17.1 MB\u001b[0m \u001b[31m60.9 MB/s\u001b[0m eta \u001b[36m0:00:00\u001b[0m\n",
            "\u001b[2K     \u001b[90m━━━━━━━━━━━━━━━━━━━━━━━━━━━━━━━━━━━━━━━━\u001b[0m \u001b[32m15.9/15.9 MB\u001b[0m \u001b[31m59.3 MB/s\u001b[0m eta \u001b[36m0:00:00\u001b[0m\n",
            "\u001b[?25h  Preparing metadata (setup.py) ... \u001b[?25l\u001b[?25hdone\n",
            "\u001b[2K     \u001b[90m━━━━━━━━━━━━━━━━━━━━━━━━━━━━━━━━━━━━━━━━\u001b[0m \u001b[32m3.1/3.1 MB\u001b[0m \u001b[31m101.3 MB/s\u001b[0m eta \u001b[36m0:00:00\u001b[0m\n",
            "\u001b[?25h  Preparing metadata (setup.py) ... \u001b[?25l\u001b[?25hdone\n",
            "\u001b[2K     \u001b[90m━━━━━━━━━━━━━━━━━━━━━━━━━━━━━━━━━━━━━━━━\u001b[0m \u001b[32m49.3/49.3 kB\u001b[0m \u001b[31m7.7 MB/s\u001b[0m eta \u001b[36m0:00:00\u001b[0m\n",
            "\u001b[2K     \u001b[90m━━━━━━━━━━━━━━━━━━━━━━━━━━━━━━━━━━━━━━━━\u001b[0m \u001b[32m3.1/3.1 MB\u001b[0m \u001b[31m105.3 MB/s\u001b[0m eta \u001b[36m0:00:00\u001b[0m\n",
            "\u001b[2K     \u001b[90m━━━━━━━━━━━━━━━━━━━━━━━━━━━━━━━━━━━━━━━━\u001b[0m \u001b[32m63.9/63.9 kB\u001b[0m \u001b[31m9.6 MB/s\u001b[0m eta \u001b[36m0:00:00\u001b[0m\n",
            "\u001b[?25h  Preparing metadata (setup.py) ... \u001b[?25l\u001b[?25hdone\n",
            "\u001b[2K     \u001b[90m━━━━━━━━━━━━━━━━━━━━━━━━━━━━━━━━━━━━━━━━\u001b[0m \u001b[32m1.1/1.1 MB\u001b[0m \u001b[31m54.5 MB/s\u001b[0m eta \u001b[36m0:00:00\u001b[0m\n",
            "\u001b[2K     \u001b[90m━━━━━━━━━━━━━━━━━━━━━━━━━━━━━━━━━━━━━━━━\u001b[0m \u001b[32m154.5/154.5 kB\u001b[0m \u001b[31m5.7 MB/s\u001b[0m eta \u001b[36m0:00:00\u001b[0m\n",
            "\u001b[2K     \u001b[90m━━━━━━━━━━━━━━━━━━━━━━━━━━━━━━━━━━━━━━━━\u001b[0m \u001b[32m725.0/725.0 kB\u001b[0m \u001b[31m49.0 MB/s\u001b[0m eta \u001b[36m0:00:00\u001b[0m\n",
            "\u001b[2K     \u001b[90m━━━━━━━━━━━━━━━━━━━━━━━━━━━━━━━━━━━━━━━━\u001b[0m \u001b[32m6.7/6.7 MB\u001b[0m \u001b[31m49.9 MB/s\u001b[0m eta \u001b[36m0:00:00\u001b[0m\n",
            "\u001b[2K     \u001b[90m━━━━━━━━━━━━━━━━━━━━━━━━━━━━━━━━━━━━━━━━\u001b[0m \u001b[32m542.0/542.0 kB\u001b[0m \u001b[31m38.4 MB/s\u001b[0m eta \u001b[36m0:00:00\u001b[0m\n",
            "\u001b[2K     \u001b[90m━━━━━━━━━━━━━━━━━━━━━━━━━━━━━━━━━━━━━━━━\u001b[0m \u001b[32m3.1/3.1 MB\u001b[0m \u001b[31m49.9 MB/s\u001b[0m eta \u001b[36m0:00:00\u001b[0m\n",
            "\u001b[2K     \u001b[90m━━━━━━━━━━━━━━━━━━━━━━━━━━━━━━━━━━━━━━━━\u001b[0m \u001b[32m897.5/897.5 kB\u001b[0m \u001b[31m43.5 MB/s\u001b[0m eta \u001b[36m0:00:00\u001b[0m\n",
            "\u001b[2K     \u001b[90m━━━━━━━━━━━━━━━━━━━━━━━━━━━━━━━━━━━━━━━━\u001b[0m \u001b[32m86.7/86.7 kB\u001b[0m \u001b[31m12.9 MB/s\u001b[0m eta \u001b[36m0:00:00\u001b[0m\n",
            "\u001b[?25h  Preparing metadata (setup.py) ... \u001b[?25l\u001b[?25hdone\n",
            "\u001b[2K     \u001b[90m━━━━━━━━━━━━━━━━━━━━━━━━━━━━━━━━━━━━━━━━\u001b[0m \u001b[32m116.3/116.3 kB\u001b[0m \u001b[31m16.2 MB/s\u001b[0m eta \u001b[36m0:00:00\u001b[0m\n",
            "\u001b[2K     \u001b[90m━━━━━━━━━━━━━━━━━━━━━━━━━━━━━━━━━━━━━━━━\u001b[0m \u001b[32m194.1/194.1 kB\u001b[0m \u001b[31m24.5 MB/s\u001b[0m eta \u001b[36m0:00:00\u001b[0m\n",
            "\u001b[2K     \u001b[90m━━━━━━━━━━━━━━━━━━━━━━━━━━━━━━━━━━━━━━━━\u001b[0m \u001b[32m134.8/134.8 kB\u001b[0m \u001b[31m18.1 MB/s\u001b[0m eta \u001b[36m0:00:00\u001b[0m\n",
            "\u001b[2K     \u001b[90m━━━━━━━━━━━━━━━━━━━━━━━━━━━━━━━━━━━━━━━━\u001b[0m \u001b[32m401.2/401.2 kB\u001b[0m \u001b[31m35.7 MB/s\u001b[0m eta \u001b[36m0:00:00\u001b[0m\n",
            "\u001b[2K     \u001b[90m━━━━━━━━━━━━━━━━━━━━━━━━━━━━━━━━━━━━━━━━\u001b[0m \u001b[32m180.3/180.3 kB\u001b[0m \u001b[31m21.3 MB/s\u001b[0m eta \u001b[36m0:00:00\u001b[0m\n",
            "\u001b[?25h  Preparing metadata (setup.py) ... \u001b[?25l\u001b[?25hdone\n",
            "\u001b[2K     \u001b[90m━━━━━━━━━━━━━━━━━━━━━━━━━━━━━━━━━━━━━━━━\u001b[0m \u001b[32m3.4/3.4 MB\u001b[0m \u001b[31m79.1 MB/s\u001b[0m eta \u001b[36m0:00:00\u001b[0m\n",
            "\u001b[2K     \u001b[90m━━━━━━━━━━━━━━━━━━━━━━━━━━━━━━━━━━━━━━━━\u001b[0m \u001b[32m235.0/235.0 kB\u001b[0m \u001b[31m30.3 MB/s\u001b[0m eta \u001b[36m0:00:00\u001b[0m\n",
            "\u001b[2K     \u001b[90m━━━━━━━━━━━━━━━━━━━━━━━━━━━━━━━━━━━━━━━━\u001b[0m \u001b[32m62.5/62.5 kB\u001b[0m \u001b[31m9.3 MB/s\u001b[0m eta \u001b[36m0:00:00\u001b[0m\n",
            "\u001b[2K     \u001b[90m━━━━━━━━━━━━━━━━━━━━━━━━━━━━━━━━━━━━━━━━\u001b[0m \u001b[32m177.4/177.4 kB\u001b[0m \u001b[31m22.1 MB/s\u001b[0m eta \u001b[36m0:00:00\u001b[0m\n",
            "\u001b[2K     \u001b[90m━━━━━━━━━━━━━━━━━━━━━━━━━━━━━━━━━━━━━━━━\u001b[0m \u001b[32m207.3/207.3 kB\u001b[0m \u001b[31m27.0 MB/s\u001b[0m eta \u001b[36m0:00:00\u001b[0m\n",
            "\u001b[2K     \u001b[90m━━━━━━━━━━━━━━━━━━━━━━━━━━━━━━━━━━━━━━━━\u001b[0m \u001b[32m277.3/277.3 kB\u001b[0m \u001b[31m31.5 MB/s\u001b[0m eta \u001b[36m0:00:00\u001b[0m\n",
            "\u001b[2K     \u001b[90m━━━━━━━━━━━━━━━━━━━━━━━━━━━━━━━━━━━━━━━━\u001b[0m \u001b[32m62.7/62.7 kB\u001b[0m \u001b[31m8.3 MB/s\u001b[0m eta \u001b[36m0:00:00\u001b[0m\n",
            "\u001b[2K     \u001b[90m━━━━━━━━━━━━━━━━━━━━━━━━━━━━━━━━━━━━━━━━\u001b[0m \u001b[32m1.6/1.6 MB\u001b[0m \u001b[31m56.3 MB/s\u001b[0m eta \u001b[36m0:00:00\u001b[0m\n",
            "\u001b[?25h  Building wheel for youtokentome (setup.py) ... \u001b[?25l\u001b[?25hdone\n",
            "  Building wheel for kaldi-python-io (setup.py) ... \u001b[?25l\u001b[?25hdone\n",
            "  Building wheel for sox (setup.py) ... \u001b[?25l\u001b[?25hdone\n",
            "  Building wheel for wget (setup.py) ... \u001b[?25l\u001b[?25hdone\n",
            "  Building wheel for distance (setup.py) ... \u001b[?25l\u001b[?25hdone\n",
            "\u001b[31mERROR: pip's dependency resolver does not currently take into account all the packages that are installed. This behaviour is the source of the following dependency conflicts.\n",
            "chex 0.1.86 requires numpy>=1.24.1, but you have numpy 1.23.5 which is incompatible.\n",
            "pandas-stubs 2.0.3.230814 requires numpy>=1.25.0; python_version >= \"3.9\", but you have numpy 1.23.5 which is incompatible.\n",
            "spacy 3.7.4 requires typer<0.10.0,>=0.3.0, but you have typer 0.12.3 which is incompatible.\n",
            "weasel 0.3.4 requires typer<0.10.0,>=0.3.0, but you have typer 0.12.3 which is incompatible.\u001b[0m\u001b[31m\n",
            "\u001b[0m"
          ]
        }
      ],
      "source": [
        "!pip install -qq --no-build-isolation nemo_toolkit[asr]==1.22.0"
      ]
    },
    {
      "cell_type": "markdown",
      "metadata": {
        "id": "2d9uhmtRpLiO"
      },
      "source": [
        "**Restart Session**\n",
        "\n",
        "And other dependencies like\n",
        "* `Demucs` to separate music and vocals from audio source.\n",
        "\n",
        "* `Dora search` for grid search and optimization.\n",
        "* `Deepmultilingualpunctuation` for cleaning and structuring transcription.\n",
        "* `Pydub` for manipulating audio.\n"
      ]
    },
    {
      "cell_type": "code",
      "execution_count": 3,
      "metadata": {
        "colab": {
          "base_uri": "https://localhost:8080/"
        },
        "id": "WhCQxzfNZhXO",
        "outputId": "8b8ead1b-d298-4857-eee8-b2b07ebfcb29"
      },
      "outputs": [
        {
          "name": "stdout",
          "output_type": "stream",
          "text": [
            "  Preparing metadata (setup.py) ... \u001b[?25l\u001b[?25hdone\n",
            "  Building wheel for demucs (setup.py) ... \u001b[?25l\u001b[?25hdone\n",
            "\u001b[2K     \u001b[90m━━━━━━━━━━━━━━━━━━━━━━━━━━━━━━━━━━━━━━━━\u001b[0m \u001b[32m87.1/87.1 kB\u001b[0m \u001b[31m1.7 MB/s\u001b[0m eta \u001b[36m0:00:00\u001b[0m\n",
            "\u001b[?25h  Installing build dependencies ... \u001b[?25l\u001b[?25hdone\n",
            "  Getting requirements to build wheel ... \u001b[?25l\u001b[?25hdone\n",
            "  Preparing metadata (pyproject.toml) ... \u001b[?25l\u001b[?25hdone\n",
            "\u001b[2K     \u001b[90m━━━━━━━━━━━━━━━━━━━━━━━━━━━━━━━━━━━━━━━━\u001b[0m \u001b[32m239.8/239.8 kB\u001b[0m \u001b[31m6.6 MB/s\u001b[0m eta \u001b[36m0:00:00\u001b[0m\n",
            "\u001b[2K     \u001b[90m━━━━━━━━━━━━━━━━━━━━━━━━━━━━━━━━━━━━━━━━\u001b[0m \u001b[32m40.0/40.0 kB\u001b[0m \u001b[31m4.4 MB/s\u001b[0m eta \u001b[36m0:00:00\u001b[0m\n",
            "\u001b[2K     \u001b[90m━━━━━━━━━━━━━━━━━━━━━━━━━━━━━━━━━━━━━━━━\u001b[0m \u001b[32m74.7/74.7 kB\u001b[0m \u001b[31m10.0 MB/s\u001b[0m eta \u001b[36m0:00:00\u001b[0m\n",
            "\u001b[?25h  Preparing metadata (setup.py) ... \u001b[?25l\u001b[?25hdone\n",
            "  Building wheel for dora-search (pyproject.toml) ... \u001b[?25l\u001b[?25hdone\n",
            "  Building wheel for treetable (setup.py) ... \u001b[?25l\u001b[?25hdone\n",
            "\u001b[31mERROR: pip's dependency resolver does not currently take into account all the packages that are installed. This behaviour is the source of the following dependency conflicts.\n",
            "demucs 4.1.0a2 requires torchaudio<2.1,>=0.8, but you have torchaudio 2.2.1+cu121 which is incompatible.\u001b[0m\u001b[31m\n",
            "\u001b[0m"
          ]
        }
      ],
      "source": [
        "!pip install -q --no-deps git+https://github.com/facebookresearch/demucs #egg=demucs\n",
        "!pip install -q dora-search \"lameenc>=1.2\" openunmix\n",
        "!pip install -q deepmultilingualpunctuation\n",
        "!pip install -q wget pydub"
      ]
    },
    {
      "cell_type": "markdown",
      "metadata": {
        "id": "mFTu9wSTS2Pw"
      },
      "source": [
        "## **Import Dependencies**"
      ]
    },
    {
      "cell_type": "code",
      "execution_count": 4,
      "metadata": {
        "colab": {
          "base_uri": "https://localhost:8080/"
        },
        "id": "YzhncHP0ytbQ",
        "outputId": "496f0ec0-8b16-4f09-8680-520a502f045a"
      },
      "outputs": [
        {
          "name": "stderr",
          "output_type": "stream",
          "text": [
            "/usr/local/lib/python3.10/dist-packages/pyannote/audio/core/io.py:43: UserWarning: torchaudio._backend.set_audio_backend has been deprecated. With dispatcher enabled, this function is no-op. You can remove the function call.\n",
            "  torchaudio.set_audio_backend(\"soundfile\")\n",
            "[NeMo W 2024-05-14 06:13:47 transformer_bpe_models:59] Could not import NeMo NLP collection which is required for speech translation model.\n"
          ]
        }
      ],
      "source": [
        "import os\n",
        "import wget\n",
        "import requests\n",
        "import zipfile\n",
        "from omegaconf import OmegaConf\n",
        "import json\n",
        "import shutil\n",
        "from faster_whisper import WhisperModel\n",
        "import whisperx\n",
        "import torch\n",
        "from pydub import AudioSegment\n",
        "from nemo.collections.asr.models.msdd_models import NeuralDiarizer\n",
        "from deepmultilingualpunctuation import PunctuationModel\n",
        "import re\n",
        "import logging\n",
        "import nltk\n",
        "from whisperx.alignment import DEFAULT_ALIGN_MODELS_HF, DEFAULT_ALIGN_MODELS_TORCH\n",
        "from whisperx.utils import LANGUAGES, TO_LANGUAGE_CODE"
      ]
    },
    {
      "cell_type": "markdown",
      "metadata": {
        "id": "YOrgRmlR1RWp"
      },
      "source": [
        "### **Download Files**"
      ]
    },
    {
      "cell_type": "code",
      "execution_count": 9,
      "metadata": {
        "colab": {
          "base_uri": "https://localhost:8080/"
        },
        "id": "oFO1ydTkhKs8",
        "outputId": "a58cb887-2339-4a99-ef74-6a8e2cbd9d61"
      },
      "outputs": [
        {
          "name": "stdout",
          "output_type": "stream",
          "text": [
            "Extracted all to: ./whisper_examples\n"
          ]
        }
      ],
      "source": [
        "# Ensure the directory exists\n",
        "if not os.path.exists('whisper_examples'):\n",
        "    os.mkdir('whisper_examples')\n",
        "\n",
        "def download_file(url, save_name):\n",
        "    if not os.path.exists(save_name):\n",
        "        # Handling potential redirection in requests\n",
        "        with requests.get(url, allow_redirects=True) as r:\n",
        "            if r.status_code == 200:\n",
        "                with open(save_name, 'wb') as f:\n",
        "                    f.write(r.content)\n",
        "            else:\n",
        "                print(\"Failed to download the file, status code:\", r.status_code)\n",
        "\n",
        "def unzip(zip_file=None, target_dir='./whisper_examples'):\n",
        "    try:\n",
        "        with zipfile.ZipFile(zip_file, 'r') as z:\n",
        "            z.extractall(target_dir)\n",
        "            print(\"Extracted all to:\", target_dir)\n",
        "    except zipfile.BadZipFile:\n",
        "        print(\"Invalid file or error during extraction: Bad Zip File\")\n",
        "    except Exception as e:\n",
        "        print(\"An error occurred:\", e)\n",
        "\n",
        "# Correct Dropbox link (Ensure this is the direct download link or properly redirects)\n",
        "download_url = 'https://www.dropbox.com/scl/fi/gaxpaq6d8aqnbz9mpzlr6/whisper_examples.zip?rlkey=x69vv03tu657bbxbmbe7z322m&st=iabgc5et&dl=1'\n",
        "save_path = 'whisper_examples/whisper_examples.zip'\n",
        "\n",
        "download_file(download_url, save_path)\n",
        "unzip(zip_file=save_path)\n"
      ]
    },
    {
      "cell_type": "markdown",
      "metadata": {
        "id": "7ZS4xXmE2NGP"
      },
      "source": [
        "\n",
        "\n",
        "As our goal is to get a highly accurate and reliable transcription,  we will be using a whisper `large-v3` multilingual model of 1550M parameters with a WER of 4.1 on Google Fleurs dataset.\n",
        "The enable_stemming flag determines to preprocess the audio with Demucs to remove music. Setting `batch_size=8` indicates that 8 chunks will be processed at a time to make transcription coherent, so increasing batch_size may produce better results.\n",
        "Additionally the ` suppress_numeral=True` flag helps to increase the accuracy by reducing WER. In this ASR pipeline, whisper automatically identifies the language using the first 30 sec of input audio sample, as it is set as `language=None`.\n"
      ]
    },
    {
      "cell_type": "code",
      "execution_count": null,
      "metadata": {
        "id": "ONlFrSnD0FOp"
      },
      "outputs": [],
      "source": [
        "# Name of the audio file\n",
        "audio_path = \"whisper_examples/Old_Farmer.mp3\"\n",
        "\n",
        "# Whether to enable music removal from speech, helps increase diarization quality but uses alot of ram\n",
        "enable_stemming = True\n",
        "\n",
        "# (choose from 'tiny.en', 'tiny', 'base.en', 'base', 'small.en', 'small', 'medium.en', 'medium', 'large-v1', 'large-v2', 'large-v3', 'large')\n",
        "whisper_model_name = \"large-v3\"\n",
        "\n",
        "# replaces numerical digits with their pronounciation, increases diarization accuracy\n",
        "suppress_numerals = True\n",
        "\n",
        "batch_size = 8\n",
        "\n",
        "language = None  # autodetect language\n",
        "\n",
        "device = \"cuda\" if torch.cuda.is_available() else \"cpu\""
      ]
    },
    {
      "cell_type": "markdown",
      "metadata": {
        "id": "h-cY1ZEy2KVI"
      },
      "source": [
        "## **Processing Audio with Demucs**\n",
        "\n",
        "\n",
        "This preprocessing step, conditionally isolates vocals from an audio file using the Meta Demucs model  which increases the diarization quality otherwise, it defaults to using the original audio file."
      ]
    },
    {
      "cell_type": "code",
      "execution_count": null,
      "metadata": {
        "id": "HKcgQUrAzsJZ"
      },
      "outputs": [],
      "source": [
        "if enable_stemming:\n",
        "    # Isolate vocals from the rest of the audio\n",
        "\n",
        "    return_code = os.system(\n",
        "        f'python3 -m demucs.separate -n htdemucs --two-stems=vocals \"{audio_path}\" -o \"temp_outputs\"'\n",
        "    )\n",
        "\n",
        "    if return_code != 0:\n",
        "        logging.warning(\"Source splitting failed, using original audio file.\")\n",
        "        vocal_target = audio_path\n",
        "    else:\n",
        "        vocal_target = os.path.join(\n",
        "            \"temp_outputs\",\n",
        "            \"htdemucs\",\n",
        "            os.path.splitext(os.path.basename(audio_path))[0],\n",
        "            \"vocals.wav\",\n",
        "        )\n",
        "else:\n",
        "    vocal_target = audio_path"
      ]
    },
    {
      "cell_type": "markdown",
      "metadata": {
        "id": "E1-w8B2HzX55"
      },
      "source": [
        "## **WHISPER: ASR PIPELINE**\n",
        "\n",
        "Next, the `find_numeral_symbol_tokens` function identifies and returns a list of token IDs , inherited from whisper’s pretrained tokenizer's vocabulary that contain numeral symbols or characters such as digits and currency symbols. The vocab size of whisper is 51865.\n",
        "Eg: $100 , suppressing numeral tokens will result in one hundred dollars.\n"
      ]
    },
    {
      "cell_type": "code",
      "execution_count": null,
      "metadata": {
        "id": "nji0SxE3zE17"
      },
      "outputs": [],
      "source": [
        "def find_numeral_symbol_tokens(tokenizer):\n",
        "    numeral_symbol_tokens = [\n",
        "        -1,\n",
        "    ]\n",
        "    for token, token_id in tokenizer.get_vocab().items():\n",
        "        has_numeral_symbol = any(c in \"0123456789%$£\" for c in token)\n",
        "        if has_numeral_symbol:\n",
        "            numeral_symbol_tokens.append(token_id)\n",
        "    return numeral_symbol_tokens"
      ]
    },
    {
      "cell_type": "markdown",
      "metadata": {
        "id": "KFw7eEpHXt1b"
      },
      "source": [
        "**Transcribe with Faster Whisper**"
      ]
    },
    {
      "cell_type": "code",
      "execution_count": null,
      "metadata": {
        "id": "Se6Hc7CZygxu"
      },
      "outputs": [],
      "source": [
        "def transcribe(\n",
        "    audio_file: str,\n",
        "    language: str,\n",
        "    model_name: str,\n",
        "    compute_dtype: str,\n",
        "    suppress_numerals: bool,\n",
        "    device: str,\n",
        "):\n",
        "\n",
        "    # Faster Whisper non-batched\n",
        "    # Run on GPU with FP16\n",
        "    whisper_model = WhisperModel(model_name, device=device, compute_type=compute_dtype)\n",
        "\n",
        "    # or run on GPU with INT8\n",
        "    # model = WhisperModel(model_size, device=\"cuda\", compute_type=\"int8_float16\")\n",
        "    # or run on CPU with INT8\n",
        "    # model = WhisperModel(model_size, device=\"cpu\", compute_type=\"int8\")\n",
        "\n",
        "    if suppress_numerals:\n",
        "        numeral_symbol_tokens = find_numeral_symbol_tokens(whisper_model.hf_tokenizer)\n",
        "    else:\n",
        "        numeral_symbol_tokens = None\n",
        "\n",
        "    if language is not None and language in wav2vec2_langs:\n",
        "        word_timestamps = False\n",
        "    else:\n",
        "        word_timestamps = True\n",
        "\n",
        "    segments, info = whisper_model.transcribe(\n",
        "        audio_file,\n",
        "        language=language,\n",
        "        beam_size=5,\n",
        "        word_timestamps=word_timestamps,\n",
        "        suppress_tokens=numeral_symbol_tokens,\n",
        "        vad_filter=True,\n",
        "    )\n",
        "    whisper_results = []\n",
        "    for segment in segments:\n",
        "        whisper_results.append(segment._asdict())\n",
        "    # clear gpu vram\n",
        "    del whisper_model\n",
        "    torch.cuda.empty_cache()\n",
        "    return whisper_results, language"
      ]
    },
    {
      "cell_type": "markdown",
      "metadata": {
        "id": "u953_-bnXzww"
      },
      "source": [
        "**WhisperX**"
      ]
    },
    {
      "cell_type": "markdown",
      "metadata": {
        "id": "pFOtBF6jXehI"
      },
      "source": [
        "This section is responsible for performing ASR on our input audio file. The `transcribe_batched` function handles batched audio transcription using the Whisper model, configured for a  specific language, numeral and symbol suppression, and computation settings. This streamlined approach optimizes resource utilization during batch processing.\n"
      ]
    },
    {
      "cell_type": "markdown",
      "metadata": {
        "id": "f0wFzDZZXOsP"
      },
      "source": [
        "* In a typical **whisperX pipeline**, input audio gets chopped , only where a sound activity is detected with a **VAD** model, into 30-second chunks and sent on a two-track adventure. Track one is the OpenAI Whisper model, a transcription maestro adept at capturing spoken words but occasionally stumbling over precise timings. It's like a talented lyricist who can't quite keep up with the rhythm.\n",
        "\n",
        "* Running parallel is track two, the timestamp tsar **Wav2Vec2.0**, which may not have Whisper's lyrical prowess but boasts an uncanny ability to pinpoint each word's timing in the audio. So, why not combine the strengths of these two models and get the best of both worlds? It's like having a dynamic duo – one handles the lyrics, and the other keeps the beat. Together, they can create a harmonious symphony of transcriptions with accurate timestamps.\n"
      ]
    },
    {
      "cell_type": "markdown",
      "metadata": {
        "id": "oPLnjTWf7VxV"
      },
      "source": [
        "<img src=\"https://learnopencv.com/wp-content/uploads/2024/05/whisperx-Automatic-Speech-Recognition.png\">"
      ]
    },
    {
      "cell_type": "code",
      "execution_count": null,
      "metadata": {
        "id": "dMZ07T6JzStl"
      },
      "outputs": [],
      "source": [
        "def transcribe_batched(\n",
        "    audio_file: str,\n",
        "    language: str,\n",
        "    batch_size: int,\n",
        "    model_name: str,\n",
        "    compute_dtype: str,\n",
        "    suppress_numerals: bool,\n",
        "    device: str,\n",
        "):\n",
        "\n",
        "\n",
        "    # Faster Whisper batched\n",
        "    whisper_model = whisperx.load_model(\n",
        "        model_name,\n",
        "        device,\n",
        "        compute_type=compute_dtype,\n",
        "        asr_options={\"suppress_numerals\": suppress_numerals},\n",
        "    )\n",
        "    audio = whisperx.load_audio(audio_file)\n",
        "    result = whisper_model.transcribe(audio, language=language, batch_size=batch_size)\n",
        "    del whisper_model\n",
        "    torch.cuda.empty_cache()\n",
        "    return result[\"segments\"], result[\"language\"]"
      ]
    },
    {
      "cell_type": "markdown",
      "metadata": {
        "id": "UYg9VWb22Tz8"
      },
      "source": [
        "### **Transcribing audio using WhisperX**\n",
        "---\n",
        "\n",
        "This snippet results in the transcription using batch processing on input audio with the WhisperX inference pipeline based on the specified `batch_size`, applying settings for computation type, numeral suppression, and device with a fp16 compute precision.\n",
        "\n"
      ]
    },
    {
      "cell_type": "code",
      "execution_count": null,
      "metadata": {
        "colab": {
          "base_uri": "https://localhost:8080/",
          "height": 319,
          "referenced_widgets": [
            "0971233ef95f454791fcf4c5ac47401c",
            "2bda0982d9394d4f9a121f472d2e1bc8",
            "65facafaaf564bc68c469fc5136732e6",
            "cadcae2afee343b19ca350cd130c162c",
            "1d14f48d5b334409b2cb4286fbd17022",
            "21157de4110e415c9e56374bfc707d35",
            "b1a6e5b7742a488395894ba1a04e2d99",
            "133ffda1ea30457db1910ef94cf95d6b",
            "3d38948bcf294d13861e99401b5d88c4",
            "b832aa81f0a242d689e04837df80b062",
            "734b741f9eb5439b9e9f09b400dff9c2",
            "5a183d3bb6db4ea2aa414ab4b7a21cf6",
            "08cec423e87847309e6b5406354c4d4d",
            "b51ce694318348898a5d0eea58dfc49a",
            "63cda803dc4f4805ae81fffe5d0db92b",
            "1ce181a515f84c5f944f76dd688e2fad",
            "36128d02b9564320ba86ff726e96a591",
            "b901d18c98604cba988a7a0513f4a5f2",
            "ca1529511e96448b88169015c362f0d9",
            "01b334eabfa64e2fb9fa94bfbbf856d2",
            "293dfed4d46c4f45a46503851a6b178a",
            "40d4d48dbf884580a6a7c8165a8cf02e",
            "e5f830aa94d243ab85900bb008c5e71e",
            "d5032d0ed7b14077ae9e13264a602cd1",
            "98d09ddaaa634086b06e20f5c537c280",
            "626f5add4dc0457daaed1f1de176a6b4",
            "e4975bfd4a0a40d7b38a25d335fdea9b",
            "6b6372802da34adeb940c69db88795fe",
            "4aa13decdc3f4b0988b4d3d48d9cb219",
            "e04107a163d8482b9fff8f8bd634fab5",
            "874e02aae976413ca311d2b92f57eeea",
            "6cf6f0d0de4441b3aeb1097122601031",
            "f1a0a35e771841acae7b75e7593c7498",
            "7538cb4cb77e4aff88444d64b2a5cf08",
            "121252efbbfd4f8f9dc67eba4fcdbe65",
            "404ad8ad9d174aee96e86775619863ab",
            "ae35f888ae1248529060f19e2ae0f2ce",
            "956ebe3d0b344d878755c0e2c02b5a1e",
            "42ec44df3a824c729e1254a2e347dea9",
            "a65a21b1b5004527b3ac518cd2cde15e",
            "fec497772c5f49fab0cdd89e38f99fc4",
            "7d280378103b47c28d021385b8428a6c",
            "3ce6e7916ab043eebecb96597c2ee320",
            "294dee4f35724cd484daa1d8ecdc42b8",
            "0b06fbc2482c4d7eae7ba2c647aa1df5",
            "c44278964a604e44b5c4e1b9753bd606",
            "18f434e7fa52443ab15f5b1463536699",
            "fc702cc3de604a31a4f33608a16ca798",
            "9409df2a6b93479b98f28d5ff6b30c58",
            "01f09297aa1741e197c4b89361d5a4d0",
            "181e9914e1b54c848c7a66d47802d084",
            "6ebaf133de8d4ec69b09e7f49f472010",
            "3bbf034960a24a5fadb10a239a95c8ac",
            "0e5532b8db15490eb90480848feaa94f",
            "680d4ae8d6bc4538839a01dd30f34eef"
          ]
        },
        "id": "5-VKFn530oTl",
        "outputId": "4770b5c8-f9ab-4bd7-c8d5-6cdfcc13a990"
      },
      "outputs": [
        {
          "data": {
            "application/vnd.jupyter.widget-view+json": {
              "model_id": "0971233ef95f454791fcf4c5ac47401c",
              "version_major": 2,
              "version_minor": 0
            },
            "text/plain": [
              "tokenizer.json:   0%|          | 0.00/2.48M [00:00<?, ?B/s]"
            ]
          },
          "metadata": {},
          "output_type": "display_data"
        },
        {
          "data": {
            "application/vnd.jupyter.widget-view+json": {
              "model_id": "5a183d3bb6db4ea2aa414ab4b7a21cf6",
              "version_major": 2,
              "version_minor": 0
            },
            "text/plain": [
              "config.json:   0%|          | 0.00/2.39k [00:00<?, ?B/s]"
            ]
          },
          "metadata": {},
          "output_type": "display_data"
        },
        {
          "data": {
            "application/vnd.jupyter.widget-view+json": {
              "model_id": "e5f830aa94d243ab85900bb008c5e71e",
              "version_major": 2,
              "version_minor": 0
            },
            "text/plain": [
              "vocabulary.json:   0%|          | 0.00/1.07M [00:00<?, ?B/s]"
            ]
          },
          "metadata": {},
          "output_type": "display_data"
        },
        {
          "data": {
            "application/vnd.jupyter.widget-view+json": {
              "model_id": "7538cb4cb77e4aff88444d64b2a5cf08",
              "version_major": 2,
              "version_minor": 0
            },
            "text/plain": [
              "preprocessor_config.json:   0%|          | 0.00/340 [00:00<?, ?B/s]"
            ]
          },
          "metadata": {},
          "output_type": "display_data"
        },
        {
          "data": {
            "application/vnd.jupyter.widget-view+json": {
              "model_id": "0b06fbc2482c4d7eae7ba2c647aa1df5",
              "version_major": 2,
              "version_minor": 0
            },
            "text/plain": [
              "model.bin:   0%|          | 0.00/3.09G [00:00<?, ?B/s]"
            ]
          },
          "metadata": {},
          "output_type": "display_data"
        },
        {
          "name": "stdout",
          "output_type": "stream",
          "text": [
            "No language specified, language will be first be detected for each audio file (increases inference time).\n"
          ]
        },
        {
          "name": "stderr",
          "output_type": "stream",
          "text": [
            "100%|█████████████████████████████████████| 16.9M/16.9M [00:01<00:00, 11.6MiB/s]\n",
            "INFO:pytorch_lightning.utilities.migration.utils:Lightning automatically upgraded your loaded checkpoint from v1.5.4 to v2.0.7. To apply the upgrade to your files permanently, run `python -m pytorch_lightning.utilities.upgrade_checkpoint --file ../root/.cache/torch/whisperx-vad-segmentation.bin`\n"
          ]
        },
        {
          "name": "stdout",
          "output_type": "stream",
          "text": [
            "Model was trained with pyannote.audio 0.0.1, yours is 3.1.1. Bad things might happen unless you revert pyannote.audio to 0.x.\n",
            "Model was trained with torch 1.10.0+cu102, yours is 2.2.1+cu121. Bad things might happen unless you revert torch to 1.x.\n",
            "Detected language: en (0.66) in first 30s of audio...\n",
            "Suppressing numeral and symbol tokens\n"
          ]
        }
      ],
      "source": [
        "compute_type = \"float16\"\n",
        "# or run on GPU with INT8\n",
        "# compute_type = \"int8_float16\"\n",
        "# or run on CPU with INT8\n",
        "# compute_type = \"int8\"\n",
        "\n",
        "if batch_size != 0:\n",
        "    whisper_results, language = transcribe_batched(\n",
        "        vocal_target,\n",
        "        language,\n",
        "        batch_size,\n",
        "        whisper_model_name,\n",
        "        compute_type,\n",
        "        suppress_numerals,\n",
        "        device,\n",
        "    )\n",
        "else:\n",
        "    whisper_results, language = transcribe(\n",
        "        vocal_target,\n",
        "        language,\n",
        "        whisper_model_name,\n",
        "        compute_type,\n",
        "        suppress_numerals,\n",
        "        device,\n",
        "    )"
      ]
    },
    {
      "cell_type": "markdown",
      "metadata": {
        "id": "AfGHFa1goBUJ"
      },
      "source": [
        "### Forced Alignment with Wav2Vec2.0: WhisperX\n",
        "---\n",
        "Forced alignment refers to the process by which orthographic transcriptions are aligned to audio recordings to automatically generate phone level segmentation.\n",
        "\n",
        "From default alignment models, `wav2vec2_langs` list combines all languages, offered by [PyTorch](https://pytorch.org/audio/stable/tutorials/forced_alignment_tutorial.html) and HuggingFace. Meanwhile, `whisper_langs` brings together languages supported by the Whisper model, including a wide array of global languages and additional language codes, ensuring extensive multilingual capabilities for Automatic Speech Recognition (ASR).\n"
      ]
    },
    {
      "cell_type": "markdown",
      "metadata": {
        "id": "3cSQG5qOmDbh"
      },
      "source": [
        "<img src=\"https://learnopencv.com/wp-content/uploads/2024/05/forced-alignment-wav2vec-Automatic-Speech-Recognition.png\">"
      ]
    },
    {
      "cell_type": "code",
      "execution_count": null,
      "metadata": {
        "id": "kD76iufYy6fY"
      },
      "outputs": [],
      "source": [
        "wav2vec2_langs = list(DEFAULT_ALIGN_MODELS_TORCH.keys()) + list(\n",
        "    DEFAULT_ALIGN_MODELS_HF.keys()\n",
        ")\n",
        "\n",
        "whisper_langs = sorted(LANGUAGES.keys()) + sorted(\n",
        "    [k.title() for k in TO_LANGUAGE_CODE.keys()]\n",
        ")"
      ]
    },
    {
      "cell_type": "markdown",
      "metadata": {
        "id": "-qDtVqCzYo4C"
      },
      "source": [
        "Here, the `_get_next_start_timestamp` function is responsible for figuring out when the next word in a list of word timestamps should start. If we're looking at the last word in the list, it simply returns the start time of that word. However, if the next word doesn't have a timestamp defined, things get a bit trickier. In that case, the function merges the current word with the word lacking a timestamp, essentially extending the current word's duration until it either encounters a word with a defined start time or reaches the end of the list. If it's the latter scenario, the function returns a predefined final timestamp value."
      ]
    },
    {
      "cell_type": "code",
      "execution_count": null,
      "metadata": {
        "id": "UbV-IBYTzHEM"
      },
      "outputs": [],
      "source": [
        "def _get_next_start_timestamp(word_timestamps, current_word_index, final_timestamp):\n",
        "    # if current word is the last word\n",
        "    if current_word_index == len(word_timestamps) - 1:\n",
        "        return word_timestamps[current_word_index][\"start\"]\n",
        "\n",
        "    next_word_index = current_word_index + 1\n",
        "    while current_word_index < len(word_timestamps) - 1:\n",
        "        if word_timestamps[next_word_index].get(\"start\") is None:\n",
        "            # if next word doesn't have a start timestamp\n",
        "            # merge it with the current word and delete it\n",
        "            word_timestamps[current_word_index][\"word\"] += (\n",
        "                \" \" + word_timestamps[next_word_index][\"word\"]\n",
        "            )\n",
        "\n",
        "            word_timestamps[next_word_index][\"word\"] = None\n",
        "            next_word_index += 1\n",
        "            if next_word_index == len(word_timestamps):\n",
        "                return final_timestamp\n",
        "\n",
        "        else:\n",
        "            return word_timestamps[next_word_index][\"start\"]"
      ]
    },
    {
      "cell_type": "markdown",
      "metadata": {
        "id": "Y0CSqrpJYsbf"
      },
      "source": [
        "\n",
        "This `filter_missing_timestamps` utility processes a list of word timestamps, ensuring each word has a start and end time by filling missing values based on adjacent timestamps or specified default boundaries, and compiles the cleaned list into `result`.\n"
      ]
    },
    {
      "cell_type": "code",
      "execution_count": null,
      "metadata": {
        "id": "R5zzvSjYzKny"
      },
      "outputs": [],
      "source": [
        "def filter_missing_timestamps(\n",
        "    word_timestamps, initial_timestamp=0, final_timestamp=None\n",
        "):\n",
        "    # handle the first and last word\n",
        "    if word_timestamps[0].get(\"start\") is None:\n",
        "        word_timestamps[0][\"start\"] = (\n",
        "            initial_timestamp if initial_timestamp is not None else 0\n",
        "        )\n",
        "        word_timestamps[0][\"end\"] = _get_next_start_timestamp(\n",
        "            word_timestamps, 0, final_timestamp\n",
        "        )\n",
        "\n",
        "    result = [\n",
        "        word_timestamps[0],\n",
        "    ]\n",
        "\n",
        "    for i, ws in enumerate(word_timestamps[1:], start=1):\n",
        "        # if ws doesn't have a start and end\n",
        "        # use the previous end as start and next start as end\n",
        "        if ws.get(\"start\") is None and ws.get(\"word\") is not None:\n",
        "            ws[\"start\"] = word_timestamps[i - 1][\"end\"]\n",
        "            ws[\"end\"] = _get_next_start_timestamp(word_timestamps, i, final_timestamp)\n",
        "\n",
        "        if ws[\"word\"] is not None:\n",
        "            result.append(ws)\n",
        "    return result"
      ]
    },
    {
      "cell_type": "markdown",
      "metadata": {
        "id": "KaDqRUPCYvTc"
      },
      "source": [
        "After Whisper generates the transcription, the next step in the WhisperX pipeline utilizes Wav2Vec 2.0 for forced alignment if the language is supported. If the language is unsupported and batch processing is not being used, WhisperX extracts the timestamps directly from Whisper's output instead. As we know  it is not as accurate as Wav2Vec's forced alignment, but this method ensures that each word in the transcription has an associated start and end time. Once the timestamping process is complete, the GPU memory is freed up to save resources.\n",
        "\n"
      ]
    },
    {
      "cell_type": "code",
      "execution_count": null,
      "metadata": {
        "colab": {
          "base_uri": "https://localhost:8080/"
        },
        "id": "jkHV6kLYoBUJ",
        "outputId": "ce330f7f-6d17-4895-ea61-6bf2b10202f2"
      },
      "outputs": [
        {
          "name": "stderr",
          "output_type": "stream",
          "text": [
            "Downloading: \"https://download.pytorch.org/torchaudio/models/wav2vec2_fairseq_base_ls960_asr_ls960.pth\" to /root/.cache/torch/hub/checkpoints/wav2vec2_fairseq_base_ls960_asr_ls960.pth\n",
            "100%|██████████| 360M/360M [00:01<00:00, 199MB/s]\n"
          ]
        }
      ],
      "source": [
        "if language in wav2vec2_langs:\n",
        "    device = \"cuda\"\n",
        "    alignment_model, metadata = whisperx.load_align_model(\n",
        "        language_code=language, device=device\n",
        "    )\n",
        "    result_aligned = whisperx.align(\n",
        "        whisper_results, alignment_model, metadata, vocal_target, device\n",
        "    )\n",
        "    word_timestamps = filter_missing_timestamps(\n",
        "        result_aligned[\"word_segments\"],\n",
        "        initial_timestamp=whisper_results[0].get(\"start\"),\n",
        "        final_timestamp=whisper_results[-1].get(\"end\"),\n",
        "    )\n",
        "\n",
        "    # clear gpu vram\n",
        "    del alignment_model\n",
        "    torch.cuda.empty_cache()\n",
        "else:\n",
        "    assert batch_size == 0, (  # TODO: add a better check for word timestamps existence\n",
        "        f\"Unsupported language: {language}, use --batch_size to 0\"\n",
        "        \" to generate word timestamps using whisper directly and fix this error.\"\n",
        "    )\n",
        "    word_timestamps = []\n",
        "    for segment in whisper_results:\n",
        "        for word in segment[\"words\"]:\n",
        "            word_timestamps.append({\"word\": word[2], \"start\": word[0], \"end\": word[1]})\n",
        "\n"
      ]
    },
    {
      "cell_type": "code",
      "execution_count": null,
      "metadata": {
        "colab": {
          "base_uri": "https://localhost:8080/"
        },
        "id": "MjcvIZ0g-H1_",
        "outputId": "1377a0e9-e5dd-4a58-8e0a-73cd146b0ef0"
      },
      "outputs": [
        {
          "name": "stdout",
          "output_type": "stream",
          "text": [
            "Transcription after Forced Alignment with Wav2Vec2.0:\n",
            "[{'word': \"I'm\", 'start': 1.155, 'end': 1.295, 'score': 0.46}, {'word': 'going', 'start': 1.315, 'end': 1.475, 'score': 0.89}, {'word': 'to', 'start': 1.515, 'end': 1.575, 'score': 0.764}, {'word': 'introduce', 'start': 1.635, 'end': 1.995, 'score': 0.881}, {'word': 'you', 'start': 2.036, 'end': 2.136, 'score': 0.858}, {'word': 'to', 'start': 2.176, 'end': 2.316, 'score': 0.97}, {'word': 'a', 'start': 2.336, 'end': 2.356, 'score': 0.0}, {'word': 'rather', 'start': 2.656, 'end': 2.896, 'score': 0.864}, {'word': 'remarkable', 'start': 2.956, 'end': 3.496, 'score': 0.94}, {'word': 'man.', 'start': 3.556, 'end': 3.776, 'score': 0.844}, {'word': \"He's\", 'start': 4.577, 'end': 4.717, 'score': 0.719}, {'word': 'Mr.', 'start': 4.757, 'end': 4.997, 'score': 0.64}, {'word': 'Michael', 'start': 5.037, 'end': 5.277, 'score': 0.463}, {'word': 'Fitzpatrick', 'start': 5.297, 'end': 5.898, 'score': 0.853}, {'word': 'from', 'start': 5.958, 'end': 6.138, 'score': 0.862}, {'word': 'Killeney,', 'start': 6.258, 'end': 6.678, 'score': 0.788}, {'word': 'Maynooth.', 'start': 7.118, 'end': 7.479, 'score': 0.774}, {'word': 'Now,', 'start': 8.619, 'end': 8.859, 'score': 0.895}, {'word': 'he', 'start': 10.02, 'end': 10.14, 'score': 0.67}, {'word': 'started', 'start': 10.18, 'end': 10.5, 'score': 0.948}, {'word': 'to', 'start': 10.56, 'end': 10.7, 'score': 0.704}, {'word': 'draw', 'start': 10.941, 'end': 11.161, 'score': 0.962}, {'word': 'the', 'start': 11.201, 'end': 11.301, 'score': 0.865}, {'word': 'old', 'start': 11.401, 'end': 11.541, 'score': 0.871}, {'word': 'age', 'start': 11.601, 'end': 11.801, 'score': 0.848}, {'word': 'pension', 'start': 11.841, 'end': 12.181, 'score': 0.849}, {'word': 'in', 'start': 12.201, 'end': 12.261, 'score': 0.75}, {'word': 'nineteen', 'start': 12.301, 'end': 12.541, 'score': 0.882}, {'word': 'twenty', 'start': 12.581, 'end': 12.802, 'score': 0.868}, {'word': 'seven', 'start': 12.862, 'end': 13.082, 'score': 0.919}, {'word': 'and', 'start': 13.922, 'end': 14.062, 'score': 0.634}, {'word': 'seven', 'start': 14.563, 'end': 14.803, 'score': 0.762}, {'word': 'years', 'start': 14.843, 'end': 15.023, 'score': 0.796}, {'word': 'ago', 'start': 15.083, 'end': 15.283, 'score': 0.837}, {'word': 'he', 'start': 15.463, 'end': 15.543, 'score': 0.565}, {'word': 'got', 'start': 15.583, 'end': 15.743, 'score': 0.844}, {'word': 'the', 'start': 15.783, 'end': 15.903, 'score': 0.744}, {'word': \"president's\", 'start': 16.043, 'end': 16.464, 'score': 0.924}, {'word': 'bounty', 'start': 16.504, 'end': 16.864, 'score': 0.689}, {'word': 'on', 'start': 17.644, 'end': 17.724, 'score': 0.834}, {'word': 'his', 'start': 17.764, 'end': 17.904, 'score': 0.609}, {'word': 'hundredth', 'start': 17.925, 'end': 18.205, 'score': 0.614}, {'word': 'birthday.', 'start': 18.245, 'end': 18.625, 'score': 0.961}, {'word': 'Now,', 'start': 19.665, 'end': 19.866, 'score': 0.868}, {'word': \"he's\", 'start': 20.046, 'end': 20.226, 'score': 0.806}, {'word': 'from', 'start': 20.246, 'end': 20.386, 'score': 0.985}, {'word': 'County', 'start': 20.446, 'end': 20.746, 'score': 0.921}, {'word': 'Clare.', 'start': 20.786, 'end': 21.146, 'score': 0.856}, {'word': 'He', 'start': 22.107, 'end': 22.187, 'score': 0.561}, {'word': 'came', 'start': 22.207, 'end': 22.387, 'score': 0.796}, {'word': 'up', 'start': 22.447, 'end': 22.527, 'score': 0.762}, {'word': 'from', 'start': 22.687, 'end': 22.927, 'score': 0.808}, {'word': 'Clare', 'start': 23.268, 'end': 23.608, 'score': 0.863}, {'word': 'in', 'start': 24.088, 'end': 24.148, 'score': 0.996}, {'word': 'nineteen', 'start': 24.188, 'end': 24.528, 'score': 0.847}, {'word': 'forty', 'start': 24.568, 'end': 24.948, 'score': 0.92}, {'word': 'to', 'start': 25.089, 'end': 25.249, 'score': 0.789}, {'word': 'a', 'start': 25.269, 'end': 25.289, 'score': 0.0}, {'word': 'land', 'start': 25.469, 'end': 25.649, 'score': 0.86}, {'word': 'commission', 'start': 25.669, 'end': 26.029, 'score': 0.936}, {'word': 'farm', 'start': 26.049, 'end': 26.349, 'score': 0.803}, {'word': 'in', 'start': 27.09, 'end': 27.21, 'score': 0.833}, {'word': 'Maynooth,', 'start': 27.35, 'end': 27.71, 'score': 0.692}, {'word': 'where', 'start': 28.11, 'end': 28.29, 'score': 0.988}, {'word': 'he', 'start': 28.35, 'end': 28.45, 'score': 0.827}, {'word': 'lives', 'start': 28.49, 'end': 28.711, 'score': 0.896}, {'word': 'now.', 'start': 28.771, 'end': 28.891, 'score': 0.909}, {'word': 'You', 'start': 29.81, 'end': 29.97, 'score': 0.73}, {'word': 'have', 'start': 30.01, 'end': 30.21, 'score': 0.96}, {'word': 'seen', 'start': 30.431, 'end': 30.671, 'score': 0.895}, {'word': 'a', 'start': 30.691, 'end': 30.711, 'score': 0.0}, {'word': 'lot', 'start': 31.071, 'end': 31.211, 'score': 0.992}, {'word': 'of', 'start': 31.251, 'end': 31.311, 'score': 0.744}, {'word': 'changes,', 'start': 31.371, 'end': 31.832, 'score': 0.771}, {'word': 'Mr', 'start': 31.912, 'end': 32.112, 'score': 0.736}, {'word': 'Fitzpatrick,', 'start': 32.132, 'end': 32.672, 'score': 0.861}, {'word': 'in', 'start': 32.792, 'end': 32.892, 'score': 0.961}, {'word': 'farming.', 'start': 32.992, 'end': 33.453, 'score': 0.661}, {'word': 'What', 'start': 34.173, 'end': 34.273, 'score': 1.0}, {'word': 'would', 'start': 34.293, 'end': 34.434, 'score': 0.926}, {'word': 'you', 'start': 34.454, 'end': 34.554, 'score': 0.716}, {'word': 'say', 'start': 34.574, 'end': 34.734, 'score': 0.713}, {'word': 'was', 'start': 34.774, 'end': 34.874, 'score': 0.899}, {'word': 'the', 'start': 34.894, 'end': 34.974, 'score': 0.832}, {'word': 'biggest', 'start': 34.994, 'end': 35.254, 'score': 0.875}, {'word': 'change?', 'start': 35.294, 'end': 35.655, 'score': 0.732}, {'word': 'Well,', 'start': 36.195, 'end': 36.435, 'score': 0.462}, {'word': 'machinery.', 'start': 36.475, 'end': 36.996, 'score': 0.92}, {'word': 'And', 'start': 37.956, 'end': 38.056, 'score': 0.813}, {'word': 'what', 'start': 38.136, 'end': 38.297, 'score': 0.834}, {'word': 'sort', 'start': 38.337, 'end': 38.517, 'score': 0.99}, {'word': 'of', 'start': 38.557, 'end': 38.597, 'score': 0.988}, {'word': 'a', 'start': 38.637, 'end': 38.697, 'score': 0.306}, {'word': 'machine', 'start': 38.737, 'end': 39.077, 'score': 0.828}, {'word': 'would', 'start': 39.097, 'end': 39.798, 'score': 0.193}, {'word': 'you', 'start': 40.418, 'end': 40.558, 'score': 0.257}, {'word': 'think', 'start': 40.578, 'end': 40.738, 'score': 0.898}, {'word': 'made', 'start': 40.879, 'end': 41.039, 'score': 0.787}, {'word': 'the', 'start': 41.059, 'end': 41.139, 'score': 0.826}, {'word': 'biggest', 'start': 41.159, 'end': 41.419, 'score': 0.845}, {'word': 'impression?', 'start': 41.459, 'end': 41.879, 'score': 0.868}, {'word': 'Well,', 'start': 42.139, 'end': 42.34, 'score': 0.779}, {'word': 'the', 'start': 43.34, 'end': 43.44, 'score': 0.868}, {'word': 'reaper', 'start': 43.481, 'end': 43.781, 'score': 0.791}, {'word': 'and', 'start': 43.821, 'end': 43.921, 'score': 0.449}, {'word': 'binder', 'start': 43.961, 'end': 44.161, 'score': 0.407}, {'word': 'is', 'start': 44.201, 'end': 44.301, 'score': 0.351}, {'word': 'a', 'start': 44.361, 'end': 44.421, 'score': 0.622}, {'word': 'great', 'start': 44.441, 'end': 44.701, 'score': 0.705}, {'word': 'one,', 'start': 44.762, 'end': 44.862, 'score': 0.557}, {'word': 'but', 'start': 45.262, 'end': 45.402, 'score': 0.867}, {'word': 'by', 'start': 45.442, 'end': 45.602, 'score': 0.7}, {'word': 'God,', 'start': 45.622, 'end': 45.862, 'score': 0.701}, {'word': 'the', 'start': 46.183, 'end': 46.323, 'score': 0.65}, {'word': 'one', 'start': 46.383, 'end': 46.503, 'score': 0.881}, {'word': 'for', 'start': 46.523, 'end': 46.723, 'score': 0.445}, {'word': 'cutting', 'start': 47.063, 'end': 47.364, 'score': 0.549}, {'word': 'up', 'start': 47.424, 'end': 47.504, 'score': 0.888}, {'word': 'the', 'start': 47.544, 'end': 47.644, 'score': 0.852}, {'word': 'ground', 'start': 47.664, 'end': 47.944, 'score': 0.766}, {'word': 'and', 'start': 47.984, 'end': 48.084, 'score': 0.698}, {'word': 'throwing', 'start': 48.364, 'end': 48.604, 'score': 0.614}, {'word': 'the', 'start': 48.624, 'end': 48.685, 'score': 0.001}, {'word': 'crop', 'start': 48.705, 'end': 48.925, 'score': 0.881}, {'word': 'is', 'start': 49.365, 'end': 49.465, 'score': 0.825}, {'word': 'a', 'start': 49.525, 'end': 49.565, 'score': 0.834}, {'word': 'powerful', 'start': 49.605, 'end': 49.925, 'score': 0.397}, {'word': 'one', 'start': 50.026, 'end': 50.106, 'score': 0.545}, {'word': 'too.', 'start': 50.126, 'end': 50.246, 'score': 0.343}, {'word': 'Well,', 'start': 51.271, 'end': 51.651, 'score': 0.559}, {'word': 'you', 'start': 51.891, 'end': 51.971, 'score': 0.964}, {'word': 'were', 'start': 52.011, 'end': 52.112, 'score': 0.948}, {'word': 'saying', 'start': 52.152, 'end': 52.892, 'score': 0.891}, {'word': 'at', 'start': 53.072, 'end': 53.112, 'score': 0.992}, {'word': 'the', 'start': 53.152, 'end': 53.232, 'score': 0.789}, {'word': 'time', 'start': 53.252, 'end': 53.452, 'score': 0.855}, {'word': 'you', 'start': 53.492, 'end': 53.613, 'score': 0.876}, {'word': 'saw', 'start': 53.653, 'end': 53.873, 'score': 0.852}, {'word': 'the', 'start': 53.933, 'end': 54.033, 'score': 0.864}, {'word': 'mowing', 'start': 54.053, 'end': 54.293, 'score': 0.9}, {'word': 'machine', 'start': 54.333, 'end': 54.693, 'score': 0.863}, {'word': 'first,', 'start': 54.973, 'end': 55.214, 'score': 0.888}, {'word': 'it', 'start': 55.934, 'end': 56.014, 'score': 0.796}, {'word': 'made', 'start': 56.074, 'end': 56.234, 'score': 0.915}, {'word': 'a', 'start': 56.274, 'end': 56.314, 'score': 0.508}, {'word': 'tremendous', 'start': 56.354, 'end': 56.735, 'score': 0.902}, {'word': 'impression', 'start': 56.775, 'end': 57.135, 'score': 0.903}, {'word': 'on', 'start': 57.195, 'end': 57.255, 'score': 0.964}, {'word': 'you.', 'start': 57.275, 'end': 57.395, 'score': 0.756}, {'word': 'It', 'start': 57.475, 'end': 57.595, 'score': 0.598}, {'word': 'did,', 'start': 57.635, 'end': 57.795, 'score': 0.417}, {'word': 'because', 'start': 58.256, 'end': 58.536, 'score': 0.936}, {'word': 'you', 'start': 58.556, 'end': 58.696, 'score': 0.378}, {'word': \"didn't\", 'start': 58.716, 'end': 58.836, 'score': 0.166}, {'word': 'wonder', 'start': 58.856, 'end': 59.256, 'score': 0.781}, {'word': 'how', 'start': 59.677, 'end': 59.917, 'score': 0.848}, {'word': 'could', 'start': 59.937, 'end': 60.077, 'score': 0.389}, {'word': 'it', 'start': 60.137, 'end': 60.217, 'score': 0.536}, {'word': 'be', 'start': 60.257, 'end': 60.377, 'score': 0.698}, {'word': 'done', 'start': 60.397, 'end': 60.557, 'score': 0.606}, {'word': 'at', 'start': 60.597, 'end': 60.657, 'score': 0.536}, {'word': 'all.', 'start': 60.797, 'end': 60.917, 'score': 0.677}, {'word': 'What', 'start': 62.438, 'end': 62.578, 'score': 0.866}, {'word': 'was', 'start': 62.598, 'end': 62.719, 'score': 0.757}, {'word': 'the', 'start': 63.179, 'end': 63.319, 'score': 0.974}, {'word': 'reaction', 'start': 63.499, 'end': 64.099, 'score': 0.867}, {'word': 'of', 'start': 64.34, 'end': 64.42, 'score': 0.835}, {'word': 'the', 'start': 64.46, 'end': 64.66, 'score': 0.731}, {'word': 'people', 'start': 65.06, 'end': 65.4, 'score': 0.775}, {'word': 'at', 'start': 65.52, 'end': 65.58, 'score': 0.792}, {'word': 'that', 'start': 65.62, 'end': 65.761, 'score': 0.855}, {'word': 'time', 'start': 65.821, 'end': 66.081, 'score': 0.948}, {'word': 'to', 'start': 66.121, 'end': 66.201, 'score': 0.959}, {'word': 'the', 'start': 66.221, 'end': 66.301, 'score': 0.818}, {'word': 'mowing', 'start': 66.321, 'end': 66.501, 'score': 0.424}, {'word': 'machine,', 'start': 66.541, 'end': 66.801, 'score': 0.838}, {'word': 'Mr.', 'start': 66.821, 'end': 66.881, 'score': 0.169}, {'word': 'Scott?', 'start': 66.901, 'end': 67.021, 'score': 0.134}, {'word': 'They', 'start': 67.041, 'end': 67.262, 'score': 0.378}, {'word': 'had', 'start': 67.302, 'end': 67.522, 'score': 0.581}, {'word': 'money,', 'start': 67.582, 'end': 67.842, 'score': 0.82}, {'word': 'but', 'start': 67.882, 'end': 68.042, 'score': 0.558}, {'word': 'they', 'start': 68.062, 'end': 68.182, 'score': 0.205}, {'word': \"weren't\", 'start': 68.202, 'end': 68.362, 'score': 0.212}, {'word': 'minding', 'start': 68.542, 'end': 68.863, 'score': 0.745}, {'word': 'it.', 'start': 68.923, 'end': 68.983, 'score': 0.504}, {'word': 'They', 'start': 69.003, 'end': 69.143, 'score': 0.416}, {'word': 'could', 'start': 69.163, 'end': 69.303, 'score': 0.355}, {'word': 'afford', 'start': 69.363, 'end': 69.743, 'score': 0.485}, {'word': 'it,', 'start': 69.783, 'end': 69.883, 'score': 0.622}, {'word': 'but', 'start': 69.923, 'end': 70.043, 'score': 0.872}, {'word': 'more', 'start': 70.103, 'end': 70.203, 'score': 0.174}, {'word': 'of', 'start': 70.424, 'end': 70.504, 'score': 0.713}, {'word': 'them', 'start': 70.524, 'end': 70.624, 'score': 0.163}, {'word': 'got', 'start': 70.644, 'end': 70.704, 'score': 0.006}, {'word': 'out', 'start': 72.005, 'end': 72.145, 'score': 0.384}, {'word': 'of', 'start': 72.205, 'end': 72.305, 'score': 0.41}, {'word': 'it.', 'start': 72.345, 'end': 72.405, 'score': 0.657}, {'word': 'And', 'start': 73.757, 'end': 73.857, 'score': 0.829}, {'word': 'some', 'start': 73.918, 'end': 74.078, 'score': 0.794}, {'word': 'of', 'start': 74.118, 'end': 74.178, 'score': 0.788}, {'word': 'them,', 'start': 74.198, 'end': 74.319, 'score': 0.781}, {'word': 'I', 'start': 74.359, 'end': 74.439, 'score': 0.818}, {'word': 'think', 'start': 74.459, 'end': 74.639, 'score': 0.949}, {'word': 'you', 'start': 74.659, 'end': 74.78, 'score': 0.853}, {'word': 'told', 'start': 74.8, 'end': 75.0, 'score': 0.862}, {'word': 'me,', 'start': 75.04, 'end': 75.181, 'score': 0.7}, {'word': \"wouldn't\", 'start': 75.822, 'end': 76.083, 'score': 0.822}, {'word': 'have', 'start': 76.123, 'end': 76.243, 'score': 0.913}, {'word': 'it', 'start': 76.283, 'end': 76.324, 'score': 0.624}, {'word': 'on', 'start': 76.384, 'end': 76.444, 'score': 0.928}, {'word': 'the', 'start': 76.464, 'end': 76.544, 'score': 0.849}, {'word': 'land', 'start': 76.564, 'end': 76.745, 'score': 0.927}, {'word': 'at', 'start': 76.805, 'end': 76.865, 'score': 0.767}, {'word': 'all.', 'start': 77.005, 'end': 77.085, 'score': 0.995}, {'word': 'Do', 'start': 84.644, 'end': 85.705, 'score': 0.6}, {'word': 'you', 'start': 86.285, 'end': 87.646, 'score': 0.614}, {'word': 'remember', 'start': 88.606, 'end': 89.086, 'score': 0.703}, {'word': 'cutting', 'start': 91.427, 'end': 91.667, 'score': 0.94}, {'word': 'the', 'start': 91.687, 'end': 91.767, 'score': 0.785}, {'word': 'harvest', 'start': 91.807, 'end': 92.128, 'score': 0.792}, {'word': 'with', 'start': 92.148, 'end': 92.248, 'score': 0.853}, {'word': 'the', 'start': 92.268, 'end': 92.328, 'score': 0.541}, {'word': 'reaping', 'start': 92.368, 'end': 92.608, 'score': 0.634}, {'word': 'hook?', 'start': 92.628, 'end': 92.828, 'score': 0.866}, {'word': 'How', 'start': 93.008, 'end': 93.128, 'score': 0.365}, {'word': 'do', 'start': 93.148, 'end': 93.248, 'score': 0.34}, {'word': 'you', 'start': 93.288, 'end': 93.368, 'score': 0.194}, {'word': 'think', 'start': 93.388, 'end': 93.568, 'score': 0.343}, {'word': 'that', 'start': 93.608, 'end': 93.888, 'score': 0.457}, {'word': 'the', 'start': 93.908, 'end': 94.008, 'score': 0.278}, {'word': 'reaping', 'start': 94.108, 'end': 94.429, 'score': 0.536}, {'word': 'hook', 'start': 95.389, 'end': 95.689, 'score': 0.628}, {'word': 'compares', 'start': 95.849, 'end': 97.41, 'score': 0.634}, {'word': 'with', 'start': 97.43, 'end': 97.59, 'score': 0.362}, {'word': 'the', 'start': 97.61, 'end': 97.77, 'score': 0.513}, {'word': 'combine', 'start': 97.79, 'end': 98.25, 'score': 0.474}, {'word': 'at', 'start': 98.29, 'end': 98.37, 'score': 0.286}, {'word': 'the', 'start': 98.41, 'end': 98.51, 'score': 0.271}, {'word': 'present', 'start': 98.53, 'end': 98.77, 'score': 0.343}, {'word': 'time?', 'start': 98.81, 'end': 98.911, 'score': 0.127}, {'word': 'Because', 'start': 110.498, 'end': 110.758, 'score': 0.278}, {'word': 'if', 'start': 110.798, 'end': 110.858, 'score': 0.125}, {'word': 'you', 'start': 110.878, 'end': 110.978, 'score': 0.493}, {'word': \"couldn't\", 'start': 111.018, 'end': 111.199, 'score': 0.298}, {'word': 'find', 'start': 111.219, 'end': 111.419, 'score': 0.616}, {'word': 'it,', 'start': 111.439, 'end': 111.479, 'score': 0.06}, {'word': 'if', 'start': 111.499, 'end': 111.559, 'score': 0.322}, {'word': 'you', 'start': 111.579, 'end': 111.739, 'score': 0.393}, {'word': \"wouldn't\", 'start': 111.779, 'end': 112.079, 'score': 0.354}, {'word': 'want', 'start': 112.099, 'end': 112.299, 'score': 0.612}, {'word': 'it,', 'start': 112.359, 'end': 112.46, 'score': 0.496}, {'word': 'start', 'start': 112.52, 'end': 112.8, 'score': 0.604}, {'word': 'to', 'start': 112.82, 'end': 112.94, 'score': 0.489}, {'word': 'put', 'start': 112.96, 'end': 113.08, 'score': 0.401}, {'word': 'it', 'start': 113.1, 'end': 113.14, 'score': 0.017}, {'word': 'there,', 'start': 113.22, 'end': 113.4, 'score': 0.468}, {'word': 'if', 'start': 113.961, 'end': 114.061, 'score': 0.718}, {'word': 'you', 'start': 114.081, 'end': 114.241, 'score': 0.308}, {'word': 'put', 'start': 114.281, 'end': 114.481, 'score': 0.637}, {'word': 'a', 'start': 114.581, 'end': 114.621, 'score': 0.45}, {'word': 'rake', 'start': 114.641, 'end': 114.741, 'score': 0.14}, {'word': 'around', 'start': 114.781, 'end': 115.021, 'score': 0.608}, {'word': 'the', 'start': 115.041, 'end': 115.102, 'score': 0.014}, {'word': 'vine,', 'start': 115.122, 'end': 115.202, 'score': 0.037}, {'word': 'there', 'start': 115.222, 'end': 115.342, 'score': 0.291}, {'word': \"wouldn't\", 'start': 115.362, 'end': 115.582, 'score': 0.822}, {'word': 'be', 'start': 115.602, 'end': 115.702, 'score': 0.836}, {'word': 'no', 'start': 115.782, 'end': 115.962, 'score': 0.716}, {'word': 'mice.', 'start': 116.002, 'end': 116.242, 'score': 0.448}, {'word': 'Now,', 'start': 116.743, 'end': 116.923, 'score': 0.834}, {'word': 'you', 'start': 117.143, 'end': 117.323, 'score': 0.938}, {'word': 'also', 'start': 117.463, 'end': 117.904, 'score': 0.962}, {'word': 'remember,', 'start': 118.164, 'end': 118.604, 'score': 0.874}, {'word': 'I', 'start': 118.664, 'end': 118.724, 'score': 0.703}, {'word': 'think,', 'start': 118.764, 'end': 119.065, 'score': 0.95}, {'word': 'a', 'start': 119.145, 'end': 119.205, 'score': 0.753}, {'word': 'rather', 'start': 119.245, 'end': 119.485, 'score': 0.957}, {'word': 'historic', 'start': 119.605, 'end': 120.085, 'score': 0.852}, {'word': 'thing', 'start': 120.145, 'end': 120.446, 'score': 0.91}, {'word': 'in', 'start': 120.726, 'end': 120.846, 'score': 0.893}, {'word': 'the', 'start': 121.286, 'end': 121.386, 'score': 0.939}, {'word': 'land', 'start': 121.426, 'end': 121.707, 'score': 0.848}, {'word': 'history', 'start': 121.747, 'end': 122.047, 'score': 0.828}, {'word': 'of', 'start': 122.067, 'end': 122.127, 'score': 0.756}, {'word': 'this', 'start': 122.167, 'end': 122.287, 'score': 0.881}, {'word': 'country,', 'start': 122.347, 'end': 122.727, 'score': 0.909}, {'word': 'the', 'start': 122.787, 'end': 122.927, 'score': 0.976}, {'word': 'Bowdike', 'start': 123.028, 'end': 124.088, 'score': 0.749}, {'word': 'evictions.', 'start': 124.168, 'end': 124.629, 'score': 0.85}, {'word': 'I', 'start': 124.889, 'end': 125.309, 'score': 0.602}, {'word': 'do.', 'start': 126.11, 'end': 126.27, 'score': 0.596}, {'word': 'Could', 'start': 126.49, 'end': 126.61, 'score': 0.965}, {'word': 'you', 'start': 126.65, 'end': 126.73, 'score': 0.768}, {'word': 'describe', 'start': 126.77, 'end': 127.191, 'score': 0.682}, {'word': 'for', 'start': 127.211, 'end': 127.351, 'score': 0.927}, {'word': 'us', 'start': 127.411, 'end': 127.511, 'score': 0.709}, {'word': 'what', 'start': 127.911, 'end': 128.071, 'score': 0.879}, {'word': 'happened', 'start': 128.131, 'end': 128.452, 'score': 0.868}, {'word': 'at', 'start': 128.592, 'end': 128.672, 'score': 0.79}, {'word': 'those', 'start': 128.692, 'end': 128.892, 'score': 0.87}, {'word': 'evictions?', 'start': 128.932, 'end': 129.252, 'score': 0.883}, {'word': 'You', 'start': 129.292, 'end': 129.372, 'score': 0.997}, {'word': 'were', 'start': 129.412, 'end': 129.532, 'score': 0.784}, {'word': 'at', 'start': 129.593, 'end': 129.673, 'score': 0.684}, {'word': 'them.', 'start': 129.693, 'end': 129.833, 'score': 0.643}, {'word': 'I', 'start': 130.113, 'end': 130.173, 'score': 0.22}, {'word': 'was', 'start': 130.193, 'end': 130.313, 'score': 0.388}, {'word': 'at', 'start': 130.373, 'end': 130.473, 'score': 0.49}, {'word': 'one', 'start': 130.553, 'end': 130.653, 'score': 0.722}, {'word': 'of', 'start': 130.713, 'end': 130.773, 'score': 0.798}, {'word': 'them', 'start': 130.793, 'end': 131.014, 'score': 0.572}, {'word': 'about', 'start': 132.335, 'end': 132.655, 'score': 0.771}, {'word': 'five', 'start': 132.735, 'end': 133.415, 'score': 0.703}, {'word': 'hours.', 'start': 135.017, 'end': 135.997, 'score': 0.535}, {'word': 'And', 'start': 136.298, 'end': 136.398, 'score': 0.756}, {'word': 'what', 'start': 136.438, 'end': 136.598, 'score': 0.931}, {'word': 'happened?', 'start': 136.618, 'end': 136.918, 'score': 0.913}, {'word': 'Ah,', 'start': 137.478, 'end': 138.259, 'score': 0.651}, {'word': 'that', 'start': 138.499, 'end': 138.619, 'score': 0.523}, {'word': 'was', 'start': 138.659, 'end': 138.759, 'score': 0.404}, {'word': 'very', 'start': 138.799, 'end': 138.96, 'score': 0.923}, {'word': 'cruel.', 'start': 139.02, 'end': 139.26, 'score': 0.919}, {'word': 'They', 'start': 140.526, 'end': 140.646, 'score': 0.612}, {'word': 'throw', 'start': 140.686, 'end': 141.066, 'score': 0.656}, {'word': 'children', 'start': 141.806, 'end': 142.146, 'score': 0.57}, {'word': 'and', 'start': 142.206, 'end': 142.306, 'score': 0.777}, {'word': 'women', 'start': 142.346, 'end': 142.626, 'score': 0.928}, {'word': 'on', 'start': 142.686, 'end': 142.766, 'score': 0.402}, {'word': 'the', 'start': 142.786, 'end': 142.886, 'score': 0.805}, {'word': 'roadside.', 'start': 142.906, 'end': 143.347, 'score': 0.565}, {'word': 'Well,', 'start': 143.707, 'end': 143.847, 'score': 0.535}, {'word': 'there', 'start': 143.867, 'end': 144.007, 'score': 0.919}, {'word': 'was', 'start': 144.047, 'end': 144.147, 'score': 0.769}, {'word': 'one', 'start': 144.247, 'end': 144.347, 'score': 0.946}, {'word': 'of', 'start': 144.367, 'end': 144.407, 'score': 0.002}, {'word': 'them', 'start': 144.427, 'end': 144.507, 'score': 0.002}, {'word': 'thrown', 'start': 144.547, 'end': 144.827, 'score': 0.858}, {'word': 'out,', 'start': 144.887, 'end': 145.027, 'score': 0.534}, {'word': 'but', 'start': 145.067, 'end': 145.327, 'score': 0.63}, {'word': 'one', 'start': 145.427, 'end': 145.527, 'score': 0.886}, {'word': 'day', 'start': 145.547, 'end': 145.727, 'score': 0.771}, {'word': 'I', 'start': 145.807, 'end': 145.907, 'score': 0.565}, {'word': 'was', 'start': 145.927, 'end': 146.047, 'score': 0.523}, {'word': 'in', 'start': 146.087, 'end': 146.167, 'score': 0.574}, {'word': 'it,', 'start': 146.227, 'end': 146.307, 'score': 0.396}, {'word': 'and', 'start': 146.907, 'end': 147.007, 'score': 0.711}, {'word': 'the', 'start': 147.027, 'end': 147.127, 'score': 0.696}, {'word': 'baby', 'start': 147.167, 'end': 147.507, 'score': 0.918}, {'word': 'was', 'start': 147.547, 'end': 147.727, 'score': 0.8}, {'word': 'only', 'start': 147.807, 'end': 148.047, 'score': 0.94}, {'word': 'about', 'start': 148.067, 'end': 148.327, 'score': 0.667}, {'word': 'three', 'start': 148.347, 'end': 148.547, 'score': 0.601}, {'word': 'days', 'start': 148.587, 'end': 148.807, 'score': 0.69}, {'word': 'old.', 'start': 148.967, 'end': 149.128, 'score': 0.625}, {'word': 'And', 'start': 149.768, 'end': 149.848, 'score': 0.841}, {'word': 'they', 'start': 149.868, 'end': 149.988, 'score': 0.731}, {'word': 'were', 'start': 150.028, 'end': 150.128, 'score': 0.387}, {'word': 'sitting,', 'start': 150.148, 'end': 150.468, 'score': 0.63}, {'word': 'they', 'start': 150.768, 'end': 150.888, 'score': 0.795}, {'word': 'were', 'start': 150.928, 'end': 151.048, 'score': 0.514}, {'word': 'thrown', 'start': 151.068, 'end': 151.288, 'score': 0.517}, {'word': 'on', 'start': 151.328, 'end': 151.408, 'score': 0.49}, {'word': 'the', 'start': 151.448, 'end': 151.548, 'score': 0.575}, {'word': 'bank', 'start': 151.568, 'end': 151.748, 'score': 0.876}, {'word': 'of', 'start': 151.808, 'end': 151.868, 'score': 0.314}, {'word': 'the', 'start': 151.888, 'end': 152.028, 'score': 0.266}, {'word': 'river,', 'start': 152.048, 'end': 152.708, 'score': 0.194}, {'word': 'and', 'start': 152.728, 'end': 152.848, 'score': 0.431}, {'word': 'they', 'start': 152.868, 'end': 152.988, 'score': 0.172}, {'word': 'went', 'start': 153.008, 'end': 153.108, 'score': 0.132}, {'word': 'off', 'start': 153.128, 'end': 153.188, 'score': 0.088}, {'word': 'on', 'start': 153.208, 'end': 153.268, 'score': 0.324}, {'word': 'their', 'start': 153.308, 'end': 153.448, 'score': 0.249}, {'word': 'legs.', 'start': 153.468, 'end': 153.728, 'score': 0.534}, {'word': 'Oh,', 'start': 155.149, 'end': 155.189, 'score': 0.012}, {'word': 'that', 'start': 155.209, 'end': 155.329, 'score': 0.2}, {'word': 'was', 'start': 155.349, 'end': 155.509, 'score': 0.563}, {'word': 'cruel.', 'start': 155.529, 'end': 155.869, 'score': 0.718}, {'word': 'And', 'start': 156.829, 'end': 156.929, 'score': 0.868}, {'word': 'how', 'start': 156.989, 'end': 157.149, 'score': 0.97}, {'word': 'about', 'start': 157.189, 'end': 157.449, 'score': 0.908}, {'word': 'the', 'start': 157.489, 'end': 157.689, 'score': 0.836}, {'word': 'type', 'start': 160.069, 'end': 160.289, 'score': 0.538}, {'word': 'of', 'start': 160.309, 'end': 160.349, 'score': 0.01}, {'word': 'food', 'start': 160.409, 'end': 160.65, 'score': 0.874}, {'word': 'you', 'start': 160.67, 'end': 160.79, 'score': 0.9}, {'word': 'had', 'start': 160.81, 'end': 160.91, 'score': 0.946}, {'word': 'to', 'start': 160.95, 'end': 161.03, 'score': 0.756}, {'word': 'eat', 'start': 161.09, 'end': 161.21, 'score': 0.903}, {'word': 'at', 'start': 161.25, 'end': 161.29, 'score': 0.944}, {'word': 'that', 'start': 161.33, 'end': 161.47, 'score': 0.752}, {'word': 'time,', 'start': 161.49, 'end': 161.67, 'score': 0.909}, {'word': 'Mr.', 'start': 161.71, 'end': 161.89, 'score': 0.55}, {'word': 'Fitzpatrick?', 'start': 161.91, 'end': 162.35, 'score': 0.46}, {'word': 'What', 'start': 162.37, 'end': 162.53, 'score': 0.866}, {'word': 'sort', 'start': 162.55, 'end': 162.73, 'score': 0.806}, {'word': 'of,', 'start': 162.75, 'end': 162.81, 'score': 0.693}, {'word': 'what', 'start': 163.07, 'end': 163.19, 'score': 0.864}, {'word': 'did', 'start': 163.21, 'end': 163.29, 'score': 0.423}, {'word': 'you', 'start': 163.31, 'end': 163.41, 'score': 0.244}, {'word': 'live', 'start': 163.43, 'end': 163.55, 'score': 0.926}, {'word': 'on?', 'start': 163.63, 'end': 163.71, 'score': 0.9}, {'word': 'Well,', 'start': 163.87, 'end': 164.47, 'score': 0.64}, {'word': 'we', 'start': 164.75, 'end': 164.89, 'score': 0.974}, {'word': 'had', 'start': 164.93, 'end': 165.05, 'score': 0.805}, {'word': 'to', 'start': 165.07, 'end': 165.21, 'score': 0.582}, {'word': 'live', 'start': 165.23, 'end': 165.75, 'score': 0.505}, {'word': 'there', 'start': 165.79, 'end': 165.99, 'score': 0.792}, {'word': 'a', 'start': 166.03, 'end': 166.07, 'score': 0.922}, {'word': 'long', 'start': 166.09, 'end': 166.311, 'score': 0.852}, {'word': 'time', 'start': 166.331, 'end': 166.571, 'score': 0.528}, {'word': 'on', 'start': 167.071, 'end': 167.191, 'score': 0.272}, {'word': 'an', 'start': 167.231, 'end': 167.291, 'score': 0.646}, {'word': 'Indian', 'start': 167.371, 'end': 167.651, 'score': 0.74}, {'word': 'maid', 'start': 167.671, 'end': 167.971, 'score': 0.705}, {'word': 'and', 'start': 168.191, 'end': 168.331, 'score': 0.838}, {'word': 'flowers.', 'start': 168.451, 'end': 168.771, 'score': 0.544}]\n"
          ]
        }
      ],
      "source": [
        "print(\"Transcription after Forced Alignment with Wav2Vec2.0:\")\n",
        "print(word_timestamps)"
      ]
    },
    {
      "cell_type": "markdown",
      "metadata": {
        "id": "EykjKgJnlvJp"
      },
      "source": [
        "<img src=\"https://learnopencv.com/wp-content/uploads/2024/05/ASRDiarization-Automatic-Speech-Recognition.jpg\">"
      ]
    },
    {
      "cell_type": "markdown",
      "metadata": {
        "id": "P2l3cNnnzuz3"
      },
      "source": [
        "## **NEMO: DIARIZATION PIPELINE**\n",
        "\n",
        "Now let’s understand the Nemo inference  pipeline and configuration. The input audio is passed to a  MarbleNet VAD model which helps to find the occurrence of voice as timestamps. Following this it's passed to a TitatNet model which does speaker extraction as embeddings. Finally a MSDD model adeptly does speaker diarization with exact timestamps with milliseconds precision. Now let’s describe these one by one in code implementation.\n"
      ]
    },
    {
      "cell_type": "markdown",
      "metadata": {
        "id": "iw8tyL9KZ8Ts"
      },
      "source": [
        "**Nemo Models Configuration**\n",
        "\n",
        "Ok, it's time to define configuration for Nemo, so the create_config  utility function is used to set up the environment for speaker diarization. As we are processing a support call in our experiment , this fetches a YAML configuration file and it downloads a pre-configured model from NVIDIA's NeMo project that is optimized for telephonic or phone call audio. Finally, it generates a JSON manifest file. This manifest file contains metadata about the audio file that needs to be processed, like the file path and name.\n",
        "\n",
        "If you want to try other audio samples, like online meetings or general conversations, feel free to change the domain type accordingly in the configuration.\n"
      ]
    },
    {
      "cell_type": "markdown",
      "metadata": {
        "id": "kycqUIVpyj2a"
      },
      "source": [
        "#### **VAD Configuration**\n",
        "\n",
        "\n",
        "Voice Activity Detection (VAD) is the detection of the presence or absence of human speech for a particular timestamp which is helpful in diarization.\n",
        "As discussed initially, we will use a lightweight vad_multilingual_marblenet having trained on Google Speech Command v2 dataset offering robust and real time VAD.\n",
        "\n",
        "For our tasks which require speaker verification and to capture the essence of the speaker's voice, TitaNet-Large model is used. It uses 1D depth-wise separable convolutions enhanced with Squeeze-and-Excitation (SE) layers and a channel attention-based statistics pooling layer. This architecture efficiently converts variable-length speech utterances into fixed-length speaker embeddings.\n"
      ]
    },
    {
      "cell_type": "markdown",
      "metadata": {
        "id": "4WFtUTxgaKWG"
      },
      "source": [
        "Additionally, we will configure our  system, that not to assume a fixed number of speakers (`config.diarizer.clustering.parameters.oracle_num_speakers = False`), allowing it to dynamically adapt to the actual number of speakers in each audio session.\n",
        "\n",
        "Then we will specify the `config.diarizer.vad.model_path`, which is a pretrained model that optimizes voice activity detection with onset sensitivity set at `0.8` and offset at `0.6`. These settings enhance the VAD’s responsiveness, while a `pad_offset` of  `-0.05` fine-tunes segment endpoints for cleaner and more precise speech boundaries.\n",
        "\n"
      ]
    },
    {
      "cell_type": "code",
      "execution_count": null,
      "metadata": {
        "id": "RSDbckUyyilV"
      },
      "outputs": [],
      "source": [
        "def create_config(output_dir):\n",
        "    DOMAIN_TYPE = \"telephonic\"  # Can be meeting, telephonic, or general based on domain type of the audio file\n",
        "    CONFIG_FILE_NAME = f\"diar_infer_{DOMAIN_TYPE}.yaml\"\n",
        "    CONFIG_URL = f\"https://raw.githubusercontent.com/NVIDIA/NeMo/main/examples/speaker_tasks/diarization/conf/inference/{CONFIG_FILE_NAME}\"\n",
        "    MODEL_CONFIG = os.path.join(output_dir, CONFIG_FILE_NAME)\n",
        "    if not os.path.exists(MODEL_CONFIG):\n",
        "        MODEL_CONFIG = wget.download(CONFIG_URL, output_dir)\n",
        "\n",
        "    config = OmegaConf.load(MODEL_CONFIG)\n",
        "\n",
        "    data_dir = os.path.join(output_dir, \"data\")\n",
        "    os.makedirs(data_dir, exist_ok=True)\n",
        "\n",
        "    meta = {\n",
        "        \"audio_filepath\": os.path.join(output_dir, \"mono_file.wav\"),\n",
        "        \"offset\": 0,\n",
        "        \"duration\": None,\n",
        "        \"label\": \"infer\",\n",
        "        \"text\": \"-\",\n",
        "        \"rttm_filepath\": None,\n",
        "        \"uem_filepath\": None,\n",
        "    }\n",
        "    with open(os.path.join(data_dir, \"input_manifest.json\"), \"w\") as fp:\n",
        "        json.dump(meta, fp)\n",
        "        fp.write(\"\\n\")\n",
        "\n",
        "    pretrained_vad = \"vad_multilingual_marblenet\"\n",
        "    pretrained_speaker_model = \"titanet_large\"\n",
        "    config.num_workers = 0  # Workaround for multiprocessing hanging with ipython issue\n",
        "    config.diarizer.manifest_filepath = os.path.join(data_dir, \"input_manifest.json\")\n",
        "    config.diarizer.out_dir = (\n",
        "        output_dir  # Directory to store intermediate files and prediction outputs\n",
        "    )\n",
        "\n",
        "    config.diarizer.speaker_embeddings.model_path = pretrained_speaker_model\n",
        "    config.diarizer.oracle_vad = (\n",
        "        False  # compute VAD provided with model_path to vad config\n",
        "    )\n",
        "    config.diarizer.clustering.parameters.oracle_num_speakers = False\n",
        "\n",
        "    # Here, we use our in-house pretrained NeMo VAD model\n",
        "    config.diarizer.vad.model_path = pretrained_vad\n",
        "    config.diarizer.vad.parameters.onset = 0.8\n",
        "    config.diarizer.vad.parameters.offset = 0.6\n",
        "    config.diarizer.vad.parameters.pad_offset = -0.05\n",
        "    config.diarizer.msdd_model.model_path = (\n",
        "        \"diar_msdd_telephonic\"  # Telephonic speaker diarization model\n",
        "    )\n",
        "\n",
        "    return config"
      ]
    },
    {
      "cell_type": "markdown",
      "metadata": {
        "id": "deF8dULcaOk7"
      },
      "source": [
        "* This output from VAD is passed to the Titanet model for speaker embedding extraction on multiple scales, which is then clustered to average the multi speaker clusters to pass through next stages in the Nemo pipeline.\n",
        "\n",
        "* **MSDD Configuration**\n",
        "The MSDD (Multiscale Diarization Decoder) model is a sequence model optimized for diarization, using a diligent technique that selectively weighs speaker embeddings at multiple scales. This enhances performance, particularly in transcribing a telephonic speech handling the overlapping speech. It operates on five scales with varying hop lengths to provide flexible temporal resolution, with the default being 0.25 seconds, adjustable for finer detail.\n",
        "\n",
        "\n",
        "* Using Binary Cross entropy loss function, time corresponding speaker labels are identified by the neural Diarizer(MSDD)."
      ]
    },
    {
      "cell_type": "markdown",
      "metadata": {
        "id": "7EEaJPsQ21Rx"
      },
      "source": [
        "### **Convert audio to mono for NeMo compatibility**\n",
        "\n",
        "Further we need to convert our audio file to mono channel for Nemo’s audio processing compatible format using Pydub, as a .wav file to a designated temporary directory,"
      ]
    },
    {
      "cell_type": "code",
      "execution_count": null,
      "metadata": {
        "colab": {
          "base_uri": "https://localhost:8080/"
        },
        "id": "lq1kviFJoBUK",
        "outputId": "5f31bcc6-5127-4f6d-cc3e-986a3e1adc81"
      },
      "outputs": [
        {
          "data": {
            "text/plain": [
              "<_io.BufferedRandom name='/content/temp_outputs/mono_file.wav'>"
            ]
          },
          "execution_count": 18,
          "metadata": {},
          "output_type": "execute_result"
        }
      ],
      "source": [
        "sound = AudioSegment.from_file(vocal_target).set_channels(1)\n",
        "ROOT = os.getcwd()\n",
        "temp_path = os.path.join(ROOT, \"temp_outputs\")\n",
        "os.makedirs(temp_path, exist_ok=True)\n",
        "sound.export(os.path.join(temp_path, \"mono_file.wav\"), format=\"wav\")"
      ]
    },
    {
      "cell_type": "markdown",
      "metadata": {
        "id": "D1gkViCf2-CV"
      },
      "source": [
        "### **Speaker Diarization with MSDD -  Nvidia Nemo Toolkit for ASR**\n",
        "---\n",
        "Next we will initialize the MSDD model with the NeuralDiarizer pipeline.\n"
      ]
    },
    {
      "cell_type": "code",
      "execution_count": null,
      "metadata": {
        "colab": {
          "base_uri": "https://localhost:8080/"
        },
        "id": "C7jIpBCH02RL",
        "outputId": "538a0f6e-d0f0-4f88-ca6d-f71499924c1a"
      },
      "outputs": [
        {
          "name": "stdout",
          "output_type": "stream",
          "text": [
            "[NeMo I 2024-05-13 13:37:35 msdd_models:1092] Loading pretrained diar_msdd_telephonic model from NGC\n",
            "[NeMo I 2024-05-13 13:37:35 cloud:68] Downloading from: https://api.ngc.nvidia.com/v2/models/nvidia/nemo/diar_msdd_telephonic/versions/1.0.1/files/diar_msdd_telephonic.nemo to /root/.cache/torch/NeMo/NeMo_1.22.0/diar_msdd_telephonic/3c3697a0a46f945574fa407149975a13/diar_msdd_telephonic.nemo\n",
            "[NeMo I 2024-05-13 13:37:38 common:913] Instantiating model from pre-trained checkpoint\n"
          ]
        },
        {
          "name": "stderr",
          "output_type": "stream",
          "text": [
            "[NeMo W 2024-05-13 13:37:39 modelPT:161] If you intend to do training or fine-tuning, please call the ModelPT.setup_training_data() method and provide a valid configuration file to setup the train data loader.\n",
            "    Train config : \n",
            "    manifest_filepath: null\n",
            "    emb_dir: null\n",
            "    sample_rate: 16000\n",
            "    num_spks: 2\n",
            "    soft_label_thres: 0.5\n",
            "    labels: null\n",
            "    batch_size: 15\n",
            "    emb_batch_size: 0\n",
            "    shuffle: true\n",
            "    \n",
            "[NeMo W 2024-05-13 13:37:39 modelPT:168] If you intend to do validation, please call the ModelPT.setup_validation_data() or ModelPT.setup_multiple_validation_data() method and provide a valid configuration file to setup the validation data loader(s). \n",
            "    Validation config : \n",
            "    manifest_filepath: null\n",
            "    emb_dir: null\n",
            "    sample_rate: 16000\n",
            "    num_spks: 2\n",
            "    soft_label_thres: 0.5\n",
            "    labels: null\n",
            "    batch_size: 15\n",
            "    emb_batch_size: 0\n",
            "    shuffle: false\n",
            "    \n",
            "[NeMo W 2024-05-13 13:37:39 modelPT:174] Please call the ModelPT.setup_test_data() or ModelPT.setup_multiple_test_data() method and provide a valid configuration file to setup the test data loader(s).\n",
            "    Test config : \n",
            "    manifest_filepath: null\n",
            "    emb_dir: null\n",
            "    sample_rate: 16000\n",
            "    num_spks: 2\n",
            "    soft_label_thres: 0.5\n",
            "    labels: null\n",
            "    batch_size: 15\n",
            "    emb_batch_size: 0\n",
            "    shuffle: false\n",
            "    seq_eval_mode: false\n",
            "    \n"
          ]
        },
        {
          "name": "stdout",
          "output_type": "stream",
          "text": [
            "[NeMo I 2024-05-13 13:37:39 features:289] PADDING: 16\n",
            "[NeMo I 2024-05-13 13:37:39 features:289] PADDING: 16\n",
            "[NeMo I 2024-05-13 13:37:40 save_restore_connector:249] Model EncDecDiarLabelModel was successfully restored from /root/.cache/torch/NeMo/NeMo_1.22.0/diar_msdd_telephonic/3c3697a0a46f945574fa407149975a13/diar_msdd_telephonic.nemo.\n",
            "[NeMo I 2024-05-13 13:37:40 features:289] PADDING: 16\n",
            "[NeMo I 2024-05-13 13:37:41 clustering_diarizer:127] Loading pretrained vad_multilingual_marblenet model from NGC\n",
            "[NeMo I 2024-05-13 13:37:41 cloud:68] Downloading from: https://api.ngc.nvidia.com/v2/models/nvidia/nemo/vad_multilingual_marblenet/versions/1.10.0/files/vad_multilingual_marblenet.nemo to /root/.cache/torch/NeMo/NeMo_1.22.0/vad_multilingual_marblenet/670f425c7f186060b7a7268ba6dfacb2/vad_multilingual_marblenet.nemo\n",
            "[NeMo I 2024-05-13 13:37:41 common:913] Instantiating model from pre-trained checkpoint\n"
          ]
        },
        {
          "name": "stderr",
          "output_type": "stream",
          "text": [
            "[NeMo W 2024-05-13 13:37:41 modelPT:161] If you intend to do training or fine-tuning, please call the ModelPT.setup_training_data() method and provide a valid configuration file to setup the train data loader.\n",
            "    Train config : \n",
            "    manifest_filepath: /manifests/ami_train_0.63.json,/manifests/freesound_background_train.json,/manifests/freesound_laughter_train.json,/manifests/fisher_2004_background.json,/manifests/fisher_2004_speech_sampled.json,/manifests/google_train_manifest.json,/manifests/icsi_all_0.63.json,/manifests/musan_freesound_train.json,/manifests/musan_music_train.json,/manifests/musan_soundbible_train.json,/manifests/mandarin_train_sample.json,/manifests/german_train_sample.json,/manifests/spanish_train_sample.json,/manifests/french_train_sample.json,/manifests/russian_train_sample.json\n",
            "    sample_rate: 16000\n",
            "    labels:\n",
            "    - background\n",
            "    - speech\n",
            "    batch_size: 256\n",
            "    shuffle: true\n",
            "    is_tarred: false\n",
            "    tarred_audio_filepaths: null\n",
            "    tarred_shard_strategy: scatter\n",
            "    augmentor:\n",
            "      shift:\n",
            "        prob: 0.5\n",
            "        min_shift_ms: -10.0\n",
            "        max_shift_ms: 10.0\n",
            "      white_noise:\n",
            "        prob: 0.5\n",
            "        min_level: -90\n",
            "        max_level: -46\n",
            "        norm: true\n",
            "      noise:\n",
            "        prob: 0.5\n",
            "        manifest_path: /manifests/noise_0_1_musan_fs.json\n",
            "        min_snr_db: 0\n",
            "        max_snr_db: 30\n",
            "        max_gain_db: 300.0\n",
            "        norm: true\n",
            "      gain:\n",
            "        prob: 0.5\n",
            "        min_gain_dbfs: -10.0\n",
            "        max_gain_dbfs: 10.0\n",
            "        norm: true\n",
            "    num_workers: 16\n",
            "    pin_memory: true\n",
            "    \n",
            "[NeMo W 2024-05-13 13:37:41 modelPT:168] If you intend to do validation, please call the ModelPT.setup_validation_data() or ModelPT.setup_multiple_validation_data() method and provide a valid configuration file to setup the validation data loader(s). \n",
            "    Validation config : \n",
            "    manifest_filepath: /manifests/ami_dev_0.63.json,/manifests/freesound_background_dev.json,/manifests/freesound_laughter_dev.json,/manifests/ch120_moved_0.63.json,/manifests/fisher_2005_500_speech_sampled.json,/manifests/google_dev_manifest.json,/manifests/musan_music_dev.json,/manifests/mandarin_dev.json,/manifests/german_dev.json,/manifests/spanish_dev.json,/manifests/french_dev.json,/manifests/russian_dev.json\n",
            "    sample_rate: 16000\n",
            "    labels:\n",
            "    - background\n",
            "    - speech\n",
            "    batch_size: 256\n",
            "    shuffle: false\n",
            "    val_loss_idx: 0\n",
            "    num_workers: 16\n",
            "    pin_memory: true\n",
            "    \n",
            "[NeMo W 2024-05-13 13:37:41 modelPT:174] Please call the ModelPT.setup_test_data() or ModelPT.setup_multiple_test_data() method and provide a valid configuration file to setup the test data loader(s).\n",
            "    Test config : \n",
            "    manifest_filepath: null\n",
            "    sample_rate: 16000\n",
            "    labels:\n",
            "    - background\n",
            "    - speech\n",
            "    batch_size: 128\n",
            "    shuffle: false\n",
            "    test_loss_idx: 0\n",
            "    \n"
          ]
        },
        {
          "name": "stdout",
          "output_type": "stream",
          "text": [
            "[NeMo I 2024-05-13 13:37:41 features:289] PADDING: 16\n",
            "[NeMo I 2024-05-13 13:37:41 save_restore_connector:249] Model EncDecClassificationModel was successfully restored from /root/.cache/torch/NeMo/NeMo_1.22.0/vad_multilingual_marblenet/670f425c7f186060b7a7268ba6dfacb2/vad_multilingual_marblenet.nemo.\n",
            "[NeMo I 2024-05-13 13:37:41 msdd_models:864] Multiscale Weights: [1, 1, 1, 1, 1]\n",
            "[NeMo I 2024-05-13 13:37:41 msdd_models:865] Clustering Parameters: {\n",
            "        \"oracle_num_speakers\": false,\n",
            "        \"max_num_speakers\": 8,\n",
            "        \"enhanced_count_thres\": 80,\n",
            "        \"max_rp_threshold\": 0.25,\n",
            "        \"sparse_search_volume\": 30,\n",
            "        \"maj_vote_spk_count\": false,\n",
            "        \"chunk_cluster_count\": 50,\n",
            "        \"embeddings_per_chunk\": 10000\n",
            "    }\n",
            "[NeMo I 2024-05-13 13:37:41 speaker_utils:93] Number of files to diarize: 1\n",
            "[NeMo I 2024-05-13 13:37:41 clustering_diarizer:309] Split long audio file to avoid CUDA memory issue\n"
          ]
        },
        {
          "name": "stderr",
          "output_type": "stream",
          "text": [
            "splitting manifest: 100%|██████████| 1/1 [00:12<00:00, 12.51s/it]\n"
          ]
        },
        {
          "name": "stdout",
          "output_type": "stream",
          "text": [
            "[NeMo I 2024-05-13 13:37:54 classification_models:273] Perform streaming frame-level VAD\n",
            "[NeMo I 2024-05-13 13:37:54 collections:445] Filtered duration for loading collection is  0.00 hours.\n",
            "[NeMo I 2024-05-13 13:37:54 collections:446] Dataset loaded with 4 items, total duration of  0.05 hours.\n",
            "[NeMo I 2024-05-13 13:37:54 collections:448] # 4 files loaded accounting to # 1 labels\n"
          ]
        },
        {
          "name": "stderr",
          "output_type": "stream",
          "text": [
            "vad: 100%|██████████| 4/4 [00:02<00:00,  1.48it/s]\n"
          ]
        },
        {
          "name": "stdout",
          "output_type": "stream",
          "text": [
            "[NeMo I 2024-05-13 13:37:57 clustering_diarizer:250] Generating predictions with overlapping input segments\n"
          ]
        },
        {
          "name": "stderr",
          "output_type": "stream",
          "text": []
        },
        {
          "name": "stdout",
          "output_type": "stream",
          "text": [
            "[NeMo I 2024-05-13 13:37:59 clustering_diarizer:262] Converting frame level prediction to speech/no-speech segment in start and end times format.\n"
          ]
        },
        {
          "name": "stderr",
          "output_type": "stream",
          "text": [
            "creating speech segments: 100%|██████████| 1/1 [00:00<00:00,  5.39it/s]\n"
          ]
        },
        {
          "name": "stdout",
          "output_type": "stream",
          "text": [
            "[NeMo I 2024-05-13 13:37:59 clustering_diarizer:287] Subsegmentation for embedding extraction: scale0, /content/temp_outputs/speaker_outputs/subsegments_scale0.json\n",
            "[NeMo I 2024-05-13 13:37:59 clustering_diarizer:343] Extracting embeddings for Diarization\n",
            "[NeMo I 2024-05-13 13:37:59 collections:445] Filtered duration for loading collection is  0.00 hours.\n",
            "[NeMo I 2024-05-13 13:37:59 collections:446] Dataset loaded with 140 items, total duration of  0.04 hours.\n",
            "[NeMo I 2024-05-13 13:37:59 collections:448] # 140 files loaded accounting to # 1 labels\n"
          ]
        },
        {
          "name": "stderr",
          "output_type": "stream",
          "text": [
            "[1/5] extract embeddings: 100%|██████████| 3/3 [00:00<00:00,  4.86it/s]\n"
          ]
        },
        {
          "name": "stdout",
          "output_type": "stream",
          "text": [
            "[NeMo I 2024-05-13 13:37:59 clustering_diarizer:389] Saved embedding files to /content/temp_outputs/speaker_outputs/embeddings\n",
            "[NeMo I 2024-05-13 13:37:59 clustering_diarizer:287] Subsegmentation for embedding extraction: scale1, /content/temp_outputs/speaker_outputs/subsegments_scale1.json\n",
            "[NeMo I 2024-05-13 13:37:59 clustering_diarizer:343] Extracting embeddings for Diarization\n",
            "[NeMo I 2024-05-13 13:38:00 collections:445] Filtered duration for loading collection is  0.00 hours.\n",
            "[NeMo I 2024-05-13 13:38:00 collections:446] Dataset loaded with 159 items, total duration of  0.04 hours.\n",
            "[NeMo I 2024-05-13 13:38:00 collections:448] # 159 files loaded accounting to # 1 labels\n"
          ]
        },
        {
          "name": "stderr",
          "output_type": "stream",
          "text": [
            "[2/5] extract embeddings: 100%|██████████| 3/3 [00:00<00:00,  6.57it/s]\n"
          ]
        },
        {
          "name": "stdout",
          "output_type": "stream",
          "text": [
            "[NeMo I 2024-05-13 13:38:00 clustering_diarizer:389] Saved embedding files to /content/temp_outputs/speaker_outputs/embeddings\n",
            "[NeMo I 2024-05-13 13:38:00 clustering_diarizer:287] Subsegmentation for embedding extraction: scale2, /content/temp_outputs/speaker_outputs/subsegments_scale2.json\n",
            "[NeMo I 2024-05-13 13:38:00 clustering_diarizer:343] Extracting embeddings for Diarization\n",
            "[NeMo I 2024-05-13 13:38:00 collections:445] Filtered duration for loading collection is  0.00 hours.\n",
            "[NeMo I 2024-05-13 13:38:00 collections:446] Dataset loaded with 197 items, total duration of  0.04 hours.\n",
            "[NeMo I 2024-05-13 13:38:00 collections:448] # 197 files loaded accounting to # 1 labels\n"
          ]
        },
        {
          "name": "stderr",
          "output_type": "stream",
          "text": [
            "[3/5] extract embeddings: 100%|██████████| 4/4 [00:00<00:00,  7.48it/s]\n"
          ]
        },
        {
          "name": "stdout",
          "output_type": "stream",
          "text": [
            "[NeMo I 2024-05-13 13:38:01 clustering_diarizer:389] Saved embedding files to /content/temp_outputs/speaker_outputs/embeddings\n",
            "[NeMo I 2024-05-13 13:38:01 clustering_diarizer:287] Subsegmentation for embedding extraction: scale3, /content/temp_outputs/speaker_outputs/subsegments_scale3.json\n",
            "[NeMo I 2024-05-13 13:38:01 clustering_diarizer:343] Extracting embeddings for Diarization\n",
            "[NeMo I 2024-05-13 13:38:01 collections:445] Filtered duration for loading collection is  0.00 hours.\n",
            "[NeMo I 2024-05-13 13:38:01 collections:446] Dataset loaded with 262 items, total duration of  0.05 hours.\n",
            "[NeMo I 2024-05-13 13:38:01 collections:448] # 262 files loaded accounting to # 1 labels\n"
          ]
        },
        {
          "name": "stderr",
          "output_type": "stream",
          "text": [
            "[4/5] extract embeddings: 100%|██████████| 5/5 [00:00<00:00,  8.26it/s]\n"
          ]
        },
        {
          "name": "stdout",
          "output_type": "stream",
          "text": [
            "[NeMo I 2024-05-13 13:38:01 clustering_diarizer:389] Saved embedding files to /content/temp_outputs/speaker_outputs/embeddings\n",
            "[NeMo I 2024-05-13 13:38:01 clustering_diarizer:287] Subsegmentation for embedding extraction: scale4, /content/temp_outputs/speaker_outputs/subsegments_scale4.json\n",
            "[NeMo I 2024-05-13 13:38:01 clustering_diarizer:343] Extracting embeddings for Diarization\n",
            "[NeMo I 2024-05-13 13:38:01 collections:445] Filtered duration for loading collection is  0.00 hours.\n",
            "[NeMo I 2024-05-13 13:38:01 collections:446] Dataset loaded with 397 items, total duration of  0.05 hours.\n",
            "[NeMo I 2024-05-13 13:38:01 collections:448] # 397 files loaded accounting to # 1 labels\n"
          ]
        },
        {
          "name": "stderr",
          "output_type": "stream",
          "text": [
            "[5/5] extract embeddings: 100%|██████████| 7/7 [00:00<00:00,  9.03it/s]\n"
          ]
        },
        {
          "name": "stdout",
          "output_type": "stream",
          "text": [
            "[NeMo I 2024-05-13 13:38:02 clustering_diarizer:389] Saved embedding files to /content/temp_outputs/speaker_outputs/embeddings\n"
          ]
        },
        {
          "name": "stderr",
          "output_type": "stream",
          "text": [
            "clustering: 100%|██████████| 1/1 [00:01<00:00,  1.04s/it]\n"
          ]
        },
        {
          "name": "stdout",
          "output_type": "stream",
          "text": [
            "[NeMo I 2024-05-13 13:38:03 clustering_diarizer:464] Outputs are saved in /content/temp_outputs directory\n"
          ]
        },
        {
          "name": "stderr",
          "output_type": "stream",
          "text": [
            "[NeMo W 2024-05-13 13:38:03 der:185] Check if each ground truth RTTMs were present in the provided manifest file. Skipping calculation of Diariazation Error Rate\n"
          ]
        },
        {
          "name": "stdout",
          "output_type": "stream",
          "text": [
            "[NeMo I 2024-05-13 13:38:03 msdd_models:960] Loading embedding pickle file of scale:0 at /content/temp_outputs/speaker_outputs/embeddings/subsegments_scale0_embeddings.pkl\n",
            "[NeMo I 2024-05-13 13:38:03 msdd_models:960] Loading embedding pickle file of scale:1 at /content/temp_outputs/speaker_outputs/embeddings/subsegments_scale1_embeddings.pkl\n",
            "[NeMo I 2024-05-13 13:38:03 msdd_models:960] Loading embedding pickle file of scale:2 at /content/temp_outputs/speaker_outputs/embeddings/subsegments_scale2_embeddings.pkl\n",
            "[NeMo I 2024-05-13 13:38:03 msdd_models:960] Loading embedding pickle file of scale:3 at /content/temp_outputs/speaker_outputs/embeddings/subsegments_scale3_embeddings.pkl\n",
            "[NeMo I 2024-05-13 13:38:03 msdd_models:960] Loading embedding pickle file of scale:4 at /content/temp_outputs/speaker_outputs/embeddings/subsegments_scale4_embeddings.pkl\n",
            "[NeMo I 2024-05-13 13:38:03 msdd_models:938] Loading cluster label file from /content/temp_outputs/speaker_outputs/subsegments_scale4_cluster.label\n",
            "[NeMo I 2024-05-13 13:38:03 collections:761] Filtered duration for loading collection is 0.000000.\n",
            "[NeMo I 2024-05-13 13:38:03 collections:764] Total 1 session files loaded accounting to # 1 audio clips\n"
          ]
        },
        {
          "name": "stderr",
          "output_type": "stream",
          "text": [
            "100%|██████████| 1/1 [00:00<00:00, 12.07it/s]\n"
          ]
        },
        {
          "name": "stdout",
          "output_type": "stream",
          "text": [
            "[NeMo I 2024-05-13 13:38:03 msdd_models:1403]      [Threshold: 0.7000] [use_clus_as_main=False] [diar_window=50]\n",
            "[NeMo I 2024-05-13 13:38:03 speaker_utils:93] Number of files to diarize: 1\n",
            "[NeMo I 2024-05-13 13:38:03 speaker_utils:93] Number of files to diarize: 1\n"
          ]
        },
        {
          "name": "stderr",
          "output_type": "stream",
          "text": [
            "[NeMo W 2024-05-13 13:38:03 der:185] Check if each ground truth RTTMs were present in the provided manifest file. Skipping calculation of Diariazation Error Rate\n"
          ]
        },
        {
          "name": "stdout",
          "output_type": "stream",
          "text": [
            "[NeMo I 2024-05-13 13:38:03 speaker_utils:93] Number of files to diarize: 1\n"
          ]
        },
        {
          "name": "stderr",
          "output_type": "stream",
          "text": [
            "[NeMo W 2024-05-13 13:38:03 der:185] Check if each ground truth RTTMs were present in the provided manifest file. Skipping calculation of Diariazation Error Rate\n"
          ]
        },
        {
          "name": "stdout",
          "output_type": "stream",
          "text": [
            "[NeMo I 2024-05-13 13:38:03 speaker_utils:93] Number of files to diarize: 1\n"
          ]
        },
        {
          "name": "stderr",
          "output_type": "stream",
          "text": [
            "[NeMo W 2024-05-13 13:38:03 der:185] Check if each ground truth RTTMs were present in the provided manifest file. Skipping calculation of Diariazation Error Rate\n"
          ]
        },
        {
          "name": "stdout",
          "output_type": "stream",
          "text": [
            "[NeMo I 2024-05-13 13:38:03 msdd_models:1431]   \n",
            "    \n"
          ]
        }
      ],
      "source": [
        "# Initialize NeMo MSDD diarization model\n",
        "msdd_model = NeuralDiarizer(cfg=create_config(temp_path)).to(\"cuda\")\n",
        "msdd_model.diarize()\n",
        "\n",
        "del msdd_model\n",
        "torch.cuda.empty_cache()"
      ]
    },
    {
      "cell_type": "markdown",
      "metadata": {
        "id": "nn9X_937VOIX"
      },
      "source": [
        "The VAD output is saved as `vad_out.json` and it contains:\n",
        "\n",
        "```\n",
        "{\"audio_filepath\": \"/content/temp_outputs/mono_file.wav\", \"offset\": 1.18, \"duration\": 2.46, \"label\": \"UNK\", \"uniq_id\": \"mono_file\"}\n",
        "{\"audio_filepath\": \"/content/temp_outputs/mono_file.wav\", \"offset\": 4.54, \"duration\": 2.22, \"label\": \"UNK\", \"uniq_id\": \"mono_file\"}\n",
        "\n",
        "```"
      ]
    },
    {
      "cell_type": "markdown",
      "metadata": {
        "id": "4iXinr8dVlvp"
      },
      "source": [
        "Then the embeddings from `TitaNet-L` are stored in `temp_outputs/speaker_outputs/embeddings`"
      ]
    },
    {
      "cell_type": "markdown",
      "metadata": {
        "id": "_TIpi4WAas2Y"
      },
      "source": [
        "At the end of this operation a `temp_outputs/pred_rtmms/mono_file.rtmm` file is saved which contains diarized timestamps as follows:\n",
        "\n",
        "```python\n",
        "SPEAKER mono_file 1   39.660   0.140 <NA> <NA> speaker_0 <NA> <NA>\n",
        "SPEAKER mono_file 1   40.460   1.420 <NA> <NA> speaker_0 <NA> <NA>\n",
        "SPEAKER mono_file 1   42.140   0.140 <NA> <NA> speaker_1 <NA> <NA>\n",
        "SPEAKER mono_file 1   43.180   0.540 <NA> <NA> speaker_1 <NA> <NA>\n",
        "SPEAKER mono_file 1   43.980   0.940 <NA> <NA> speaker_1 <NA> <NA>\n",
        "```"
      ]
    },
    {
      "cell_type": "markdown",
      "metadata": {
        "id": "NmkZYaDAEOAg"
      },
      "source": [
        "#### **Mapping Speakers to Sentences According to Timestamps**\n",
        "\n",
        "As transcribing a customer support conversation involves multiple speakers, we will define a function `get_sentences_speaker_mapping` that constructs a list of sentences from word-level mappings, each tagged with speaker information and timestamps. We will use an NLTK sentence tokenizer to determine when a new sentence starts, either due to a speaker change or because the current sentence(`snt`) has reached a natural break. As it processes each word, the function updates the current sentence or starts a new one, ensuring that each sentence in the output list(`snts`) captures coherent spoken segments, accurately labeled with the correct speaker and timing details.\n"
      ]
    },
    {
      "cell_type": "code",
      "execution_count": null,
      "metadata": {
        "id": "bjjhi3FNy2yT"
      },
      "outputs": [],
      "source": [
        "def get_sentences_speaker_mapping(word_speaker_mapping, spk_ts):\n",
        "    sentence_checker = nltk.tokenize.PunktSentenceTokenizer().text_contains_sentbreak\n",
        "    s, e, spk = spk_ts[0]\n",
        "    prev_spk = spk\n",
        "\n",
        "    snts = []\n",
        "    snt = {\"speaker\": f\"Speaker {spk}\", \"start_time\": s, \"end_time\": e, \"text\": \"\"}\n",
        "\n",
        "    for wrd_dict in word_speaker_mapping:\n",
        "        wrd, spk = wrd_dict[\"word\"], wrd_dict[\"speaker\"]\n",
        "        s, e = wrd_dict[\"start_time\"], wrd_dict[\"end_time\"]\n",
        "        if spk != prev_spk or sentence_checker(snt[\"text\"] + \" \" + wrd):\n",
        "            snts.append(snt)\n",
        "            snt = {\n",
        "                \"speaker\": f\"Speaker {spk}\",\n",
        "                \"start_time\": s,\n",
        "                \"end_time\": e,\n",
        "                \"text\": \"\",\n",
        "            }\n",
        "        else:\n",
        "            snt[\"end_time\"] = e\n",
        "        snt[\"text\"] += wrd + \" \"\n",
        "        prev_spk = spk\n",
        "\n",
        "    snts.append(snt)\n",
        "    return snts"
      ]
    },
    {
      "cell_type": "markdown",
      "metadata": {
        "id": "SUuogQJUS4TD"
      },
      "source": [
        "Next, the `get_word_ts_anchors`  function is defined which returns a word's timestamp: the end (e) if option is \"end\", the midpoint if \"mid\", or the start (s) by default.\n",
        "\n",
        "Then, the `get_words_speaker_mapping` function maps words to their corresponding speakers based on timing information. At first, we will iterate through word timestamps, adjust their anchor points depending on the chosen `word_anchor_option`, and match them to the closest speaker's time span. Following that, we handle speaker turns by updating the speaker indices and ensuring words at the list's end are correctly assigned to the last speaker. Thus, our result is a list of dictionaries, each containing a word, its start and end times, and the assigned speaker."
      ]
    },
    {
      "cell_type": "code",
      "execution_count": null,
      "metadata": {
        "id": "EHHWkivc1Iqv"
      },
      "outputs": [],
      "source": [
        "def get_word_ts_anchor(s, e, option=\"start\"):\n",
        "    if option == \"end\":\n",
        "        return e\n",
        "    elif option == \"mid\":\n",
        "        return (s + e) / 2\n",
        "    return s\n",
        "\n",
        "\n",
        "def get_words_speaker_mapping(wrd_ts, spk_ts, word_anchor_option=\"start\"):\n",
        "    s, e, sp = spk_ts[0]\n",
        "    wrd_pos, turn_idx = 0, 0\n",
        "    wrd_spk_mapping = []\n",
        "    for wrd_dict in wrd_ts:\n",
        "        ws, we, wrd = (\n",
        "            int(wrd_dict[\"start\"] * 1000),\n",
        "            int(wrd_dict[\"end\"] * 1000),\n",
        "            wrd_dict[\"word\"],\n",
        "        )\n",
        "        wrd_pos = get_word_ts_anchor(ws, we, word_anchor_option)\n",
        "        while wrd_pos > float(e):\n",
        "            turn_idx += 1\n",
        "            turn_idx = min(turn_idx, len(spk_ts) - 1)\n",
        "            s, e, sp = spk_ts[turn_idx]\n",
        "            if turn_idx == len(spk_ts) - 1:\n",
        "                e = get_word_ts_anchor(ws, we, option=\"end\")\n",
        "        wrd_spk_mapping.append(\n",
        "            {\"word\": wrd, \"start_time\": ws, \"end_time\": we, \"speaker\": sp}\n",
        "        )\n",
        "    return wrd_spk_mapping"
      ]
    },
    {
      "cell_type": "markdown",
      "metadata": {
        "id": "Fcbe666fTAFC"
      },
      "source": [
        "Then, we will read the RTMM file, which is the output from the MSDD Neural Diarizer, to map speaker labels to timestamps and use these mappings to associate speakers with sentences (wsm) based on their start times."
      ]
    },
    {
      "cell_type": "code",
      "execution_count": null,
      "metadata": {
        "id": "E65LUGQe02zw"
      },
      "outputs": [],
      "source": [
        "# Reading timestamps <> Speaker Labels mapping\n",
        "\n",
        "speaker_ts = []\n",
        "with open(os.path.join(temp_path, \"pred_rttms\", \"mono_file.rttm\"), \"r\") as f:\n",
        "    lines = f.readlines()\n",
        "    for line in lines:\n",
        "        line_list = line.split(\" \")\n",
        "        s = int(float(line_list[5]) * 1000)\n",
        "        e = s + int(float(line_list[8]) * 1000)\n",
        "        speaker_ts.append([s, e, int(line_list[11].split(\"_\")[-1])])\n",
        "\n",
        "wsm = get_words_speaker_mapping(word_timestamps, speaker_ts, \"start\")\n",
        "ssm = get_sentences_speaker_mapping(wsm, speaker_ts)"
      ]
    },
    {
      "cell_type": "markdown",
      "metadata": {
        "id": "zZGK0aURo2MG"
      },
      "source": [
        "## **Utility Functions:**"
      ]
    },
    {
      "cell_type": "markdown",
      "metadata": {
        "id": "xQQPsAQATEom"
      },
      "source": [
        "The `format_timestamp` function converts the WhisperX output timestamps, which are in milliseconds, into an hourly formatted string (hh:mm:ss.sss), ensuring the result is always non-negative."
      ]
    },
    {
      "cell_type": "code",
      "execution_count": null,
      "metadata": {
        "id": "IjOFh3KJzBCk"
      },
      "outputs": [],
      "source": [
        "def format_timestamp(\n",
        "    milliseconds: float, always_include_hours: bool = False, decimal_marker: str = \".\"\n",
        "):\n",
        "    assert milliseconds >= 0, \"non-negative timestamp expected\"\n",
        "\n",
        "    hours = milliseconds // 3_600_000\n",
        "    milliseconds -= hours * 3_600_000\n",
        "\n",
        "    minutes = milliseconds // 60_000\n",
        "    milliseconds -= minutes * 60_000\n",
        "\n",
        "    seconds = milliseconds // 1_000\n",
        "    milliseconds -= seconds * 1_000\n",
        "\n",
        "    hours_marker = f\"{hours:02d}:\" if always_include_hours or hours > 0 else \"\"\n",
        "    return (\n",
        "        f\"{hours_marker}{minutes:02d}:{seconds:02d}{decimal_marker}{milliseconds:03d}\"\n",
        "    )"
      ]
    },
    {
      "cell_type": "markdown",
      "metadata": {
        "id": "hCCNmHrcTLmg"
      },
      "source": [
        "To save outputs a transcript to a file in SRT format,  the `write_srt` utility formats timestamps and text content for each segment and appropriately handles special characters in dialogue."
      ]
    },
    {
      "cell_type": "code",
      "execution_count": null,
      "metadata": {
        "id": "IaT_OZLpzDCF"
      },
      "outputs": [],
      "source": [
        "def write_srt(transcript, file):\n",
        "    \"\"\"\n",
        "    Write a transcript to a file in SRT format.\n",
        "\n",
        "    \"\"\"\n",
        "    for i, segment in enumerate(transcript, start=1):\n",
        "        # write srt lines\n",
        "        print(\n",
        "            f\"{i}\\n\"\n",
        "            f\"{format_timestamp(segment['start_time'], always_include_hours=True, decimal_marker=',')} --> \"\n",
        "            f\"{format_timestamp(segment['end_time'], always_include_hours=True, decimal_marker=',')}\\n\"\n",
        "            f\"{segment['speaker']}: {segment['text'].strip().replace('-->', '->')}\\n\",\n",
        "            file=file,\n",
        "            flush=True,\n",
        "        )"
      ]
    },
    {
      "cell_type": "markdown",
      "metadata": {
        "id": "pQigaN4hTPDr"
      },
      "source": [
        "After processing the speaker information, finally this generates an SRT-formatted transcript with speaker labels."
      ]
    },
    {
      "cell_type": "code",
      "execution_count": null,
      "metadata": {
        "id": "GS7hhT_Fptrl"
      },
      "outputs": [],
      "source": [
        "with open(f\"{os.path.splitext(audio_path)[0]}.srt\", \"w\", encoding=\"utf-8-sig\") as srt:\n",
        "    write_srt(ssm, srt)"
      ]
    },
    {
      "cell_type": "markdown",
      "metadata": {
        "id": "3IZJ20ImWKlG"
      },
      "source": [
        "**RESULTS**"
      ]
    },
    {
      "cell_type": "markdown",
      "metadata": {
        "id": "2e2GSFeeWRpZ"
      },
      "source": [
        "The srt file contains output transcription results:\n",
        "```\n",
        "\n",
        "00:00:29,810 --> 00:00:33,453\n",
        "Speaker 0: You have seen a lot of changes, Mr Fitzpatrick, in farming.\n",
        "\n",
        "00:00:34,173 --> 00:00:35,655\n",
        "Speaker 0: What would you say was the biggest change?\n",
        "\n",
        "00:00:36,195 --> 00:00:36,996\n",
        "Speaker 1: Well, machinery.\n",
        "\n",
        "00:00:37,956 --> 00:00:41,879\n",
        "Speaker 0: And what sort of a machine would you think made the biggest impression?\n",
        "\n",
        "00:00:42,139 --> 00:00:50,226\n",
        "Speaker 1: Well, the reaper and binder is a great one, but by God, the one for cutting up the ground and throwing the crop is a powerful one too.\n",
        "\n",
        "```"
      ]
    },
    {
      "cell_type": "markdown",
      "metadata": {
        "id": "jbsUt3SwyhjD"
      },
      "source": [
        "## **Helper Functions:- Alignment with Punctuations**"
      ]
    },
    {
      "cell_type": "code",
      "execution_count": null,
      "metadata": {
        "id": "1Swxnve8ys0M"
      },
      "outputs": [],
      "source": [
        "punct_model_langs = [\n",
        "    \"en\",\n",
        "    \"fr\",\n",
        "    \"de\",\n",
        "    \"es\",\n",
        "    \"it\",\n",
        "    \"nl\",\n",
        "    \"pt\",\n",
        "    \"bg\",\n",
        "    \"pl\",\n",
        "    \"cs\",\n",
        "    \"sk\",\n",
        "    \"sl\",\n",
        "\n",
        "]\n",
        "\n",
        "sentence_ending_punctuations = \".?!\""
      ]
    },
    {
      "cell_type": "code",
      "execution_count": null,
      "metadata": {
        "id": "J0xrFPKOyvet"
      },
      "outputs": [],
      "source": [
        "def get_first_word_idx_of_sentence(word_idx, word_list, speaker_list, max_words):\n",
        "    is_word_sentence_end = (\n",
        "        lambda x: x >= 0 and word_list[x][-1] in sentence_ending_punctuations\n",
        "    )\n",
        "    left_idx = word_idx\n",
        "    while (\n",
        "        left_idx > 0\n",
        "        and word_idx - left_idx < max_words\n",
        "        and speaker_list[left_idx - 1] == speaker_list[left_idx]\n",
        "        and not is_word_sentence_end(left_idx - 1)\n",
        "    ):\n",
        "        left_idx -= 1\n",
        "\n",
        "    return left_idx if left_idx == 0 or is_word_sentence_end(left_idx - 1) else -1\n",
        "\n",
        "\n",
        "def get_last_word_idx_of_sentence(word_idx, word_list, max_words):\n",
        "    is_word_sentence_end = (\n",
        "        lambda x: x >= 0 and word_list[x][-1] in sentence_ending_punctuations\n",
        "    )\n",
        "    right_idx = word_idx\n",
        "    while (\n",
        "        right_idx < len(word_list)\n",
        "        and right_idx - word_idx < max_words\n",
        "        and not is_word_sentence_end(right_idx)\n",
        "    ):\n",
        "        right_idx += 1\n",
        "\n",
        "    return (\n",
        "        right_idx\n",
        "        if right_idx == len(word_list) - 1 or is_word_sentence_end(right_idx)\n",
        "        else -1\n",
        "    )"
      ]
    },
    {
      "cell_type": "code",
      "execution_count": null,
      "metadata": {
        "id": "LOkLeLjSyznP"
      },
      "outputs": [],
      "source": [
        "def get_realigned_ws_mapping_with_punctuation(\n",
        "    word_speaker_mapping, max_words_in_sentence=50\n",
        "):\n",
        "    is_word_sentence_end = (\n",
        "        lambda x: x >= 0\n",
        "        and word_speaker_mapping[x][\"word\"][-1] in sentence_ending_punctuations\n",
        "    )\n",
        "    wsp_len = len(word_speaker_mapping)\n",
        "\n",
        "    words_list, speaker_list = [], []\n",
        "    for k, line_dict in enumerate(word_speaker_mapping):\n",
        "        word, speaker = line_dict[\"word\"], line_dict[\"speaker\"]\n",
        "        words_list.append(word)\n",
        "        speaker_list.append(speaker)\n",
        "\n",
        "    k = 0\n",
        "    while k < len(word_speaker_mapping):\n",
        "        line_dict = word_speaker_mapping[k]\n",
        "        if (\n",
        "            k < wsp_len - 1\n",
        "            and speaker_list[k] != speaker_list[k + 1]\n",
        "            and not is_word_sentence_end(k)\n",
        "        ):\n",
        "            left_idx = get_first_word_idx_of_sentence(\n",
        "                k, words_list, speaker_list, max_words_in_sentence\n",
        "            )\n",
        "            right_idx = (\n",
        "                get_last_word_idx_of_sentence(\n",
        "                    k, words_list, max_words_in_sentence - k + left_idx - 1\n",
        "                )\n",
        "                if left_idx > -1\n",
        "                else -1\n",
        "            )\n",
        "            if min(left_idx, right_idx) == -1:\n",
        "                k += 1\n",
        "                continue\n",
        "\n",
        "            spk_labels = speaker_list[left_idx : right_idx + 1]\n",
        "            mod_speaker = max(set(spk_labels), key=spk_labels.count)\n",
        "            if spk_labels.count(mod_speaker) < len(spk_labels) // 2:\n",
        "                k += 1\n",
        "                continue\n",
        "\n",
        "            speaker_list[left_idx : right_idx + 1] = [mod_speaker] * (\n",
        "                right_idx - left_idx + 1\n",
        "            )\n",
        "            k = right_idx\n",
        "\n",
        "        k += 1\n",
        "\n",
        "    k, realigned_list = 0, []\n",
        "    while k < len(word_speaker_mapping):\n",
        "        line_dict = word_speaker_mapping[k].copy()\n",
        "        line_dict[\"speaker\"] = speaker_list[k]\n",
        "        realigned_list.append(line_dict)\n",
        "        k += 1\n",
        "\n",
        "    return realigned_list"
      ]
    },
    {
      "cell_type": "code",
      "execution_count": null,
      "metadata": {
        "id": "APWEg7xey9TV"
      },
      "outputs": [],
      "source": [
        "def get_speaker_aware_transcript(sentences_speaker_mapping, f):\n",
        "    previous_speaker = sentences_speaker_mapping[0][\"speaker\"]\n",
        "    f.write(f\"{previous_speaker}: \")\n",
        "\n",
        "    for sentence_dict in sentences_speaker_mapping:\n",
        "        speaker = sentence_dict[\"speaker\"]\n",
        "        sentence = sentence_dict[\"text\"]\n",
        "\n",
        "        # If this speaker doesn't match the previous one, start a new paragraph\n",
        "        if speaker != previous_speaker:\n",
        "            f.write(f\"\\n\\n{speaker}: \")\n",
        "            previous_speaker = speaker\n",
        "\n",
        "        # No matter what, write the current sentence\n",
        "        f.write(sentence + \" \")"
      ]
    },
    {
      "cell_type": "markdown",
      "metadata": {
        "id": "sgDrWTh5pvnN"
      },
      "source": [
        "**Optional**"
      ]
    },
    {
      "cell_type": "markdown",
      "metadata": {
        "id": "8Ruxc8S1EXtW"
      },
      "source": [
        "**Realigning Speech segments using Punctuation**\n",
        "\n",
        "---\n",
        "\n",
        "This code provides a method for disambiguating speaker labels in cases where a sentence is split between two different speakers. It uses punctuation markings to determine the dominant speaker for each sentence in the transcription.\n",
        "\n",
        "```\n",
        "Speaker A: It's got to come from somewhere else. Yeah, that one's also fun because you know the lows are\n",
        "Speaker B: going to suck, right? So it's actually it hits you on both sides.\n",
        "```\n",
        "\n",
        "For example, if a sentence is split between two speakers, the code takes the mode of speaker labels for each word in the sentence, and uses that speaker label for the whole sentence. This can help to improve the accuracy of speaker diarization, especially in cases where the Whisper model may not take fine utterances like \"hmm\" and \"yeah\" into account, but the Diarization Model (Nemo) may include them, leading to inconsistent results.\n",
        "\n",
        "The code also handles cases where one speaker is giving a monologue while other speakers are making occasional comments in the background. It ignores the comments and assigns the entire monologue to the speaker who is speaking the majority of the time. This provides a robust and reliable method for realigning speech segments to their respective speakers based on punctuation in the transcription."
      ]
    },
    {
      "cell_type": "code",
      "execution_count": null,
      "metadata": {
        "id": "jC0tcTetzMQK"
      },
      "outputs": [],
      "source": [
        "def cleanup(path: str):\n",
        "    \"\"\"path could either be relative or absolute.\"\"\"\n",
        "    # check if file or directory exists\n",
        "    if os.path.isfile(path) or os.path.islink(path):\n",
        "        # remove file\n",
        "        os.remove(path)\n",
        "    elif os.path.isdir(path):\n",
        "        # remove directory and all its content\n",
        "        shutil.rmtree(path)\n",
        "    else:\n",
        "        raise ValueError(\"Path {} is not a file or dir.\".format(path))\n"
      ]
    },
    {
      "cell_type": "code",
      "execution_count": null,
      "metadata": {
        "colab": {
          "base_uri": "https://localhost:8080/",
          "height": 177,
          "referenced_widgets": [
            "1536813cf8fc46db9e07446cd9251331",
            "d2feb0c3385643b1a8c5034c51c40bd8",
            "e427c3ee7a7a477aab6c0264432069fd",
            "2fe68236d48c49779ec1a7d26a130ff3",
            "e6de21c6017244f7b6c34a4c8faafd1a",
            "13f9bf72320e4ef5a449bbf6431328c1",
            "0dd0c8749a104044b8093b4d93ef4e9d",
            "3b009e26a3ca405199ef352dae955a67",
            "5e0578f2bedb43f0a8b8b6ddf88f3d4e",
            "c9fa29bc00d34fb590995b9342e595e7",
            "68c7ac7ea7b14c8bb55ec6f78ad4a5f2",
            "2abb7a20658a421eb71247d2130e3cb0",
            "5e4eeaf795cf4b29b68db7ba0126bb5d",
            "7cd6aac286d94cd1896f64ced25a12d5",
            "0ce3afdb833b4010bb4ac11c95e79450",
            "8e88546c585142d7897e86eac1f8267d",
            "c4be5ca45e20473aa44e430ad9e99f16",
            "9e7ff25b2ef648b0be2950692d9da465",
            "21839ba8a70c4010b87fc2d1471aa331",
            "33fc1485037546bdad79928c5f2d8af4",
            "1651b2bba51e43edbb9801ada6cc1d37",
            "b038658629f54b918493d37fceabe715",
            "c2c4ba7e6c2c4a328d775896662bfde5",
            "9219c39cf04e474082ebab2afa4ef2a3",
            "f6d0fbc91f514898a9f51e3e40187a54",
            "74ac7f71fe934bb0997364655e818339",
            "e5d37faa8a404e0aaf5b9ece080bac2e",
            "2eb0a84c52e34c308a1013889050a7f5",
            "c40c1c4948ff4c0ca8ee37c114c53b83",
            "80a8494564f64439a3b3bb874b469b09",
            "562b49f695304f3ab92c95edf6d869a9",
            "86bda5d55f244bc08f41e1e321575704",
            "d21f36219f1d4de3b84d7cbbf7f9ab23",
            "ac9b968f75cd42ceba19c4208612295a",
            "f7cb216a5a974bdfbffe19572cd94f66",
            "bfa39a65e3c548bb885cfd2ec704fd82",
            "9db60f9eac184aa5a75554c4d6f882d8",
            "cac01c0d58f045e8bee2262791c00aea",
            "6dbd9aad98c24fd5b96c3752d6b1635a",
            "8a387378e48b4fa9a07aa164ac6cee91",
            "b8f2c9992ec547bcafc07cac2de41f6d",
            "1840a39926d6494dbab9f28b65c651f9",
            "bbc516fbecf1491abee6dec0d6a28b7e",
            "5f977ee4f21b492f8e7b2c63c1186177",
            "1c39eccbcea34accada9b42b49a72e2b",
            "05119fa992014eeeabf4d7d2b20a9a88",
            "6e9179c55f86477eb9bc905354fba7bb",
            "0f4ce1017e1b4c538f1b5df128f9b5e5",
            "7421907ae2e94eee8a63a8760785a78f",
            "1b00de2c0aa54998bd9cca3a3e3f2dce",
            "74bc2a33877049469505b40202a7e2e6",
            "a5c4b89c78b24e6f9e0b62d89bb3e2aa",
            "01d652f03b6a42faa33a3a23eddf5deb",
            "801a473b9d83486aa06d49d9c6369c40",
            "85db23303aea423ca7abe32bc8223698"
          ]
        },
        "id": "pgfC5hA41BXu",
        "outputId": "e30d7378-365e-4478-91d5-bdcbfb73a076"
      },
      "outputs": [
        {
          "data": {
            "application/vnd.jupyter.widget-view+json": {
              "model_id": "1536813cf8fc46db9e07446cd9251331",
              "version_major": 2,
              "version_minor": 0
            },
            "text/plain": [
              "config.json:   0%|          | 0.00/914 [00:00<?, ?B/s]"
            ]
          },
          "metadata": {},
          "output_type": "display_data"
        },
        {
          "data": {
            "application/vnd.jupyter.widget-view+json": {
              "model_id": "2abb7a20658a421eb71247d2130e3cb0",
              "version_major": 2,
              "version_minor": 0
            },
            "text/plain": [
              "pytorch_model.bin:   0%|          | 0.00/1.11G [00:00<?, ?B/s]"
            ]
          },
          "metadata": {},
          "output_type": "display_data"
        },
        {
          "data": {
            "application/vnd.jupyter.widget-view+json": {
              "model_id": "c2c4ba7e6c2c4a328d775896662bfde5",
              "version_major": 2,
              "version_minor": 0
            },
            "text/plain": [
              "tokenizer_config.json:   0%|          | 0.00/447 [00:00<?, ?B/s]"
            ]
          },
          "metadata": {},
          "output_type": "display_data"
        },
        {
          "data": {
            "application/vnd.jupyter.widget-view+json": {
              "model_id": "ac9b968f75cd42ceba19c4208612295a",
              "version_major": 2,
              "version_minor": 0
            },
            "text/plain": [
              "tokenizer.json:   0%|          | 0.00/17.1M [00:00<?, ?B/s]"
            ]
          },
          "metadata": {},
          "output_type": "display_data"
        },
        {
          "data": {
            "application/vnd.jupyter.widget-view+json": {
              "model_id": "1c39eccbcea34accada9b42b49a72e2b",
              "version_major": 2,
              "version_minor": 0
            },
            "text/plain": [
              "special_tokens_map.json:   0%|          | 0.00/239 [00:00<?, ?B/s]"
            ]
          },
          "metadata": {},
          "output_type": "display_data"
        }
      ],
      "source": [
        "if language in punct_model_langs:\n",
        "    # restoring punctuation in the transcript to help realign the sentences\n",
        "    punct_model = PunctuationModel(model=\"kredor/punctuate-all\")\n",
        "\n",
        "    words_list = list(map(lambda x: x[\"word\"], wsm))\n",
        "\n",
        "    labled_words = punct_model.predict(words_list)\n",
        "\n",
        "    ending_puncts = \".?!\"\n",
        "    model_puncts = \".,;:!?\"\n",
        "\n",
        "    # We don't want to punctuate U.S.A. with a period. Right?\n",
        "    is_acronym = lambda x: re.fullmatch(r\"\\b(?:[a-zA-Z]\\.){2,}\", x)\n",
        "\n",
        "    for word_dict, labeled_tuple in zip(wsm, labled_words):\n",
        "        word = word_dict[\"word\"]\n",
        "        if (\n",
        "            word\n",
        "            and labeled_tuple[1] in ending_puncts\n",
        "            and (word[-1] not in model_puncts or is_acronym(word))\n",
        "        ):\n",
        "            word += labeled_tuple[1]\n",
        "            if word.endswith(\"..\"):\n",
        "                word = word.rstrip(\".\")\n",
        "            word_dict[\"word\"] = word\n",
        "\n",
        "else:\n",
        "    logging.warning(\n",
        "        f\"Punctuation restoration is not available for {language} language. Using the original punctuation.\"\n",
        "    )\n",
        "\n",
        "wsm = get_realigned_ws_mapping_with_punctuation(wsm)\n"
      ]
    },
    {
      "cell_type": "markdown",
      "metadata": {
        "id": "vF2QAtLOFvwZ"
      },
      "source": [
        "**Cleanup and Exporing the results**"
      ]
    },
    {
      "cell_type": "code",
      "execution_count": null,
      "metadata": {
        "id": "kFTyKI6B1MI0"
      },
      "outputs": [],
      "source": [
        "with open(f\"{os.path.splitext(audio_path)[0]}.txt\", \"w\", encoding=\"utf-8-sig\") as f:\n",
        "    get_speaker_aware_transcript(ssm, f)\n",
        "\n",
        "cleanup(temp_path)"
      ]
    },
    {
      "cell_type": "markdown",
      "metadata": {
        "id": "_TIrP1kOekN4"
      },
      "source": [
        "At the end of this a .txt file is saved which will have properly formatted transcription and Diarization:\n",
        "\n",
        "```\n",
        "Speaker 1: They had money, but they weren't minding it.  They could afford it, but more of them got out of it.  \n",
        "\n",
        "Speaker 0: And some of them, I think you told me, wouldn't have it on the land at all.  \n",
        "\n",
        "Speaker 1: You see, ten men cut it at three and six months a day.  \n",
        "\n",
        "Speaker 0: Do you remember cutting the harvest with the reaping hook?  \n",
        "\n",
        "```"
      ]
    },
    {
      "cell_type": "markdown",
      "metadata": {
        "id": "jAAm2jwBodfv"
      },
      "source": [
        "## **WORD ERROR RATE CALCULATION**"
      ]
    },
    {
      "cell_type": "code",
      "execution_count": null,
      "metadata": {
        "colab": {
          "base_uri": "https://localhost:8080/"
        },
        "id": "DTZPY3-2ongK",
        "outputId": "452390e6-eef0-4e9d-80b0-489e9bbf438a"
      },
      "outputs": [
        {
          "name": "stdout",
          "output_type": "stream",
          "text": [
            "\u001b[?25l     \u001b[90m━━━━━━━━━━━━━━━━━━━━━━━━━━━━━━━━━━━━━━━━\u001b[0m \u001b[32m0.0/3.4 MB\u001b[0m \u001b[31m?\u001b[0m eta \u001b[36m-:--:--\u001b[0m\r\u001b[2K     \u001b[91m━━━━━\u001b[0m\u001b[90m╺\u001b[0m\u001b[90m━━━━━━━━━━━━━━━━━━━━━━━━━━━━━━━━━━\u001b[0m \u001b[32m0.5/3.4 MB\u001b[0m \u001b[31m14.0 MB/s\u001b[0m eta \u001b[36m0:00:01\u001b[0m\r\u001b[2K     \u001b[91m━━━━━━━━━━━━━\u001b[0m\u001b[91m╸\u001b[0m\u001b[90m━━━━━━━━━━━━━━━━━━━━━━━━━━\u001b[0m \u001b[32m1.1/3.4 MB\u001b[0m \u001b[31m16.6 MB/s\u001b[0m eta \u001b[36m0:00:01\u001b[0m\r\u001b[2K     \u001b[91m━━━━━━━━━━━━━━━━━━━━━━\u001b[0m\u001b[91m╸\u001b[0m\u001b[90m━━━━━━━━━━━━━━━━━\u001b[0m \u001b[32m1.9/3.4 MB\u001b[0m \u001b[31m18.8 MB/s\u001b[0m eta \u001b[36m0:00:01\u001b[0m\r\u001b[2K     \u001b[91m━━━━━━━━━━━━━━━━━━━━━━━━━━━━━━━━━━\u001b[0m\u001b[91m╸\u001b[0m\u001b[90m━━━━━\u001b[0m \u001b[32m3.0/3.4 MB\u001b[0m \u001b[31m21.1 MB/s\u001b[0m eta \u001b[36m0:00:01\u001b[0m\r\u001b[2K     \u001b[91m━━━━━━━━━━━━━━━━━━━━━━━━━━━━━━━━━━━━━━━\u001b[0m\u001b[91m╸\u001b[0m \u001b[32m3.4/3.4 MB\u001b[0m \u001b[31m22.2 MB/s\u001b[0m eta \u001b[36m0:00:01\u001b[0m\r\u001b[2K     \u001b[90m━━━━━━━━━━━━━━━━━━━━━━━━━━━━━━━━━━━━━━━━\u001b[0m \u001b[32m3.4/3.4 MB\u001b[0m \u001b[31m18.6 MB/s\u001b[0m eta \u001b[36m0:00:00\u001b[0m\n",
            "\u001b[?25h"
          ]
        }
      ],
      "source": [
        "!pip install -q jiwer"
      ]
    },
    {
      "cell_type": "code",
      "execution_count": null,
      "metadata": {
        "id": "F5lt_96ytHsr"
      },
      "outputs": [],
      "source": [
        "# Define the ground truth and hypothesis\n",
        "ground_truth = \"\"\"\n",
        "I'm going to introduce you to a rather remarkable man. He's Mister Michael Fitzpatrick from Killenie Maynooth.\n",
        "Now he started to draw the old edge pension in 1927 and seven years ago he got the president's bounty on his hundredth birthday.\n",
        "Now he's from County Clare. He came up from Clare in 1940 to a land commission farm in Maynooth where he lives now you have seen a lot of changes, Mister Fitzpatrick, in farming.\n",
        "What would you say was the biggest change?\n",
        "Well, machinery.\n",
        "And what sort of a machine would you think that made the biggest impression?\n",
        "Well, the reaper and binder is a great one, but by God, the one for cutting up the ground and throwing a crop is a powerful one too.\n",
        "Well, you were. You were saying at the time you saw the mowing machine first it made a tremendous impression on you.\n",
        "It did, because it was a  wonder. How could it be done at all?\n",
        "What was the reaction of the people at that time to the mowing machine, Mr.Fitzpatrick?\n",
        "A great many of them wasn't minding it or could afford it but a more of them got at it.\n",
        "And some of them, I think you told me, wouldn't have it on the land at all.\n",
        "Well,a man that has a good farm with us...outside of us our townsland. He wouldn't allow bring in it. He used to be paying men for to cut it at three and six pence a day.\n",
        "Do you remember ah..ah cutting the harvest with the reaping hook?\n",
        "Ah, it was it was all of it... cut... for years and years and years. Nothing else ever cut it.\n",
        "And how do you think that the reaping hook compares with the combine at the present time?\n",
        "Aw well, there's an awful difference. An awful difference I see anyway because the combine did as good in one start of a day as the poor reaper and binder wouldn't bring in a week.\n",
        "Now you also remember, I think, a rather historic thing in the land history of this country, the bodyke evictions.\n",
        "I do I do.\n",
        "Could you describe for us what happened at those evictions? You were at them?\n",
        "I was at one of them for about 5 hours in the one day.\n",
        "And what happened?\n",
        "Aw they threw out...They were very cruel. They threw out children and woman on the roadside. Well, there was one of them thrown out the one day I was in it and the baby was only about three days old.\n",
        "And they were sitting, they were thrown on the banks of the road for the lake. Aw It was cruel.\n",
        "And how about the...ah... type of food you had to eat at that time, Mr. Fitzpatrick..what sort of, what did you live on?\n",
        "Well we lived, We had to live on it there a long time on an Indian meal and flour.\n",
        "\n",
        "\"\"\"\n",
        "\n",
        "assembly_ai_output = \"\"\"\n",
        "I'm going to introduce you to a rather remarkable man. He's Mister Michael Fitzpatrick from Killenie Maynooth.\n",
        "Now he started to draw the old edge pension in 1927 and seven years ago he got the president's bounty on his hundredth birthday.\n",
        "Now he's from County Clare. He came up from Clare in 1940 to a land commission farm in Maynooth where he lives now you have seen a lot of changes, Mister Fitzpatrick, in farming.\n",
        "What would you say was the biggest change?\n",
        "Well, machinery.\n",
        "And what sort of a machine would you think that made the biggest impression?\n",
        "Well, the reaper and binder is a great one, but by God, the one for cutting up the ground and throwing a crop is a powerful one too.\n",
        "Well, you were. You were saying you're at the time you saw the mowing machine for it made a tremendous impression on you.\n",
        "It did, because it is one. How could it be done at all?\n",
        "What was the reaction of the people at that time to the Moor machine, mister?\n",
        "Great money was maintained, I could afford it, but more habit.\n",
        "And some of them, I think you told me, wouldn't have it on the land at all.\n",
        "Well, I had a good father, motors land. He wouldn't allow it in it. He used to pay a minimum profit at three and sixpence a day.\n",
        "Do you remember cutting the harvest with the reaping hook?\n",
        "Oh, all of it cut for years and years and years. Nothing else about cutting.\n",
        "And how do you think that the reaping hook compares with the combine at the present time?\n",
        "Well, there's an awful difference. And now for different safety anywhere because if it started here is a poor rape around there wouldn't be enough.\n",
        "Now you also remember, I think, a rather historic thing in the land history of this country, the bodike evictions.\n",
        "Could you describe for us what happened at those evictions? You were at them?\n",
        "I was at one of them about 5 hours.\n",
        "And what happened?\n",
        "That was very cruel. That's from children and the whole shit.\n",
        " Well, there was one of them thrown out one day I was in it and the baby was only about three days old and they were sitting, they were thrown on the banks. It was cruel.\n",
        "And how about the type of food you had to eat at that time, Mr. Fisvatik, what did you live on?\n",
        "We had to live there a long time on an indian maid on plover.\n",
        "\"\"\"\n",
        "\n",
        "whisper_output = \"\"\"\n",
        "I'm going to introduce you to a rather remarkable man.  He's Mr.  Michael Fitzpatrick from Killeney, Maynooth.  Now, he started to draw the old age pension.  in nineteen twenty seven and seven years ago he got the president's bounty on his hundredth birthday.  Now, he's from County Clare.  He came up from Clare in nineteen forty to a land commission farm in Maynooth, where he lives now.  You have seen a lot of changes, Mr Fitzpatrick, in farming.  What would you say was the biggest change?\n",
        "Well, machinery.\n",
        "And what sort of a machine would you think made the biggest impression?\n",
        "Well, the reaper and binder is a great one, but by God, the one for cutting up the ground and throwing the crop is a powerful one too.\n",
        "Well, you were saying at the time you saw the mowing machine first, it made a tremendous impression on you.\n",
        "It did, because you didn't wonder how could it be done at all.\n",
        "What was the reaction of the people at that time to the mowing machine, Mr.  Scott?\n",
        "They had money, but they weren't minding it.  They could afford it, but more of them got out of it.\n",
        "And some of them, I think you told me, wouldn't have it on the land at all.\n",
        "You see, ten men cut it at three and six months a day.\n",
        "Do you remember cutting the harvest with the reaping hook?\n",
        "Oh, all of it.  Of course, for years and years and years, nothing else about cutting.\n",
        "And how do you think that the reaping hook compares with the combine at the present time?\n",
        "Oh, well, there's an awful difference.  An awful difference I see anywhere.  Because if you couldn't find it, if you wouldn't want it, start to put it there, if you put it on the vine, there wouldn't be no mice.\n",
        "Now, you also remember, I think, a rather historic thing in the land history of this country, the Bowdike evictions.  I do.  Could you describe for us what happened at those evictions?  You were at them.\n",
        "was at one of them about five hours.One day there.\n",
        "And what happened?\n",
        "Ah, that was very cruel.  They throw children and women on the roadside.  Well, there was one of them thrown out, but one day I was in it, and the baby was only about three days old.  And they were sitting, they were thrown on the bank of the river, and we all fell down like this.  Oh, it was cruel.\n",
        "And how about the type of food you had to eat at that time, Mr.  Fitzpatrick?  What sort of, what did you live on?\n",
        "Well, we had to live there a long time on an Indian maid and flowers.\n",
        "\n",
        "\"\"\"\n",
        "\n",
        "deepgram_output = \"\"\"\n",
        "I'm going to introduce you to a rather remarkable man. He's mister Michael Fitzpatrick from Kilenny, Maynooth.\n",
        "Now he started to draw the old age pension in 1927, and 7 years ago, he got the president's bounty on his 100th birthday.\n",
        "Now he's from County Clare. He came up from Clare in 1940 to a land commission farm in Maynooth where he lives now.\n",
        "You have seen a lot of changes, mister Fitzpatrick, in farming. What would you say was the biggest change? With machinery.\n",
        "And what sort of a machine do you think made the biggest impression?\n",
        "Well, the reaper and binders are graffing, but, by god, the one pulled caution up the ground and thrown a flap is a powerful one too.\n",
        "Well, you were you were saying you're at at the time you saw the mowing machine first, it it made a tremendous impression on you.\n",
        "Indeed. Because it is not how could it be done at all? What was the the reaction of the people at that time to the mower machine, mister Scott? Money.\n",
        "If I wasn't mowing in it, I could afford it, but the mower would have it.\n",
        "And some of them, I think, you told me, wouldn't have it on the land at all.\n",
        "Well, and Do do you remember, cutting the harvest with the reap and hope? Oh, probably all of it. Quite for years years years.\n",
        "That's it. It's about quite. And how do you think that the ripen hook compares with the combine no You can't come by and just go in the morning, start to bid here, and just put a report on by and there wouldn't be no noise.\n",
        "Now you also remember, I think, a rather historic thing in the land history of this country, the Bovah, Burdike evictions.\n",
        "I remember. Could you could you describe for us what happened at those evictions? You were at them. I was at one of them.\n",
        "About about by. And what happened? That's, you know, that was very cruel. That's all children and women and the bullshit.\n",
        "Well, there was one of them thrown out, put in one day, everything in it, and the baby was only about 3 days old.\n",
        "And they were sitting they were throwing on the banks of the then go for jelly. Oh, it was cruel.\n",
        "And how about the type of food you had to eat at that time, mister Fisbati? What sort of what did you live on?\n",
        "What was it? We had to live there a long time on an Indian land and trouble. \"\"\"\n",
        "\n",
        "\n",
        "gladia_whisper_zero_output = \"\"\"\n",
        "I'm going to introduce you to a rather remarkable man. He's Mr Michael Fitzpatrick from Killenie, Maynooth.\n",
        "Now... He started to draw the old age pension in 1927 and seven years ago he got the president's bounty on his hundredth birthday.\n",
        "Now he's from County Clare. He came up from Clare in 1940 to a land commission farm in Maynooth where he lives now.\n",
        "You have seen a lot of changes Mr Fitzpatrick in farming. What would you say was the biggest change? Well machinery.\n",
        "And what sort of a machine machine? What do you think made the biggest impression?\n",
        "Well, the Rupert and Binder, the great one, but by God, the one for cutting up the ground and throwing a crop is a powerful one too.\n",
        "Well, you were saying at the time you saw the mowing machine first, it made a tremendous impression on you.\n",
        "It did, because I didn't know how good it would be doing at all. What was the reaction of the people at that time to the mowing machine?\n",
        "They had great money but they weren't minding it and couldn't afford it. But the mowing got at it.\n",
        "And some of them I think you told me wouldn't have it on the land at all.\n",
        "Well, I had a good father who said about our town's land, he wouldn't have it on the land. You see, ten men cut it, at three and six months a day. Do you remember cutting the harvest with the reaping hook?\n",
        "Oh, all of it. Of course, for years and years and years, not a hint about cutting.\n",
        "How do you think that the reaping hook compares with the combine at the present time?\n",
        "Oh, well, there's an awful difference. An awful difference, I see, anyway.\n",
        "Because if you come round and you see a woman slapping her hair, you just put a wiper on and there wouldn't be no mice.\n",
        "Now you also remember, I think, a rather historic thing in the land history of this country, the Boddike Evictions. I do.\n",
        "Could you describe for us what happened at those evictions? You were at them. I was at one of them about five hours.\n",
        "One day. And what happened? Ah, they were very cruel. They threw children and women on the roadside.\n",
        "Well, there was one of them thrown out, but one day I was in it, and the baby was only about three days old.\n",
        "And they were sitting, they were thrown on the bank, and they were off on their legs. Ah, it was cruel.\n",
        "And how about the type of food you had to eat at that time, Mr Fispartic?\n",
        "What sort of, what did you live on? What did we live on? We had to live there a long time on an Indian land on the prowl. \"\"\""
      ]
    },
    {
      "cell_type": "code",
      "execution_count": null,
      "metadata": {
        "colab": {
          "base_uri": "https://localhost:8080/"
        },
        "id": "Xx-k3-rmcHh4",
        "outputId": "5be0481f-317c-431e-bb4e-1bb87fe6312b"
      },
      "outputs": [
        {
          "name": "stdout",
          "output_type": "stream",
          "text": [
            "Ground Truth Normalised: im going to introduce you to a rather remarkable man hes mister michael fitzpatrick from killenie maynooth now he started to draw the old edge pension in 1927 and seven years ago he got the presidents bounty on his hundredth birthday now hes from county clare he came up from clare in 1940 to a land commission farm in maynooth where he lives now you have seen a lot of changes mister fitzpatrick in farming what would you say was the biggest change well machinery and what sort of a machine would you think that made the biggest impression well the reaper and binder is a great one but by god the one for cutting up the ground and throwing a crop is a powerful one too well you were you were saying at the time you saw the mowing machine first it made a tremendous impression on you it did because it was a wonder how could it be done at all what was the reaction of the people at that time to the mowing machine mrfitzpatrick a great many of them wasnt minding it or could afford it but a more of them got at it and some of them i think you told me wouldnt have it on the land at all wella man that has a good farm with usoutside of us our townsland he wouldnt allow bring in it he used to be paying men for to cut it at three and six pence a day do you remember ahah cutting the harvest with the reaping hook ah it was it was all of it cut for years and years and years nothing else ever cut it and how do you think that the reaping hook compares with the combine at the present time aw well theres an awful difference an awful difference i see anyway because the combine did as good in one start of a day as the poor reaper and binder wouldnt bring in a week now you also remember i think a rather historic thing in the land history of this country the bodyke evictions i do i do could you describe for us what happened at those evictions you were at them i was at one of them for about 5 hours in the one day and what happened aw they threw outthey were very cruel they threw out children and woman on the roadside well there was one of them thrown out the one day i was in it and the baby was only about three days old and they were sitting they were thrown on the banks of the road for the lake aw it was cruel and how about theah type of food you had to eat at that time mr fitzpatrickwhat sort of what did you live on well we lived we had to live on it there a long time on an indian meal and flour\n",
            "********\n",
            "Assembly AI Output Normalised: im going to introduce you to a rather remarkable man hes mister michael fitzpatrick from killenie maynooth now he started to draw the old edge pension in 1927 and seven years ago he got the presidents bounty on his hundredth birthday now hes from county clare he came up from clare in 1940 to a land commission farm in maynooth where he lives now you have seen a lot of changes mister fitzpatrick in farming what would you say was the biggest change well machinery and what sort of a machine would you think that made the biggest impression well the reaper and binder is a great one but by god the one for cutting up the ground and throwing a crop is a powerful one too well you were you were saying youre at the time you saw the mowing machine for it made a tremendous impression on you it did because it is one how could it be done at all what was the reaction of the people at that time to the moor machine mister great money was maintained i could afford it but more habit and some of them i think you told me wouldnt have it on the land at all well i had a good father motors land he wouldnt allow it in it he used to pay a minimum profit at three and sixpence a day do you remember cutting the harvest with the reaping hook oh all of it cut for years and years and years nothing else about cutting and how do you think that the reaping hook compares with the combine at the present time well theres an awful difference and now for different safety anywhere because if it started here is a poor rape around there wouldnt be enough now you also remember i think a rather historic thing in the land history of this country the bodike evictions could you describe for us what happened at those evictions you were at them i was at one of them about 5 hours and what happened that was very cruel thats from children and the whole shit well there was one of them thrown out one day i was in it and the baby was only about three days old and they were sitting they were thrown on the banks it was cruel and how about the type of food you had to eat at that time mr fisvatik what did you live on we had to live there a long time on an indian maid on plover\n",
            "********\n",
            " Gladia Whisper Zero Output Normalised: im going to introduce you to a rather remarkable man hes mr michael fitzpatrick from killenie maynooth now he started to draw the old age pension in 1927 and seven years ago he got the presidents bounty on his hundredth birthday now hes from county clare he came up from clare in 1940 to a land commission farm in maynooth where he lives now you have seen a lot of changes mr fitzpatrick in farming what would you say was the biggest change well machinery and what sort of a machine machine what do you think made the biggest impression well the rupert and binder the great one but by god the one for cutting up the ground and throwing a crop is a powerful one too well you were saying at the time you saw the mowing machine first it made a tremendous impression on you it did because i didnt know how good it would be doing at all what was the reaction of the people at that time to the mowing machine they had great money but they werent minding it and couldnt afford it but the mowing got at it and some of them i think you told me wouldnt have it on the land at all well i had a good father who said about our towns land he wouldnt have it on the land you see ten men cut it at three and six months a day do you remember cutting the harvest with the reaping hook oh all of it of course for years and years and years not a hint about cutting how do you think that the reaping hook compares with the combine at the present time oh well theres an awful difference an awful difference i see anyway because if you come round and you see a woman slapping her hair you just put a wiper on and there wouldnt be no mice now you also remember i think a rather historic thing in the land history of this country the boddike evictions i do could you describe for us what happened at those evictions you were at them i was at one of them about five hours one day and what happened ah they were very cruel they threw children and women on the roadside well there was one of them thrown out but one day i was in it and the baby was only about three days old and they were sitting they were thrown on the bank and they were off on their legs ah it was cruel and how about the type of food you had to eat at that time mr fispartic what sort of what did you live on what did we live on we had to live there a long time on an indian land on the prowl\n",
            "********\n",
            "Deepgram Output Normalised: im going to introduce you to a rather remarkable man hes mister michael fitzpatrick from kilenny maynooth now he started to draw the old age pension in 1927 and 7 years ago he got the presidents bounty on his 100th birthday now hes from county clare he came up from clare in 1940 to a land commission farm in maynooth where he lives now you have seen a lot of changes mister fitzpatrick in farming what would you say was the biggest change with machinery and what sort of a machine do you think made the biggest impression well the reaper and binders are graffing but by god the one pulled caution up the ground and thrown a flap is a powerful one too well you were you were saying youre at at the time you saw the mowing machine first it it made a tremendous impression on you indeed because it is not how could it be done at all what was the the reaction of the people at that time to the mower machine mister scott money if i wasnt mowing in it i could afford it but the mower would have it and some of them i think you told me wouldnt have it on the land at all well and do do you remember cutting the harvest with the reap and hope oh probably all of it quite for years years years thats it its about quite and how do you think that the ripen hook compares with the combine no you cant come by and just go in the morning start to bid here and just put a report on by and there wouldnt be no noise now you also remember i think a rather historic thing in the land history of this country the bovah burdike evictions i remember could you could you describe for us what happened at those evictions you were at them i was at one of them about about by and what happened thats you know that was very cruel thats all children and women and the bullshit well there was one of them thrown out put in one day everything in it and the baby was only about 3 days old and they were sitting they were throwing on the banks of the then go for jelly oh it was cruel and how about the type of food you had to eat at that time mister fisbati what sort of what did you live on what was it we had to live there a long time on an indian land and trouble\n",
            "********\n",
            "Whisper Output Normalised: im going to introduce you to a rather remarkable man hes mr michael fitzpatrick from killeney maynooth now he started to draw the old age pension in nineteen twenty seven and seven years ago he got the presidents bounty on his hundredth birthday now hes from county clare he came up from clare in nineteen forty to a land commission farm in maynooth where he lives now you have seen a lot of changes mr fitzpatrick in farming what would you say was the biggest change well machinery and what sort of a machine would you think made the biggest impression well the reaper and binder is a great one but by god the one for cutting up the ground and throwing the crop is a powerful one too well you were saying at the time you saw the mowing machine first it made a tremendous impression on you it did because you didnt wonder how could it be done at all what was the reaction of the people at that time to the mowing machine mr scott they had money but they werent minding it they could afford it but more of them got out of it and some of them i think you told me wouldnt have it on the land at all you see ten men cut it at three and six months a day do you remember cutting the harvest with the reaping hook oh all of it of course for years and years and years nothing else about cutting and how do you think that the reaping hook compares with the combine at the present time oh well theres an awful difference an awful difference i see anywhere because if you couldnt find it if you wouldnt want it start to put it there if you put it on the vine there wouldnt be no mice now you also remember i think a rather historic thing in the land history of this country the bowdike evictions i do could you describe for us what happened at those evictions you were at them was at one of them about five hoursone day there and what happened ah that was very cruel they throw children and women on the roadside well there was one of them thrown out but one day i was in it and the baby was only about three days old and they were sitting they were thrown on the bank of the river and we all fell down like this oh it was cruel and how about the type of food you had to eat at that time mr fitzpatrick what sort of what did you live on well we had to live there a long time on an indian maid and flowers\n",
            "********\n",
            "Assembly AI Word Error Rate: 0.24\n",
            "********\n",
            "Gladia Whisper Zero Word Error Rate: 0.26\n",
            "********\n",
            "Deepgram Word Error Rate: 0.35\n",
            "********\n",
            "Whisper Word Error Rate: 0.27\n",
            "********\n"
          ]
        }
      ],
      "source": [
        "import jiwer\n",
        "import re\n",
        "\n",
        "def preprocess_text(text):\n",
        "    # Normalize the case and strip whitespace\n",
        "    text = text.lower().strip()\n",
        "    # Remove punctuation\n",
        "    text = re.sub(r'[^\\w\\s]', '', text)\n",
        "    # Replace multiple spaces with a single space\n",
        "    text = re.sub(r'\\s+', ' ', text)\n",
        "    return text\n",
        "\n",
        "# Preprocess both ground truth and AI output\n",
        "ground_truth_clean = preprocess_text(ground_truth)\n",
        "assembly_ai_output_clean = preprocess_text(assembly_ai_output)\n",
        "whisper_output_clean = preprocess_text(whisper_output)\n",
        "deepgram_output_clean = preprocess_text(deepgram_output)\n",
        "gladia_whisper_zero_output_clean = preprocess_text(gladia_whisper_zero_output)\n",
        "\n",
        "print(f\"Ground Truth Normalised:\",ground_truth_clean)\n",
        "\n",
        "print(\"********\")\n",
        "\n",
        "print(f\"Assembly AI Output Normalised:\", assembly_ai_output_clean)\n",
        "\n",
        "\n",
        "print(\"********\")\n",
        "\n",
        "print(f\" Gladia Whisper Zero Output Normalised:\", gladia_whisper_zero_output_clean)\n",
        "\n",
        "print(\"********\")\n",
        "\n",
        "\n",
        "\n",
        "print(f\"Deepgram Output Normalised:\", deepgram_output_clean)\n",
        "\n",
        "\n",
        "print(\"********\")\n",
        "\n",
        "print(f\"Whisper Output Normalised:\", whisper_output_clean)\n",
        "\n",
        "print(\"********\")\n",
        "\n",
        "aai_wer = jiwer.wer(\n",
        "    ground_truth_clean,\n",
        "    assembly_ai_output_clean,\n",
        ")\n",
        "\n",
        "gladia_wer = jiwer.wer(\n",
        "    ground_truth_clean,\n",
        "    gladia_whisper_zero_output_clean,)\n",
        "\n",
        "\n",
        "dgram_wer = jiwer.wer(\n",
        "    ground_truth_clean,\n",
        "    deepgram_output_clean\n",
        ")\n",
        "\n",
        "whisper_wer = jiwer.wer(\n",
        "    ground_truth_clean,\n",
        "    whisper_output_clean\n",
        ")\n",
        "\n",
        "print(f\"Assembly AI Word Error Rate: {aai_wer:.2f}\")\n",
        "print(\"********\")\n",
        "print(f\"Gladia Whisper Zero Word Error Rate: {gladia_wer:.2f}\")\n",
        "print(\"********\")\n",
        "print(f\"Deepgram Word Error Rate: {dgram_wer:.2f}\")\n",
        "print(\"********\")\n",
        "print(f\"Whisper Word Error Rate: {whisper_wer:.2f}\")\n",
        "print(\"********\")"
      ]
    },
    {
      "cell_type": "markdown",
      "metadata": {
        "id": "2vGuwCoo8_jf"
      },
      "source": [
        "## **DIARIZATION ERROR RATE**"
      ]
    },
    {
      "cell_type": "code",
      "execution_count": null,
      "metadata": {
        "id": "gMmHjCDGsT7Y"
      },
      "outputs": [],
      "source": [
        "!pip install -qq pyannote.audio"
      ]
    },
    {
      "cell_type": "code",
      "execution_count": null,
      "metadata": {
        "colab": {
          "base_uri": "https://localhost:8080/"
        },
        "id": "sfj-kODQJJ_K",
        "outputId": "b2ca8cce-0715-41cd-dcf4-76fd9d9e8d9c"
      },
      "outputs": [
        {
          "name": "stdout",
          "output_type": "stream",
          "text": [
            "Assembly AI Diarization Error Rate: 2.58%\n",
            "********\n",
            "Whisper Diarization Error Rate: 5.81%\n"
          ]
        }
      ],
      "source": [
        "from pyannote.core import Annotation, Segment\n",
        "from pyannote.metrics.diarization import DiarizationErrorRate\n",
        "\n",
        "# Create annotations for ground truth and hypothesis\n",
        "ground_truth = Annotation()\n",
        "assembly_ai_output = Annotation()\n",
        "whisper_output = Annotation()\n",
        "\n",
        "# Assuming we have start times and durations (in seconds)\n",
        "# Ground Truth (you would fill in actual start times and durations)\n",
        "ground_truth[Segment(0, 35)] = 'A'\n",
        "ground_truth[Segment(36, 37)] = 'B'\n",
        "ground_truth[Segment(37, 41)] = 'A'\n",
        "ground_truth[Segment(42, 50)] = 'B'\n",
        "ground_truth[Segment(51, 56)] = 'A'\n",
        "ground_truth[Segment(57, 61)] = 'B'\n",
        "ground_truth[Segment(62, 67)] = 'A'\n",
        "ground_truth[Segment(67, 72)] = 'B'\n",
        "ground_truth[Segment(73, 77)] = 'A'\n",
        "ground_truth[Segment(77,87)] = 'B'\n",
        "ground_truth[Segment(88, 92)] = 'A'\n",
        "ground_truth[Segment(93, 99)] = 'B'\n",
        "ground_truth[Segment(99, 103)] = 'A'\n",
        "ground_truth[Segment(104, 116)] = 'B'\n",
        "ground_truth[Segment(116, 124)] = 'A'\n",
        "ground_truth[Segment(124, 126)] = 'B'\n",
        "ground_truth[Segment(126, 129)] = 'A'\n",
        "ground_truth[Segment(130, 135)] = 'B'\n",
        "ground_truth[Segment(136, 136)] = 'A'\n",
        "ground_truth[Segment(137, 155)] = 'B'\n",
        "ground_truth[Segment(156, 163)] = 'A'\n",
        "ground_truth[Segment(164, 169)] = 'B'\n",
        "\n",
        "# Assembly AI Output (assuming some errors)\n",
        "assembly_ai_output[Segment(0, 35)] = 'A'\n",
        "assembly_ai_output[Segment(36, 37)] = 'B'  # Overlap error, different end times\n",
        "assembly_ai_output[Segment(37, 41)] = 'A'  # Shift in time\n",
        "assembly_ai_output[Segment(42, 50)] = 'B'\n",
        "assembly_ai_output[Segment(51, 56)] = 'A'\n",
        "assembly_ai_output[Segment(57, 61)] = 'B'\n",
        "assembly_ai_output[Segment(62, 67)] = 'A'\n",
        "assembly_ai_output[Segment(67, 72)] = 'B'\n",
        "assembly_ai_output[Segment(73, 77)] = 'A'\n",
        "assembly_ai_output[Segment(77, 87)] = 'B'\n",
        "assembly_ai_output[Segment(88, 92)] = 'A'\n",
        "assembly_ai_output[Segment(93, 99)] = 'B'\n",
        "assembly_ai_output[Segment(99, 103)] = 'A'\n",
        "assembly_ai_output[Segment(104, 116)] = 'B'\n",
        "assembly_ai_output[Segment(116, 129)] = 'A'\n",
        "assembly_ai_output[Segment(130, 133)] = 'B'\n",
        "assembly_ai_output[Segment(136, 136)] = 'A'\n",
        "assembly_ai_output[Segment(137, 155)] = 'B'\n",
        "assembly_ai_output[Segment(156, 163)] = 'A'\n",
        "assembly_ai_output[Segment(164, 169)] = 'B'\n",
        "\n",
        "\n",
        "\n",
        "# Whisper Output (assuming some errors)\n",
        "whisper_output[Segment(0, 35)] = 'A'\n",
        "whisper_output[Segment(36, 37)] = 'B'  # Overlap error, different end times\n",
        "whisper_output[Segment(37, 41)] = 'A'  # Shift in time\n",
        "whisper_output[Segment(42, 50)] = 'B'\n",
        "whisper_output[Segment(51, 56)] = 'A'\n",
        "whisper_output[Segment(57, 61)] = 'B'\n",
        "whisper_output[Segment(62, 67)] = 'A'\n",
        "whisper_output[Segment(67, 72)] = 'B'\n",
        "whisper_output[Segment(73, 77)] = 'A'\n",
        "whisper_output[Segment(84, 87)] = 'B'\n",
        "whisper_output[Segment(88, 92)] = 'A'\n",
        "whisper_output[Segment(93, 99)] = 'B'\n",
        "whisper_output[Segment(99, 103)] = 'A'\n",
        "whisper_output[Segment(104, 116)] = 'B'\n",
        "whisper_output[Segment(116, 124)] = 'A'\n",
        "whisper_output[Segment(124, 126)] = 'B'\n",
        "whisper_output[Segment(126, 129)] = 'A'\n",
        "whisper_output[Segment(130, 133)] = 'B'\n",
        "whisper_output[Segment(136, 136)] = 'A'\n",
        "whisper_output[Segment(137, 155)] = 'B'\n",
        "whisper_output[Segment(156, 163)] = 'A'\n",
        "whisper_output[Segment(164, 169)] = 'B'\n",
        "\n",
        "\n",
        "# Initialize metric\n",
        "metric = DiarizationErrorRate()\n",
        "\n",
        "# Calculate DER\n",
        "aai_der = metric(ground_truth, assembly_ai_output)\n",
        "print(f\"Assembly AI Diarization Error Rate: {aai_der:.2%}\")\n",
        "\n",
        "print(\"********\")\n",
        "\n",
        "whisper_der = metric(ground_truth, whisper_output)\n",
        "print(f\"Whisper Diarization Error Rate: {whisper_der:.2%}\")"
      ]
    }
  ],
  "metadata": {
    "accelerator": "GPU",
    "colab": {
      "gpuType": "T4",
      "provenance": []
    },
    "kernelspec": {
      "display_name": "Python 3",
      "name": "python3"
    },
    "language_info": {
      "codemirror_mode": {
        "name": "ipython",
        "version": 3
      },
      "file_extension": ".py",
      "mimetype": "text/x-python",
      "name": "python",
      "nbconvert_exporter": "python",
      "pygments_lexer": "ipython3",
      "version": "3.10.12"
    },
    "widgets": {
      "application/vnd.jupyter.widget-state+json": {
        "01b334eabfa64e2fb9fa94bfbbf856d2": {
          "model_module": "@jupyter-widgets/controls",
          "model_module_version": "1.5.0",
          "model_name": "ProgressStyleModel",
          "state": {
            "_model_module": "@jupyter-widgets/controls",
            "_model_module_version": "1.5.0",
            "_model_name": "ProgressStyleModel",
            "_view_count": null,
            "_view_module": "@jupyter-widgets/base",
            "_view_module_version": "1.2.0",
            "_view_name": "StyleView",
            "bar_color": null,
            "description_width": ""
          }
        },
        "01d652f03b6a42faa33a3a23eddf5deb": {
          "model_module": "@jupyter-widgets/controls",
          "model_module_version": "1.5.0",
          "model_name": "ProgressStyleModel",
          "state": {
            "_model_module": "@jupyter-widgets/controls",
            "_model_module_version": "1.5.0",
            "_model_name": "ProgressStyleModel",
            "_view_count": null,
            "_view_module": "@jupyter-widgets/base",
            "_view_module_version": "1.2.0",
            "_view_name": "StyleView",
            "bar_color": null,
            "description_width": ""
          }
        },
        "01f09297aa1741e197c4b89361d5a4d0": {
          "model_module": "@jupyter-widgets/base",
          "model_module_version": "1.2.0",
          "model_name": "LayoutModel",
          "state": {
            "_model_module": "@jupyter-widgets/base",
            "_model_module_version": "1.2.0",
            "_model_name": "LayoutModel",
            "_view_count": null,
            "_view_module": "@jupyter-widgets/base",
            "_view_module_version": "1.2.0",
            "_view_name": "LayoutView",
            "align_content": null,
            "align_items": null,
            "align_self": null,
            "border": null,
            "bottom": null,
            "display": null,
            "flex": null,
            "flex_flow": null,
            "grid_area": null,
            "grid_auto_columns": null,
            "grid_auto_flow": null,
            "grid_auto_rows": null,
            "grid_column": null,
            "grid_gap": null,
            "grid_row": null,
            "grid_template_areas": null,
            "grid_template_columns": null,
            "grid_template_rows": null,
            "height": null,
            "justify_content": null,
            "justify_items": null,
            "left": null,
            "margin": null,
            "max_height": null,
            "max_width": null,
            "min_height": null,
            "min_width": null,
            "object_fit": null,
            "object_position": null,
            "order": null,
            "overflow": null,
            "overflow_x": null,
            "overflow_y": null,
            "padding": null,
            "right": null,
            "top": null,
            "visibility": null,
            "width": null
          }
        },
        "05119fa992014eeeabf4d7d2b20a9a88": {
          "model_module": "@jupyter-widgets/controls",
          "model_module_version": "1.5.0",
          "model_name": "HTMLModel",
          "state": {
            "_dom_classes": [],
            "_model_module": "@jupyter-widgets/controls",
            "_model_module_version": "1.5.0",
            "_model_name": "HTMLModel",
            "_view_count": null,
            "_view_module": "@jupyter-widgets/controls",
            "_view_module_version": "1.5.0",
            "_view_name": "HTMLView",
            "description": "",
            "description_tooltip": null,
            "layout": "IPY_MODEL_1b00de2c0aa54998bd9cca3a3e3f2dce",
            "placeholder": "​",
            "style": "IPY_MODEL_74bc2a33877049469505b40202a7e2e6",
            "value": "special_tokens_map.json: 100%"
          }
        },
        "08cec423e87847309e6b5406354c4d4d": {
          "model_module": "@jupyter-widgets/controls",
          "model_module_version": "1.5.0",
          "model_name": "HTMLModel",
          "state": {
            "_dom_classes": [],
            "_model_module": "@jupyter-widgets/controls",
            "_model_module_version": "1.5.0",
            "_model_name": "HTMLModel",
            "_view_count": null,
            "_view_module": "@jupyter-widgets/controls",
            "_view_module_version": "1.5.0",
            "_view_name": "HTMLView",
            "description": "",
            "description_tooltip": null,
            "layout": "IPY_MODEL_36128d02b9564320ba86ff726e96a591",
            "placeholder": "​",
            "style": "IPY_MODEL_b901d18c98604cba988a7a0513f4a5f2",
            "value": "config.json: 100%"
          }
        },
        "0971233ef95f454791fcf4c5ac47401c": {
          "model_module": "@jupyter-widgets/controls",
          "model_module_version": "1.5.0",
          "model_name": "HBoxModel",
          "state": {
            "_dom_classes": [],
            "_model_module": "@jupyter-widgets/controls",
            "_model_module_version": "1.5.0",
            "_model_name": "HBoxModel",
            "_view_count": null,
            "_view_module": "@jupyter-widgets/controls",
            "_view_module_version": "1.5.0",
            "_view_name": "HBoxView",
            "box_style": "",
            "children": [
              "IPY_MODEL_2bda0982d9394d4f9a121f472d2e1bc8",
              "IPY_MODEL_65facafaaf564bc68c469fc5136732e6",
              "IPY_MODEL_cadcae2afee343b19ca350cd130c162c"
            ],
            "layout": "IPY_MODEL_1d14f48d5b334409b2cb4286fbd17022"
          }
        },
        "0b06fbc2482c4d7eae7ba2c647aa1df5": {
          "model_module": "@jupyter-widgets/controls",
          "model_module_version": "1.5.0",
          "model_name": "HBoxModel",
          "state": {
            "_dom_classes": [],
            "_model_module": "@jupyter-widgets/controls",
            "_model_module_version": "1.5.0",
            "_model_name": "HBoxModel",
            "_view_count": null,
            "_view_module": "@jupyter-widgets/controls",
            "_view_module_version": "1.5.0",
            "_view_name": "HBoxView",
            "box_style": "",
            "children": [
              "IPY_MODEL_c44278964a604e44b5c4e1b9753bd606",
              "IPY_MODEL_18f434e7fa52443ab15f5b1463536699",
              "IPY_MODEL_fc702cc3de604a31a4f33608a16ca798"
            ],
            "layout": "IPY_MODEL_9409df2a6b93479b98f28d5ff6b30c58"
          }
        },
        "0ce3afdb833b4010bb4ac11c95e79450": {
          "model_module": "@jupyter-widgets/controls",
          "model_module_version": "1.5.0",
          "model_name": "HTMLModel",
          "state": {
            "_dom_classes": [],
            "_model_module": "@jupyter-widgets/controls",
            "_model_module_version": "1.5.0",
            "_model_name": "HTMLModel",
            "_view_count": null,
            "_view_module": "@jupyter-widgets/controls",
            "_view_module_version": "1.5.0",
            "_view_name": "HTMLView",
            "description": "",
            "description_tooltip": null,
            "layout": "IPY_MODEL_1651b2bba51e43edbb9801ada6cc1d37",
            "placeholder": "​",
            "style": "IPY_MODEL_b038658629f54b918493d37fceabe715",
            "value": " 1.11G/1.11G [00:08&lt;00:00, 214MB/s]"
          }
        },
        "0dd0c8749a104044b8093b4d93ef4e9d": {
          "model_module": "@jupyter-widgets/controls",
          "model_module_version": "1.5.0",
          "model_name": "DescriptionStyleModel",
          "state": {
            "_model_module": "@jupyter-widgets/controls",
            "_model_module_version": "1.5.0",
            "_model_name": "DescriptionStyleModel",
            "_view_count": null,
            "_view_module": "@jupyter-widgets/base",
            "_view_module_version": "1.2.0",
            "_view_name": "StyleView",
            "description_width": ""
          }
        },
        "0e5532b8db15490eb90480848feaa94f": {
          "model_module": "@jupyter-widgets/base",
          "model_module_version": "1.2.0",
          "model_name": "LayoutModel",
          "state": {
            "_model_module": "@jupyter-widgets/base",
            "_model_module_version": "1.2.0",
            "_model_name": "LayoutModel",
            "_view_count": null,
            "_view_module": "@jupyter-widgets/base",
            "_view_module_version": "1.2.0",
            "_view_name": "LayoutView",
            "align_content": null,
            "align_items": null,
            "align_self": null,
            "border": null,
            "bottom": null,
            "display": null,
            "flex": null,
            "flex_flow": null,
            "grid_area": null,
            "grid_auto_columns": null,
            "grid_auto_flow": null,
            "grid_auto_rows": null,
            "grid_column": null,
            "grid_gap": null,
            "grid_row": null,
            "grid_template_areas": null,
            "grid_template_columns": null,
            "grid_template_rows": null,
            "height": null,
            "justify_content": null,
            "justify_items": null,
            "left": null,
            "margin": null,
            "max_height": null,
            "max_width": null,
            "min_height": null,
            "min_width": null,
            "object_fit": null,
            "object_position": null,
            "order": null,
            "overflow": null,
            "overflow_x": null,
            "overflow_y": null,
            "padding": null,
            "right": null,
            "top": null,
            "visibility": null,
            "width": null
          }
        },
        "0f4ce1017e1b4c538f1b5df128f9b5e5": {
          "model_module": "@jupyter-widgets/controls",
          "model_module_version": "1.5.0",
          "model_name": "HTMLModel",
          "state": {
            "_dom_classes": [],
            "_model_module": "@jupyter-widgets/controls",
            "_model_module_version": "1.5.0",
            "_model_name": "HTMLModel",
            "_view_count": null,
            "_view_module": "@jupyter-widgets/controls",
            "_view_module_version": "1.5.0",
            "_view_name": "HTMLView",
            "description": "",
            "description_tooltip": null,
            "layout": "IPY_MODEL_801a473b9d83486aa06d49d9c6369c40",
            "placeholder": "​",
            "style": "IPY_MODEL_85db23303aea423ca7abe32bc8223698",
            "value": " 239/239 [00:00&lt;00:00, 17.8kB/s]"
          }
        },
        "121252efbbfd4f8f9dc67eba4fcdbe65": {
          "model_module": "@jupyter-widgets/controls",
          "model_module_version": "1.5.0",
          "model_name": "HTMLModel",
          "state": {
            "_dom_classes": [],
            "_model_module": "@jupyter-widgets/controls",
            "_model_module_version": "1.5.0",
            "_model_name": "HTMLModel",
            "_view_count": null,
            "_view_module": "@jupyter-widgets/controls",
            "_view_module_version": "1.5.0",
            "_view_name": "HTMLView",
            "description": "",
            "description_tooltip": null,
            "layout": "IPY_MODEL_42ec44df3a824c729e1254a2e347dea9",
            "placeholder": "​",
            "style": "IPY_MODEL_a65a21b1b5004527b3ac518cd2cde15e",
            "value": "preprocessor_config.json: 100%"
          }
        },
        "133ffda1ea30457db1910ef94cf95d6b": {
          "model_module": "@jupyter-widgets/base",
          "model_module_version": "1.2.0",
          "model_name": "LayoutModel",
          "state": {
            "_model_module": "@jupyter-widgets/base",
            "_model_module_version": "1.2.0",
            "_model_name": "LayoutModel",
            "_view_count": null,
            "_view_module": "@jupyter-widgets/base",
            "_view_module_version": "1.2.0",
            "_view_name": "LayoutView",
            "align_content": null,
            "align_items": null,
            "align_self": null,
            "border": null,
            "bottom": null,
            "display": null,
            "flex": null,
            "flex_flow": null,
            "grid_area": null,
            "grid_auto_columns": null,
            "grid_auto_flow": null,
            "grid_auto_rows": null,
            "grid_column": null,
            "grid_gap": null,
            "grid_row": null,
            "grid_template_areas": null,
            "grid_template_columns": null,
            "grid_template_rows": null,
            "height": null,
            "justify_content": null,
            "justify_items": null,
            "left": null,
            "margin": null,
            "max_height": null,
            "max_width": null,
            "min_height": null,
            "min_width": null,
            "object_fit": null,
            "object_position": null,
            "order": null,
            "overflow": null,
            "overflow_x": null,
            "overflow_y": null,
            "padding": null,
            "right": null,
            "top": null,
            "visibility": null,
            "width": null
          }
        },
        "13f9bf72320e4ef5a449bbf6431328c1": {
          "model_module": "@jupyter-widgets/base",
          "model_module_version": "1.2.0",
          "model_name": "LayoutModel",
          "state": {
            "_model_module": "@jupyter-widgets/base",
            "_model_module_version": "1.2.0",
            "_model_name": "LayoutModel",
            "_view_count": null,
            "_view_module": "@jupyter-widgets/base",
            "_view_module_version": "1.2.0",
            "_view_name": "LayoutView",
            "align_content": null,
            "align_items": null,
            "align_self": null,
            "border": null,
            "bottom": null,
            "display": null,
            "flex": null,
            "flex_flow": null,
            "grid_area": null,
            "grid_auto_columns": null,
            "grid_auto_flow": null,
            "grid_auto_rows": null,
            "grid_column": null,
            "grid_gap": null,
            "grid_row": null,
            "grid_template_areas": null,
            "grid_template_columns": null,
            "grid_template_rows": null,
            "height": null,
            "justify_content": null,
            "justify_items": null,
            "left": null,
            "margin": null,
            "max_height": null,
            "max_width": null,
            "min_height": null,
            "min_width": null,
            "object_fit": null,
            "object_position": null,
            "order": null,
            "overflow": null,
            "overflow_x": null,
            "overflow_y": null,
            "padding": null,
            "right": null,
            "top": null,
            "visibility": null,
            "width": null
          }
        },
        "1536813cf8fc46db9e07446cd9251331": {
          "model_module": "@jupyter-widgets/controls",
          "model_module_version": "1.5.0",
          "model_name": "HBoxModel",
          "state": {
            "_dom_classes": [],
            "_model_module": "@jupyter-widgets/controls",
            "_model_module_version": "1.5.0",
            "_model_name": "HBoxModel",
            "_view_count": null,
            "_view_module": "@jupyter-widgets/controls",
            "_view_module_version": "1.5.0",
            "_view_name": "HBoxView",
            "box_style": "",
            "children": [
              "IPY_MODEL_d2feb0c3385643b1a8c5034c51c40bd8",
              "IPY_MODEL_e427c3ee7a7a477aab6c0264432069fd",
              "IPY_MODEL_2fe68236d48c49779ec1a7d26a130ff3"
            ],
            "layout": "IPY_MODEL_e6de21c6017244f7b6c34a4c8faafd1a"
          }
        },
        "1651b2bba51e43edbb9801ada6cc1d37": {
          "model_module": "@jupyter-widgets/base",
          "model_module_version": "1.2.0",
          "model_name": "LayoutModel",
          "state": {
            "_model_module": "@jupyter-widgets/base",
            "_model_module_version": "1.2.0",
            "_model_name": "LayoutModel",
            "_view_count": null,
            "_view_module": "@jupyter-widgets/base",
            "_view_module_version": "1.2.0",
            "_view_name": "LayoutView",
            "align_content": null,
            "align_items": null,
            "align_self": null,
            "border": null,
            "bottom": null,
            "display": null,
            "flex": null,
            "flex_flow": null,
            "grid_area": null,
            "grid_auto_columns": null,
            "grid_auto_flow": null,
            "grid_auto_rows": null,
            "grid_column": null,
            "grid_gap": null,
            "grid_row": null,
            "grid_template_areas": null,
            "grid_template_columns": null,
            "grid_template_rows": null,
            "height": null,
            "justify_content": null,
            "justify_items": null,
            "left": null,
            "margin": null,
            "max_height": null,
            "max_width": null,
            "min_height": null,
            "min_width": null,
            "object_fit": null,
            "object_position": null,
            "order": null,
            "overflow": null,
            "overflow_x": null,
            "overflow_y": null,
            "padding": null,
            "right": null,
            "top": null,
            "visibility": null,
            "width": null
          }
        },
        "181e9914e1b54c848c7a66d47802d084": {
          "model_module": "@jupyter-widgets/controls",
          "model_module_version": "1.5.0",
          "model_name": "DescriptionStyleModel",
          "state": {
            "_model_module": "@jupyter-widgets/controls",
            "_model_module_version": "1.5.0",
            "_model_name": "DescriptionStyleModel",
            "_view_count": null,
            "_view_module": "@jupyter-widgets/base",
            "_view_module_version": "1.2.0",
            "_view_name": "StyleView",
            "description_width": ""
          }
        },
        "1840a39926d6494dbab9f28b65c651f9": {
          "model_module": "@jupyter-widgets/controls",
          "model_module_version": "1.5.0",
          "model_name": "ProgressStyleModel",
          "state": {
            "_model_module": "@jupyter-widgets/controls",
            "_model_module_version": "1.5.0",
            "_model_name": "ProgressStyleModel",
            "_view_count": null,
            "_view_module": "@jupyter-widgets/base",
            "_view_module_version": "1.2.0",
            "_view_name": "StyleView",
            "bar_color": null,
            "description_width": ""
          }
        },
        "18f434e7fa52443ab15f5b1463536699": {
          "model_module": "@jupyter-widgets/controls",
          "model_module_version": "1.5.0",
          "model_name": "FloatProgressModel",
          "state": {
            "_dom_classes": [],
            "_model_module": "@jupyter-widgets/controls",
            "_model_module_version": "1.5.0",
            "_model_name": "FloatProgressModel",
            "_view_count": null,
            "_view_module": "@jupyter-widgets/controls",
            "_view_module_version": "1.5.0",
            "_view_name": "ProgressView",
            "bar_style": "success",
            "description": "",
            "description_tooltip": null,
            "layout": "IPY_MODEL_6ebaf133de8d4ec69b09e7f49f472010",
            "max": 3087284237,
            "min": 0,
            "orientation": "horizontal",
            "style": "IPY_MODEL_3bbf034960a24a5fadb10a239a95c8ac",
            "value": 3087284237
          }
        },
        "1b00de2c0aa54998bd9cca3a3e3f2dce": {
          "model_module": "@jupyter-widgets/base",
          "model_module_version": "1.2.0",
          "model_name": "LayoutModel",
          "state": {
            "_model_module": "@jupyter-widgets/base",
            "_model_module_version": "1.2.0",
            "_model_name": "LayoutModel",
            "_view_count": null,
            "_view_module": "@jupyter-widgets/base",
            "_view_module_version": "1.2.0",
            "_view_name": "LayoutView",
            "align_content": null,
            "align_items": null,
            "align_self": null,
            "border": null,
            "bottom": null,
            "display": null,
            "flex": null,
            "flex_flow": null,
            "grid_area": null,
            "grid_auto_columns": null,
            "grid_auto_flow": null,
            "grid_auto_rows": null,
            "grid_column": null,
            "grid_gap": null,
            "grid_row": null,
            "grid_template_areas": null,
            "grid_template_columns": null,
            "grid_template_rows": null,
            "height": null,
            "justify_content": null,
            "justify_items": null,
            "left": null,
            "margin": null,
            "max_height": null,
            "max_width": null,
            "min_height": null,
            "min_width": null,
            "object_fit": null,
            "object_position": null,
            "order": null,
            "overflow": null,
            "overflow_x": null,
            "overflow_y": null,
            "padding": null,
            "right": null,
            "top": null,
            "visibility": null,
            "width": null
          }
        },
        "1c39eccbcea34accada9b42b49a72e2b": {
          "model_module": "@jupyter-widgets/controls",
          "model_module_version": "1.5.0",
          "model_name": "HBoxModel",
          "state": {
            "_dom_classes": [],
            "_model_module": "@jupyter-widgets/controls",
            "_model_module_version": "1.5.0",
            "_model_name": "HBoxModel",
            "_view_count": null,
            "_view_module": "@jupyter-widgets/controls",
            "_view_module_version": "1.5.0",
            "_view_name": "HBoxView",
            "box_style": "",
            "children": [
              "IPY_MODEL_05119fa992014eeeabf4d7d2b20a9a88",
              "IPY_MODEL_6e9179c55f86477eb9bc905354fba7bb",
              "IPY_MODEL_0f4ce1017e1b4c538f1b5df128f9b5e5"
            ],
            "layout": "IPY_MODEL_7421907ae2e94eee8a63a8760785a78f"
          }
        },
        "1ce181a515f84c5f944f76dd688e2fad": {
          "model_module": "@jupyter-widgets/base",
          "model_module_version": "1.2.0",
          "model_name": "LayoutModel",
          "state": {
            "_model_module": "@jupyter-widgets/base",
            "_model_module_version": "1.2.0",
            "_model_name": "LayoutModel",
            "_view_count": null,
            "_view_module": "@jupyter-widgets/base",
            "_view_module_version": "1.2.0",
            "_view_name": "LayoutView",
            "align_content": null,
            "align_items": null,
            "align_self": null,
            "border": null,
            "bottom": null,
            "display": null,
            "flex": null,
            "flex_flow": null,
            "grid_area": null,
            "grid_auto_columns": null,
            "grid_auto_flow": null,
            "grid_auto_rows": null,
            "grid_column": null,
            "grid_gap": null,
            "grid_row": null,
            "grid_template_areas": null,
            "grid_template_columns": null,
            "grid_template_rows": null,
            "height": null,
            "justify_content": null,
            "justify_items": null,
            "left": null,
            "margin": null,
            "max_height": null,
            "max_width": null,
            "min_height": null,
            "min_width": null,
            "object_fit": null,
            "object_position": null,
            "order": null,
            "overflow": null,
            "overflow_x": null,
            "overflow_y": null,
            "padding": null,
            "right": null,
            "top": null,
            "visibility": null,
            "width": null
          }
        },
        "1d14f48d5b334409b2cb4286fbd17022": {
          "model_module": "@jupyter-widgets/base",
          "model_module_version": "1.2.0",
          "model_name": "LayoutModel",
          "state": {
            "_model_module": "@jupyter-widgets/base",
            "_model_module_version": "1.2.0",
            "_model_name": "LayoutModel",
            "_view_count": null,
            "_view_module": "@jupyter-widgets/base",
            "_view_module_version": "1.2.0",
            "_view_name": "LayoutView",
            "align_content": null,
            "align_items": null,
            "align_self": null,
            "border": null,
            "bottom": null,
            "display": null,
            "flex": null,
            "flex_flow": null,
            "grid_area": null,
            "grid_auto_columns": null,
            "grid_auto_flow": null,
            "grid_auto_rows": null,
            "grid_column": null,
            "grid_gap": null,
            "grid_row": null,
            "grid_template_areas": null,
            "grid_template_columns": null,
            "grid_template_rows": null,
            "height": null,
            "justify_content": null,
            "justify_items": null,
            "left": null,
            "margin": null,
            "max_height": null,
            "max_width": null,
            "min_height": null,
            "min_width": null,
            "object_fit": null,
            "object_position": null,
            "order": null,
            "overflow": null,
            "overflow_x": null,
            "overflow_y": null,
            "padding": null,
            "right": null,
            "top": null,
            "visibility": null,
            "width": null
          }
        },
        "21157de4110e415c9e56374bfc707d35": {
          "model_module": "@jupyter-widgets/base",
          "model_module_version": "1.2.0",
          "model_name": "LayoutModel",
          "state": {
            "_model_module": "@jupyter-widgets/base",
            "_model_module_version": "1.2.0",
            "_model_name": "LayoutModel",
            "_view_count": null,
            "_view_module": "@jupyter-widgets/base",
            "_view_module_version": "1.2.0",
            "_view_name": "LayoutView",
            "align_content": null,
            "align_items": null,
            "align_self": null,
            "border": null,
            "bottom": null,
            "display": null,
            "flex": null,
            "flex_flow": null,
            "grid_area": null,
            "grid_auto_columns": null,
            "grid_auto_flow": null,
            "grid_auto_rows": null,
            "grid_column": null,
            "grid_gap": null,
            "grid_row": null,
            "grid_template_areas": null,
            "grid_template_columns": null,
            "grid_template_rows": null,
            "height": null,
            "justify_content": null,
            "justify_items": null,
            "left": null,
            "margin": null,
            "max_height": null,
            "max_width": null,
            "min_height": null,
            "min_width": null,
            "object_fit": null,
            "object_position": null,
            "order": null,
            "overflow": null,
            "overflow_x": null,
            "overflow_y": null,
            "padding": null,
            "right": null,
            "top": null,
            "visibility": null,
            "width": null
          }
        },
        "21839ba8a70c4010b87fc2d1471aa331": {
          "model_module": "@jupyter-widgets/base",
          "model_module_version": "1.2.0",
          "model_name": "LayoutModel",
          "state": {
            "_model_module": "@jupyter-widgets/base",
            "_model_module_version": "1.2.0",
            "_model_name": "LayoutModel",
            "_view_count": null,
            "_view_module": "@jupyter-widgets/base",
            "_view_module_version": "1.2.0",
            "_view_name": "LayoutView",
            "align_content": null,
            "align_items": null,
            "align_self": null,
            "border": null,
            "bottom": null,
            "display": null,
            "flex": null,
            "flex_flow": null,
            "grid_area": null,
            "grid_auto_columns": null,
            "grid_auto_flow": null,
            "grid_auto_rows": null,
            "grid_column": null,
            "grid_gap": null,
            "grid_row": null,
            "grid_template_areas": null,
            "grid_template_columns": null,
            "grid_template_rows": null,
            "height": null,
            "justify_content": null,
            "justify_items": null,
            "left": null,
            "margin": null,
            "max_height": null,
            "max_width": null,
            "min_height": null,
            "min_width": null,
            "object_fit": null,
            "object_position": null,
            "order": null,
            "overflow": null,
            "overflow_x": null,
            "overflow_y": null,
            "padding": null,
            "right": null,
            "top": null,
            "visibility": null,
            "width": null
          }
        },
        "293dfed4d46c4f45a46503851a6b178a": {
          "model_module": "@jupyter-widgets/base",
          "model_module_version": "1.2.0",
          "model_name": "LayoutModel",
          "state": {
            "_model_module": "@jupyter-widgets/base",
            "_model_module_version": "1.2.0",
            "_model_name": "LayoutModel",
            "_view_count": null,
            "_view_module": "@jupyter-widgets/base",
            "_view_module_version": "1.2.0",
            "_view_name": "LayoutView",
            "align_content": null,
            "align_items": null,
            "align_self": null,
            "border": null,
            "bottom": null,
            "display": null,
            "flex": null,
            "flex_flow": null,
            "grid_area": null,
            "grid_auto_columns": null,
            "grid_auto_flow": null,
            "grid_auto_rows": null,
            "grid_column": null,
            "grid_gap": null,
            "grid_row": null,
            "grid_template_areas": null,
            "grid_template_columns": null,
            "grid_template_rows": null,
            "height": null,
            "justify_content": null,
            "justify_items": null,
            "left": null,
            "margin": null,
            "max_height": null,
            "max_width": null,
            "min_height": null,
            "min_width": null,
            "object_fit": null,
            "object_position": null,
            "order": null,
            "overflow": null,
            "overflow_x": null,
            "overflow_y": null,
            "padding": null,
            "right": null,
            "top": null,
            "visibility": null,
            "width": null
          }
        },
        "294dee4f35724cd484daa1d8ecdc42b8": {
          "model_module": "@jupyter-widgets/controls",
          "model_module_version": "1.5.0",
          "model_name": "DescriptionStyleModel",
          "state": {
            "_model_module": "@jupyter-widgets/controls",
            "_model_module_version": "1.5.0",
            "_model_name": "DescriptionStyleModel",
            "_view_count": null,
            "_view_module": "@jupyter-widgets/base",
            "_view_module_version": "1.2.0",
            "_view_name": "StyleView",
            "description_width": ""
          }
        },
        "2abb7a20658a421eb71247d2130e3cb0": {
          "model_module": "@jupyter-widgets/controls",
          "model_module_version": "1.5.0",
          "model_name": "HBoxModel",
          "state": {
            "_dom_classes": [],
            "_model_module": "@jupyter-widgets/controls",
            "_model_module_version": "1.5.0",
            "_model_name": "HBoxModel",
            "_view_count": null,
            "_view_module": "@jupyter-widgets/controls",
            "_view_module_version": "1.5.0",
            "_view_name": "HBoxView",
            "box_style": "",
            "children": [
              "IPY_MODEL_5e4eeaf795cf4b29b68db7ba0126bb5d",
              "IPY_MODEL_7cd6aac286d94cd1896f64ced25a12d5",
              "IPY_MODEL_0ce3afdb833b4010bb4ac11c95e79450"
            ],
            "layout": "IPY_MODEL_8e88546c585142d7897e86eac1f8267d"
          }
        },
        "2bda0982d9394d4f9a121f472d2e1bc8": {
          "model_module": "@jupyter-widgets/controls",
          "model_module_version": "1.5.0",
          "model_name": "HTMLModel",
          "state": {
            "_dom_classes": [],
            "_model_module": "@jupyter-widgets/controls",
            "_model_module_version": "1.5.0",
            "_model_name": "HTMLModel",
            "_view_count": null,
            "_view_module": "@jupyter-widgets/controls",
            "_view_module_version": "1.5.0",
            "_view_name": "HTMLView",
            "description": "",
            "description_tooltip": null,
            "layout": "IPY_MODEL_21157de4110e415c9e56374bfc707d35",
            "placeholder": "​",
            "style": "IPY_MODEL_b1a6e5b7742a488395894ba1a04e2d99",
            "value": "tokenizer.json: 100%"
          }
        },
        "2eb0a84c52e34c308a1013889050a7f5": {
          "model_module": "@jupyter-widgets/base",
          "model_module_version": "1.2.0",
          "model_name": "LayoutModel",
          "state": {
            "_model_module": "@jupyter-widgets/base",
            "_model_module_version": "1.2.0",
            "_model_name": "LayoutModel",
            "_view_count": null,
            "_view_module": "@jupyter-widgets/base",
            "_view_module_version": "1.2.0",
            "_view_name": "LayoutView",
            "align_content": null,
            "align_items": null,
            "align_self": null,
            "border": null,
            "bottom": null,
            "display": null,
            "flex": null,
            "flex_flow": null,
            "grid_area": null,
            "grid_auto_columns": null,
            "grid_auto_flow": null,
            "grid_auto_rows": null,
            "grid_column": null,
            "grid_gap": null,
            "grid_row": null,
            "grid_template_areas": null,
            "grid_template_columns": null,
            "grid_template_rows": null,
            "height": null,
            "justify_content": null,
            "justify_items": null,
            "left": null,
            "margin": null,
            "max_height": null,
            "max_width": null,
            "min_height": null,
            "min_width": null,
            "object_fit": null,
            "object_position": null,
            "order": null,
            "overflow": null,
            "overflow_x": null,
            "overflow_y": null,
            "padding": null,
            "right": null,
            "top": null,
            "visibility": null,
            "width": null
          }
        },
        "2fe68236d48c49779ec1a7d26a130ff3": {
          "model_module": "@jupyter-widgets/controls",
          "model_module_version": "1.5.0",
          "model_name": "HTMLModel",
          "state": {
            "_dom_classes": [],
            "_model_module": "@jupyter-widgets/controls",
            "_model_module_version": "1.5.0",
            "_model_name": "HTMLModel",
            "_view_count": null,
            "_view_module": "@jupyter-widgets/controls",
            "_view_module_version": "1.5.0",
            "_view_name": "HTMLView",
            "description": "",
            "description_tooltip": null,
            "layout": "IPY_MODEL_c9fa29bc00d34fb590995b9342e595e7",
            "placeholder": "​",
            "style": "IPY_MODEL_68c7ac7ea7b14c8bb55ec6f78ad4a5f2",
            "value": " 914/914 [00:00&lt;00:00, 37.0kB/s]"
          }
        },
        "33fc1485037546bdad79928c5f2d8af4": {
          "model_module": "@jupyter-widgets/controls",
          "model_module_version": "1.5.0",
          "model_name": "ProgressStyleModel",
          "state": {
            "_model_module": "@jupyter-widgets/controls",
            "_model_module_version": "1.5.0",
            "_model_name": "ProgressStyleModel",
            "_view_count": null,
            "_view_module": "@jupyter-widgets/base",
            "_view_module_version": "1.2.0",
            "_view_name": "StyleView",
            "bar_color": null,
            "description_width": ""
          }
        },
        "36128d02b9564320ba86ff726e96a591": {
          "model_module": "@jupyter-widgets/base",
          "model_module_version": "1.2.0",
          "model_name": "LayoutModel",
          "state": {
            "_model_module": "@jupyter-widgets/base",
            "_model_module_version": "1.2.0",
            "_model_name": "LayoutModel",
            "_view_count": null,
            "_view_module": "@jupyter-widgets/base",
            "_view_module_version": "1.2.0",
            "_view_name": "LayoutView",
            "align_content": null,
            "align_items": null,
            "align_self": null,
            "border": null,
            "bottom": null,
            "display": null,
            "flex": null,
            "flex_flow": null,
            "grid_area": null,
            "grid_auto_columns": null,
            "grid_auto_flow": null,
            "grid_auto_rows": null,
            "grid_column": null,
            "grid_gap": null,
            "grid_row": null,
            "grid_template_areas": null,
            "grid_template_columns": null,
            "grid_template_rows": null,
            "height": null,
            "justify_content": null,
            "justify_items": null,
            "left": null,
            "margin": null,
            "max_height": null,
            "max_width": null,
            "min_height": null,
            "min_width": null,
            "object_fit": null,
            "object_position": null,
            "order": null,
            "overflow": null,
            "overflow_x": null,
            "overflow_y": null,
            "padding": null,
            "right": null,
            "top": null,
            "visibility": null,
            "width": null
          }
        },
        "3b009e26a3ca405199ef352dae955a67": {
          "model_module": "@jupyter-widgets/base",
          "model_module_version": "1.2.0",
          "model_name": "LayoutModel",
          "state": {
            "_model_module": "@jupyter-widgets/base",
            "_model_module_version": "1.2.0",
            "_model_name": "LayoutModel",
            "_view_count": null,
            "_view_module": "@jupyter-widgets/base",
            "_view_module_version": "1.2.0",
            "_view_name": "LayoutView",
            "align_content": null,
            "align_items": null,
            "align_self": null,
            "border": null,
            "bottom": null,
            "display": null,
            "flex": null,
            "flex_flow": null,
            "grid_area": null,
            "grid_auto_columns": null,
            "grid_auto_flow": null,
            "grid_auto_rows": null,
            "grid_column": null,
            "grid_gap": null,
            "grid_row": null,
            "grid_template_areas": null,
            "grid_template_columns": null,
            "grid_template_rows": null,
            "height": null,
            "justify_content": null,
            "justify_items": null,
            "left": null,
            "margin": null,
            "max_height": null,
            "max_width": null,
            "min_height": null,
            "min_width": null,
            "object_fit": null,
            "object_position": null,
            "order": null,
            "overflow": null,
            "overflow_x": null,
            "overflow_y": null,
            "padding": null,
            "right": null,
            "top": null,
            "visibility": null,
            "width": null
          }
        },
        "3bbf034960a24a5fadb10a239a95c8ac": {
          "model_module": "@jupyter-widgets/controls",
          "model_module_version": "1.5.0",
          "model_name": "ProgressStyleModel",
          "state": {
            "_model_module": "@jupyter-widgets/controls",
            "_model_module_version": "1.5.0",
            "_model_name": "ProgressStyleModel",
            "_view_count": null,
            "_view_module": "@jupyter-widgets/base",
            "_view_module_version": "1.2.0",
            "_view_name": "StyleView",
            "bar_color": null,
            "description_width": ""
          }
        },
        "3ce6e7916ab043eebecb96597c2ee320": {
          "model_module": "@jupyter-widgets/base",
          "model_module_version": "1.2.0",
          "model_name": "LayoutModel",
          "state": {
            "_model_module": "@jupyter-widgets/base",
            "_model_module_version": "1.2.0",
            "_model_name": "LayoutModel",
            "_view_count": null,
            "_view_module": "@jupyter-widgets/base",
            "_view_module_version": "1.2.0",
            "_view_name": "LayoutView",
            "align_content": null,
            "align_items": null,
            "align_self": null,
            "border": null,
            "bottom": null,
            "display": null,
            "flex": null,
            "flex_flow": null,
            "grid_area": null,
            "grid_auto_columns": null,
            "grid_auto_flow": null,
            "grid_auto_rows": null,
            "grid_column": null,
            "grid_gap": null,
            "grid_row": null,
            "grid_template_areas": null,
            "grid_template_columns": null,
            "grid_template_rows": null,
            "height": null,
            "justify_content": null,
            "justify_items": null,
            "left": null,
            "margin": null,
            "max_height": null,
            "max_width": null,
            "min_height": null,
            "min_width": null,
            "object_fit": null,
            "object_position": null,
            "order": null,
            "overflow": null,
            "overflow_x": null,
            "overflow_y": null,
            "padding": null,
            "right": null,
            "top": null,
            "visibility": null,
            "width": null
          }
        },
        "3d38948bcf294d13861e99401b5d88c4": {
          "model_module": "@jupyter-widgets/controls",
          "model_module_version": "1.5.0",
          "model_name": "ProgressStyleModel",
          "state": {
            "_model_module": "@jupyter-widgets/controls",
            "_model_module_version": "1.5.0",
            "_model_name": "ProgressStyleModel",
            "_view_count": null,
            "_view_module": "@jupyter-widgets/base",
            "_view_module_version": "1.2.0",
            "_view_name": "StyleView",
            "bar_color": null,
            "description_width": ""
          }
        },
        "404ad8ad9d174aee96e86775619863ab": {
          "model_module": "@jupyter-widgets/controls",
          "model_module_version": "1.5.0",
          "model_name": "FloatProgressModel",
          "state": {
            "_dom_classes": [],
            "_model_module": "@jupyter-widgets/controls",
            "_model_module_version": "1.5.0",
            "_model_name": "FloatProgressModel",
            "_view_count": null,
            "_view_module": "@jupyter-widgets/controls",
            "_view_module_version": "1.5.0",
            "_view_name": "ProgressView",
            "bar_style": "success",
            "description": "",
            "description_tooltip": null,
            "layout": "IPY_MODEL_fec497772c5f49fab0cdd89e38f99fc4",
            "max": 340,
            "min": 0,
            "orientation": "horizontal",
            "style": "IPY_MODEL_7d280378103b47c28d021385b8428a6c",
            "value": 340
          }
        },
        "40d4d48dbf884580a6a7c8165a8cf02e": {
          "model_module": "@jupyter-widgets/controls",
          "model_module_version": "1.5.0",
          "model_name": "DescriptionStyleModel",
          "state": {
            "_model_module": "@jupyter-widgets/controls",
            "_model_module_version": "1.5.0",
            "_model_name": "DescriptionStyleModel",
            "_view_count": null,
            "_view_module": "@jupyter-widgets/base",
            "_view_module_version": "1.2.0",
            "_view_name": "StyleView",
            "description_width": ""
          }
        },
        "42ec44df3a824c729e1254a2e347dea9": {
          "model_module": "@jupyter-widgets/base",
          "model_module_version": "1.2.0",
          "model_name": "LayoutModel",
          "state": {
            "_model_module": "@jupyter-widgets/base",
            "_model_module_version": "1.2.0",
            "_model_name": "LayoutModel",
            "_view_count": null,
            "_view_module": "@jupyter-widgets/base",
            "_view_module_version": "1.2.0",
            "_view_name": "LayoutView",
            "align_content": null,
            "align_items": null,
            "align_self": null,
            "border": null,
            "bottom": null,
            "display": null,
            "flex": null,
            "flex_flow": null,
            "grid_area": null,
            "grid_auto_columns": null,
            "grid_auto_flow": null,
            "grid_auto_rows": null,
            "grid_column": null,
            "grid_gap": null,
            "grid_row": null,
            "grid_template_areas": null,
            "grid_template_columns": null,
            "grid_template_rows": null,
            "height": null,
            "justify_content": null,
            "justify_items": null,
            "left": null,
            "margin": null,
            "max_height": null,
            "max_width": null,
            "min_height": null,
            "min_width": null,
            "object_fit": null,
            "object_position": null,
            "order": null,
            "overflow": null,
            "overflow_x": null,
            "overflow_y": null,
            "padding": null,
            "right": null,
            "top": null,
            "visibility": null,
            "width": null
          }
        },
        "4aa13decdc3f4b0988b4d3d48d9cb219": {
          "model_module": "@jupyter-widgets/controls",
          "model_module_version": "1.5.0",
          "model_name": "DescriptionStyleModel",
          "state": {
            "_model_module": "@jupyter-widgets/controls",
            "_model_module_version": "1.5.0",
            "_model_name": "DescriptionStyleModel",
            "_view_count": null,
            "_view_module": "@jupyter-widgets/base",
            "_view_module_version": "1.2.0",
            "_view_name": "StyleView",
            "description_width": ""
          }
        },
        "562b49f695304f3ab92c95edf6d869a9": {
          "model_module": "@jupyter-widgets/controls",
          "model_module_version": "1.5.0",
          "model_name": "ProgressStyleModel",
          "state": {
            "_model_module": "@jupyter-widgets/controls",
            "_model_module_version": "1.5.0",
            "_model_name": "ProgressStyleModel",
            "_view_count": null,
            "_view_module": "@jupyter-widgets/base",
            "_view_module_version": "1.2.0",
            "_view_name": "StyleView",
            "bar_color": null,
            "description_width": ""
          }
        },
        "5a183d3bb6db4ea2aa414ab4b7a21cf6": {
          "model_module": "@jupyter-widgets/controls",
          "model_module_version": "1.5.0",
          "model_name": "HBoxModel",
          "state": {
            "_dom_classes": [],
            "_model_module": "@jupyter-widgets/controls",
            "_model_module_version": "1.5.0",
            "_model_name": "HBoxModel",
            "_view_count": null,
            "_view_module": "@jupyter-widgets/controls",
            "_view_module_version": "1.5.0",
            "_view_name": "HBoxView",
            "box_style": "",
            "children": [
              "IPY_MODEL_08cec423e87847309e6b5406354c4d4d",
              "IPY_MODEL_b51ce694318348898a5d0eea58dfc49a",
              "IPY_MODEL_63cda803dc4f4805ae81fffe5d0db92b"
            ],
            "layout": "IPY_MODEL_1ce181a515f84c5f944f76dd688e2fad"
          }
        },
        "5e0578f2bedb43f0a8b8b6ddf88f3d4e": {
          "model_module": "@jupyter-widgets/controls",
          "model_module_version": "1.5.0",
          "model_name": "ProgressStyleModel",
          "state": {
            "_model_module": "@jupyter-widgets/controls",
            "_model_module_version": "1.5.0",
            "_model_name": "ProgressStyleModel",
            "_view_count": null,
            "_view_module": "@jupyter-widgets/base",
            "_view_module_version": "1.2.0",
            "_view_name": "StyleView",
            "bar_color": null,
            "description_width": ""
          }
        },
        "5e4eeaf795cf4b29b68db7ba0126bb5d": {
          "model_module": "@jupyter-widgets/controls",
          "model_module_version": "1.5.0",
          "model_name": "HTMLModel",
          "state": {
            "_dom_classes": [],
            "_model_module": "@jupyter-widgets/controls",
            "_model_module_version": "1.5.0",
            "_model_name": "HTMLModel",
            "_view_count": null,
            "_view_module": "@jupyter-widgets/controls",
            "_view_module_version": "1.5.0",
            "_view_name": "HTMLView",
            "description": "",
            "description_tooltip": null,
            "layout": "IPY_MODEL_c4be5ca45e20473aa44e430ad9e99f16",
            "placeholder": "​",
            "style": "IPY_MODEL_9e7ff25b2ef648b0be2950692d9da465",
            "value": "pytorch_model.bin: 100%"
          }
        },
        "5f977ee4f21b492f8e7b2c63c1186177": {
          "model_module": "@jupyter-widgets/controls",
          "model_module_version": "1.5.0",
          "model_name": "DescriptionStyleModel",
          "state": {
            "_model_module": "@jupyter-widgets/controls",
            "_model_module_version": "1.5.0",
            "_model_name": "DescriptionStyleModel",
            "_view_count": null,
            "_view_module": "@jupyter-widgets/base",
            "_view_module_version": "1.2.0",
            "_view_name": "StyleView",
            "description_width": ""
          }
        },
        "626f5add4dc0457daaed1f1de176a6b4": {
          "model_module": "@jupyter-widgets/controls",
          "model_module_version": "1.5.0",
          "model_name": "HTMLModel",
          "state": {
            "_dom_classes": [],
            "_model_module": "@jupyter-widgets/controls",
            "_model_module_version": "1.5.0",
            "_model_name": "HTMLModel",
            "_view_count": null,
            "_view_module": "@jupyter-widgets/controls",
            "_view_module_version": "1.5.0",
            "_view_name": "HTMLView",
            "description": "",
            "description_tooltip": null,
            "layout": "IPY_MODEL_6cf6f0d0de4441b3aeb1097122601031",
            "placeholder": "​",
            "style": "IPY_MODEL_f1a0a35e771841acae7b75e7593c7498",
            "value": " 1.07M/1.07M [00:00&lt;00:00, 4.08MB/s]"
          }
        },
        "63cda803dc4f4805ae81fffe5d0db92b": {
          "model_module": "@jupyter-widgets/controls",
          "model_module_version": "1.5.0",
          "model_name": "HTMLModel",
          "state": {
            "_dom_classes": [],
            "_model_module": "@jupyter-widgets/controls",
            "_model_module_version": "1.5.0",
            "_model_name": "HTMLModel",
            "_view_count": null,
            "_view_module": "@jupyter-widgets/controls",
            "_view_module_version": "1.5.0",
            "_view_name": "HTMLView",
            "description": "",
            "description_tooltip": null,
            "layout": "IPY_MODEL_293dfed4d46c4f45a46503851a6b178a",
            "placeholder": "​",
            "style": "IPY_MODEL_40d4d48dbf884580a6a7c8165a8cf02e",
            "value": " 2.39k/2.39k [00:00&lt;00:00, 31.2kB/s]"
          }
        },
        "65facafaaf564bc68c469fc5136732e6": {
          "model_module": "@jupyter-widgets/controls",
          "model_module_version": "1.5.0",
          "model_name": "FloatProgressModel",
          "state": {
            "_dom_classes": [],
            "_model_module": "@jupyter-widgets/controls",
            "_model_module_version": "1.5.0",
            "_model_name": "FloatProgressModel",
            "_view_count": null,
            "_view_module": "@jupyter-widgets/controls",
            "_view_module_version": "1.5.0",
            "_view_name": "ProgressView",
            "bar_style": "success",
            "description": "",
            "description_tooltip": null,
            "layout": "IPY_MODEL_133ffda1ea30457db1910ef94cf95d6b",
            "max": 2480617,
            "min": 0,
            "orientation": "horizontal",
            "style": "IPY_MODEL_3d38948bcf294d13861e99401b5d88c4",
            "value": 2480617
          }
        },
        "680d4ae8d6bc4538839a01dd30f34eef": {
          "model_module": "@jupyter-widgets/controls",
          "model_module_version": "1.5.0",
          "model_name": "DescriptionStyleModel",
          "state": {
            "_model_module": "@jupyter-widgets/controls",
            "_model_module_version": "1.5.0",
            "_model_name": "DescriptionStyleModel",
            "_view_count": null,
            "_view_module": "@jupyter-widgets/base",
            "_view_module_version": "1.2.0",
            "_view_name": "StyleView",
            "description_width": ""
          }
        },
        "68c7ac7ea7b14c8bb55ec6f78ad4a5f2": {
          "model_module": "@jupyter-widgets/controls",
          "model_module_version": "1.5.0",
          "model_name": "DescriptionStyleModel",
          "state": {
            "_model_module": "@jupyter-widgets/controls",
            "_model_module_version": "1.5.0",
            "_model_name": "DescriptionStyleModel",
            "_view_count": null,
            "_view_module": "@jupyter-widgets/base",
            "_view_module_version": "1.2.0",
            "_view_name": "StyleView",
            "description_width": ""
          }
        },
        "6b6372802da34adeb940c69db88795fe": {
          "model_module": "@jupyter-widgets/base",
          "model_module_version": "1.2.0",
          "model_name": "LayoutModel",
          "state": {
            "_model_module": "@jupyter-widgets/base",
            "_model_module_version": "1.2.0",
            "_model_name": "LayoutModel",
            "_view_count": null,
            "_view_module": "@jupyter-widgets/base",
            "_view_module_version": "1.2.0",
            "_view_name": "LayoutView",
            "align_content": null,
            "align_items": null,
            "align_self": null,
            "border": null,
            "bottom": null,
            "display": null,
            "flex": null,
            "flex_flow": null,
            "grid_area": null,
            "grid_auto_columns": null,
            "grid_auto_flow": null,
            "grid_auto_rows": null,
            "grid_column": null,
            "grid_gap": null,
            "grid_row": null,
            "grid_template_areas": null,
            "grid_template_columns": null,
            "grid_template_rows": null,
            "height": null,
            "justify_content": null,
            "justify_items": null,
            "left": null,
            "margin": null,
            "max_height": null,
            "max_width": null,
            "min_height": null,
            "min_width": null,
            "object_fit": null,
            "object_position": null,
            "order": null,
            "overflow": null,
            "overflow_x": null,
            "overflow_y": null,
            "padding": null,
            "right": null,
            "top": null,
            "visibility": null,
            "width": null
          }
        },
        "6cf6f0d0de4441b3aeb1097122601031": {
          "model_module": "@jupyter-widgets/base",
          "model_module_version": "1.2.0",
          "model_name": "LayoutModel",
          "state": {
            "_model_module": "@jupyter-widgets/base",
            "_model_module_version": "1.2.0",
            "_model_name": "LayoutModel",
            "_view_count": null,
            "_view_module": "@jupyter-widgets/base",
            "_view_module_version": "1.2.0",
            "_view_name": "LayoutView",
            "align_content": null,
            "align_items": null,
            "align_self": null,
            "border": null,
            "bottom": null,
            "display": null,
            "flex": null,
            "flex_flow": null,
            "grid_area": null,
            "grid_auto_columns": null,
            "grid_auto_flow": null,
            "grid_auto_rows": null,
            "grid_column": null,
            "grid_gap": null,
            "grid_row": null,
            "grid_template_areas": null,
            "grid_template_columns": null,
            "grid_template_rows": null,
            "height": null,
            "justify_content": null,
            "justify_items": null,
            "left": null,
            "margin": null,
            "max_height": null,
            "max_width": null,
            "min_height": null,
            "min_width": null,
            "object_fit": null,
            "object_position": null,
            "order": null,
            "overflow": null,
            "overflow_x": null,
            "overflow_y": null,
            "padding": null,
            "right": null,
            "top": null,
            "visibility": null,
            "width": null
          }
        },
        "6dbd9aad98c24fd5b96c3752d6b1635a": {
          "model_module": "@jupyter-widgets/base",
          "model_module_version": "1.2.0",
          "model_name": "LayoutModel",
          "state": {
            "_model_module": "@jupyter-widgets/base",
            "_model_module_version": "1.2.0",
            "_model_name": "LayoutModel",
            "_view_count": null,
            "_view_module": "@jupyter-widgets/base",
            "_view_module_version": "1.2.0",
            "_view_name": "LayoutView",
            "align_content": null,
            "align_items": null,
            "align_self": null,
            "border": null,
            "bottom": null,
            "display": null,
            "flex": null,
            "flex_flow": null,
            "grid_area": null,
            "grid_auto_columns": null,
            "grid_auto_flow": null,
            "grid_auto_rows": null,
            "grid_column": null,
            "grid_gap": null,
            "grid_row": null,
            "grid_template_areas": null,
            "grid_template_columns": null,
            "grid_template_rows": null,
            "height": null,
            "justify_content": null,
            "justify_items": null,
            "left": null,
            "margin": null,
            "max_height": null,
            "max_width": null,
            "min_height": null,
            "min_width": null,
            "object_fit": null,
            "object_position": null,
            "order": null,
            "overflow": null,
            "overflow_x": null,
            "overflow_y": null,
            "padding": null,
            "right": null,
            "top": null,
            "visibility": null,
            "width": null
          }
        },
        "6e9179c55f86477eb9bc905354fba7bb": {
          "model_module": "@jupyter-widgets/controls",
          "model_module_version": "1.5.0",
          "model_name": "FloatProgressModel",
          "state": {
            "_dom_classes": [],
            "_model_module": "@jupyter-widgets/controls",
            "_model_module_version": "1.5.0",
            "_model_name": "FloatProgressModel",
            "_view_count": null,
            "_view_module": "@jupyter-widgets/controls",
            "_view_module_version": "1.5.0",
            "_view_name": "ProgressView",
            "bar_style": "success",
            "description": "",
            "description_tooltip": null,
            "layout": "IPY_MODEL_a5c4b89c78b24e6f9e0b62d89bb3e2aa",
            "max": 239,
            "min": 0,
            "orientation": "horizontal",
            "style": "IPY_MODEL_01d652f03b6a42faa33a3a23eddf5deb",
            "value": 239
          }
        },
        "6ebaf133de8d4ec69b09e7f49f472010": {
          "model_module": "@jupyter-widgets/base",
          "model_module_version": "1.2.0",
          "model_name": "LayoutModel",
          "state": {
            "_model_module": "@jupyter-widgets/base",
            "_model_module_version": "1.2.0",
            "_model_name": "LayoutModel",
            "_view_count": null,
            "_view_module": "@jupyter-widgets/base",
            "_view_module_version": "1.2.0",
            "_view_name": "LayoutView",
            "align_content": null,
            "align_items": null,
            "align_self": null,
            "border": null,
            "bottom": null,
            "display": null,
            "flex": null,
            "flex_flow": null,
            "grid_area": null,
            "grid_auto_columns": null,
            "grid_auto_flow": null,
            "grid_auto_rows": null,
            "grid_column": null,
            "grid_gap": null,
            "grid_row": null,
            "grid_template_areas": null,
            "grid_template_columns": null,
            "grid_template_rows": null,
            "height": null,
            "justify_content": null,
            "justify_items": null,
            "left": null,
            "margin": null,
            "max_height": null,
            "max_width": null,
            "min_height": null,
            "min_width": null,
            "object_fit": null,
            "object_position": null,
            "order": null,
            "overflow": null,
            "overflow_x": null,
            "overflow_y": null,
            "padding": null,
            "right": null,
            "top": null,
            "visibility": null,
            "width": null
          }
        },
        "734b741f9eb5439b9e9f09b400dff9c2": {
          "model_module": "@jupyter-widgets/controls",
          "model_module_version": "1.5.0",
          "model_name": "DescriptionStyleModel",
          "state": {
            "_model_module": "@jupyter-widgets/controls",
            "_model_module_version": "1.5.0",
            "_model_name": "DescriptionStyleModel",
            "_view_count": null,
            "_view_module": "@jupyter-widgets/base",
            "_view_module_version": "1.2.0",
            "_view_name": "StyleView",
            "description_width": ""
          }
        },
        "7421907ae2e94eee8a63a8760785a78f": {
          "model_module": "@jupyter-widgets/base",
          "model_module_version": "1.2.0",
          "model_name": "LayoutModel",
          "state": {
            "_model_module": "@jupyter-widgets/base",
            "_model_module_version": "1.2.0",
            "_model_name": "LayoutModel",
            "_view_count": null,
            "_view_module": "@jupyter-widgets/base",
            "_view_module_version": "1.2.0",
            "_view_name": "LayoutView",
            "align_content": null,
            "align_items": null,
            "align_self": null,
            "border": null,
            "bottom": null,
            "display": null,
            "flex": null,
            "flex_flow": null,
            "grid_area": null,
            "grid_auto_columns": null,
            "grid_auto_flow": null,
            "grid_auto_rows": null,
            "grid_column": null,
            "grid_gap": null,
            "grid_row": null,
            "grid_template_areas": null,
            "grid_template_columns": null,
            "grid_template_rows": null,
            "height": null,
            "justify_content": null,
            "justify_items": null,
            "left": null,
            "margin": null,
            "max_height": null,
            "max_width": null,
            "min_height": null,
            "min_width": null,
            "object_fit": null,
            "object_position": null,
            "order": null,
            "overflow": null,
            "overflow_x": null,
            "overflow_y": null,
            "padding": null,
            "right": null,
            "top": null,
            "visibility": null,
            "width": null
          }
        },
        "74ac7f71fe934bb0997364655e818339": {
          "model_module": "@jupyter-widgets/controls",
          "model_module_version": "1.5.0",
          "model_name": "HTMLModel",
          "state": {
            "_dom_classes": [],
            "_model_module": "@jupyter-widgets/controls",
            "_model_module_version": "1.5.0",
            "_model_name": "HTMLModel",
            "_view_count": null,
            "_view_module": "@jupyter-widgets/controls",
            "_view_module_version": "1.5.0",
            "_view_name": "HTMLView",
            "description": "",
            "description_tooltip": null,
            "layout": "IPY_MODEL_86bda5d55f244bc08f41e1e321575704",
            "placeholder": "​",
            "style": "IPY_MODEL_d21f36219f1d4de3b84d7cbbf7f9ab23",
            "value": " 447/447 [00:00&lt;00:00, 32.2kB/s]"
          }
        },
        "74bc2a33877049469505b40202a7e2e6": {
          "model_module": "@jupyter-widgets/controls",
          "model_module_version": "1.5.0",
          "model_name": "DescriptionStyleModel",
          "state": {
            "_model_module": "@jupyter-widgets/controls",
            "_model_module_version": "1.5.0",
            "_model_name": "DescriptionStyleModel",
            "_view_count": null,
            "_view_module": "@jupyter-widgets/base",
            "_view_module_version": "1.2.0",
            "_view_name": "StyleView",
            "description_width": ""
          }
        },
        "7538cb4cb77e4aff88444d64b2a5cf08": {
          "model_module": "@jupyter-widgets/controls",
          "model_module_version": "1.5.0",
          "model_name": "HBoxModel",
          "state": {
            "_dom_classes": [],
            "_model_module": "@jupyter-widgets/controls",
            "_model_module_version": "1.5.0",
            "_model_name": "HBoxModel",
            "_view_count": null,
            "_view_module": "@jupyter-widgets/controls",
            "_view_module_version": "1.5.0",
            "_view_name": "HBoxView",
            "box_style": "",
            "children": [
              "IPY_MODEL_121252efbbfd4f8f9dc67eba4fcdbe65",
              "IPY_MODEL_404ad8ad9d174aee96e86775619863ab",
              "IPY_MODEL_ae35f888ae1248529060f19e2ae0f2ce"
            ],
            "layout": "IPY_MODEL_956ebe3d0b344d878755c0e2c02b5a1e"
          }
        },
        "7cd6aac286d94cd1896f64ced25a12d5": {
          "model_module": "@jupyter-widgets/controls",
          "model_module_version": "1.5.0",
          "model_name": "FloatProgressModel",
          "state": {
            "_dom_classes": [],
            "_model_module": "@jupyter-widgets/controls",
            "_model_module_version": "1.5.0",
            "_model_name": "FloatProgressModel",
            "_view_count": null,
            "_view_module": "@jupyter-widgets/controls",
            "_view_module_version": "1.5.0",
            "_view_name": "ProgressView",
            "bar_style": "success",
            "description": "",
            "description_tooltip": null,
            "layout": "IPY_MODEL_21839ba8a70c4010b87fc2d1471aa331",
            "max": 1109901745,
            "min": 0,
            "orientation": "horizontal",
            "style": "IPY_MODEL_33fc1485037546bdad79928c5f2d8af4",
            "value": 1109901745
          }
        },
        "7d280378103b47c28d021385b8428a6c": {
          "model_module": "@jupyter-widgets/controls",
          "model_module_version": "1.5.0",
          "model_name": "ProgressStyleModel",
          "state": {
            "_model_module": "@jupyter-widgets/controls",
            "_model_module_version": "1.5.0",
            "_model_name": "ProgressStyleModel",
            "_view_count": null,
            "_view_module": "@jupyter-widgets/base",
            "_view_module_version": "1.2.0",
            "_view_name": "StyleView",
            "bar_color": null,
            "description_width": ""
          }
        },
        "801a473b9d83486aa06d49d9c6369c40": {
          "model_module": "@jupyter-widgets/base",
          "model_module_version": "1.2.0",
          "model_name": "LayoutModel",
          "state": {
            "_model_module": "@jupyter-widgets/base",
            "_model_module_version": "1.2.0",
            "_model_name": "LayoutModel",
            "_view_count": null,
            "_view_module": "@jupyter-widgets/base",
            "_view_module_version": "1.2.0",
            "_view_name": "LayoutView",
            "align_content": null,
            "align_items": null,
            "align_self": null,
            "border": null,
            "bottom": null,
            "display": null,
            "flex": null,
            "flex_flow": null,
            "grid_area": null,
            "grid_auto_columns": null,
            "grid_auto_flow": null,
            "grid_auto_rows": null,
            "grid_column": null,
            "grid_gap": null,
            "grid_row": null,
            "grid_template_areas": null,
            "grid_template_columns": null,
            "grid_template_rows": null,
            "height": null,
            "justify_content": null,
            "justify_items": null,
            "left": null,
            "margin": null,
            "max_height": null,
            "max_width": null,
            "min_height": null,
            "min_width": null,
            "object_fit": null,
            "object_position": null,
            "order": null,
            "overflow": null,
            "overflow_x": null,
            "overflow_y": null,
            "padding": null,
            "right": null,
            "top": null,
            "visibility": null,
            "width": null
          }
        },
        "80a8494564f64439a3b3bb874b469b09": {
          "model_module": "@jupyter-widgets/base",
          "model_module_version": "1.2.0",
          "model_name": "LayoutModel",
          "state": {
            "_model_module": "@jupyter-widgets/base",
            "_model_module_version": "1.2.0",
            "_model_name": "LayoutModel",
            "_view_count": null,
            "_view_module": "@jupyter-widgets/base",
            "_view_module_version": "1.2.0",
            "_view_name": "LayoutView",
            "align_content": null,
            "align_items": null,
            "align_self": null,
            "border": null,
            "bottom": null,
            "display": null,
            "flex": null,
            "flex_flow": null,
            "grid_area": null,
            "grid_auto_columns": null,
            "grid_auto_flow": null,
            "grid_auto_rows": null,
            "grid_column": null,
            "grid_gap": null,
            "grid_row": null,
            "grid_template_areas": null,
            "grid_template_columns": null,
            "grid_template_rows": null,
            "height": null,
            "justify_content": null,
            "justify_items": null,
            "left": null,
            "margin": null,
            "max_height": null,
            "max_width": null,
            "min_height": null,
            "min_width": null,
            "object_fit": null,
            "object_position": null,
            "order": null,
            "overflow": null,
            "overflow_x": null,
            "overflow_y": null,
            "padding": null,
            "right": null,
            "top": null,
            "visibility": null,
            "width": null
          }
        },
        "85db23303aea423ca7abe32bc8223698": {
          "model_module": "@jupyter-widgets/controls",
          "model_module_version": "1.5.0",
          "model_name": "DescriptionStyleModel",
          "state": {
            "_model_module": "@jupyter-widgets/controls",
            "_model_module_version": "1.5.0",
            "_model_name": "DescriptionStyleModel",
            "_view_count": null,
            "_view_module": "@jupyter-widgets/base",
            "_view_module_version": "1.2.0",
            "_view_name": "StyleView",
            "description_width": ""
          }
        },
        "86bda5d55f244bc08f41e1e321575704": {
          "model_module": "@jupyter-widgets/base",
          "model_module_version": "1.2.0",
          "model_name": "LayoutModel",
          "state": {
            "_model_module": "@jupyter-widgets/base",
            "_model_module_version": "1.2.0",
            "_model_name": "LayoutModel",
            "_view_count": null,
            "_view_module": "@jupyter-widgets/base",
            "_view_module_version": "1.2.0",
            "_view_name": "LayoutView",
            "align_content": null,
            "align_items": null,
            "align_self": null,
            "border": null,
            "bottom": null,
            "display": null,
            "flex": null,
            "flex_flow": null,
            "grid_area": null,
            "grid_auto_columns": null,
            "grid_auto_flow": null,
            "grid_auto_rows": null,
            "grid_column": null,
            "grid_gap": null,
            "grid_row": null,
            "grid_template_areas": null,
            "grid_template_columns": null,
            "grid_template_rows": null,
            "height": null,
            "justify_content": null,
            "justify_items": null,
            "left": null,
            "margin": null,
            "max_height": null,
            "max_width": null,
            "min_height": null,
            "min_width": null,
            "object_fit": null,
            "object_position": null,
            "order": null,
            "overflow": null,
            "overflow_x": null,
            "overflow_y": null,
            "padding": null,
            "right": null,
            "top": null,
            "visibility": null,
            "width": null
          }
        },
        "874e02aae976413ca311d2b92f57eeea": {
          "model_module": "@jupyter-widgets/controls",
          "model_module_version": "1.5.0",
          "model_name": "ProgressStyleModel",
          "state": {
            "_model_module": "@jupyter-widgets/controls",
            "_model_module_version": "1.5.0",
            "_model_name": "ProgressStyleModel",
            "_view_count": null,
            "_view_module": "@jupyter-widgets/base",
            "_view_module_version": "1.2.0",
            "_view_name": "StyleView",
            "bar_color": null,
            "description_width": ""
          }
        },
        "8a387378e48b4fa9a07aa164ac6cee91": {
          "model_module": "@jupyter-widgets/controls",
          "model_module_version": "1.5.0",
          "model_name": "DescriptionStyleModel",
          "state": {
            "_model_module": "@jupyter-widgets/controls",
            "_model_module_version": "1.5.0",
            "_model_name": "DescriptionStyleModel",
            "_view_count": null,
            "_view_module": "@jupyter-widgets/base",
            "_view_module_version": "1.2.0",
            "_view_name": "StyleView",
            "description_width": ""
          }
        },
        "8e88546c585142d7897e86eac1f8267d": {
          "model_module": "@jupyter-widgets/base",
          "model_module_version": "1.2.0",
          "model_name": "LayoutModel",
          "state": {
            "_model_module": "@jupyter-widgets/base",
            "_model_module_version": "1.2.0",
            "_model_name": "LayoutModel",
            "_view_count": null,
            "_view_module": "@jupyter-widgets/base",
            "_view_module_version": "1.2.0",
            "_view_name": "LayoutView",
            "align_content": null,
            "align_items": null,
            "align_self": null,
            "border": null,
            "bottom": null,
            "display": null,
            "flex": null,
            "flex_flow": null,
            "grid_area": null,
            "grid_auto_columns": null,
            "grid_auto_flow": null,
            "grid_auto_rows": null,
            "grid_column": null,
            "grid_gap": null,
            "grid_row": null,
            "grid_template_areas": null,
            "grid_template_columns": null,
            "grid_template_rows": null,
            "height": null,
            "justify_content": null,
            "justify_items": null,
            "left": null,
            "margin": null,
            "max_height": null,
            "max_width": null,
            "min_height": null,
            "min_width": null,
            "object_fit": null,
            "object_position": null,
            "order": null,
            "overflow": null,
            "overflow_x": null,
            "overflow_y": null,
            "padding": null,
            "right": null,
            "top": null,
            "visibility": null,
            "width": null
          }
        },
        "9219c39cf04e474082ebab2afa4ef2a3": {
          "model_module": "@jupyter-widgets/controls",
          "model_module_version": "1.5.0",
          "model_name": "HTMLModel",
          "state": {
            "_dom_classes": [],
            "_model_module": "@jupyter-widgets/controls",
            "_model_module_version": "1.5.0",
            "_model_name": "HTMLModel",
            "_view_count": null,
            "_view_module": "@jupyter-widgets/controls",
            "_view_module_version": "1.5.0",
            "_view_name": "HTMLView",
            "description": "",
            "description_tooltip": null,
            "layout": "IPY_MODEL_2eb0a84c52e34c308a1013889050a7f5",
            "placeholder": "​",
            "style": "IPY_MODEL_c40c1c4948ff4c0ca8ee37c114c53b83",
            "value": "tokenizer_config.json: 100%"
          }
        },
        "9409df2a6b93479b98f28d5ff6b30c58": {
          "model_module": "@jupyter-widgets/base",
          "model_module_version": "1.2.0",
          "model_name": "LayoutModel",
          "state": {
            "_model_module": "@jupyter-widgets/base",
            "_model_module_version": "1.2.0",
            "_model_name": "LayoutModel",
            "_view_count": null,
            "_view_module": "@jupyter-widgets/base",
            "_view_module_version": "1.2.0",
            "_view_name": "LayoutView",
            "align_content": null,
            "align_items": null,
            "align_self": null,
            "border": null,
            "bottom": null,
            "display": null,
            "flex": null,
            "flex_flow": null,
            "grid_area": null,
            "grid_auto_columns": null,
            "grid_auto_flow": null,
            "grid_auto_rows": null,
            "grid_column": null,
            "grid_gap": null,
            "grid_row": null,
            "grid_template_areas": null,
            "grid_template_columns": null,
            "grid_template_rows": null,
            "height": null,
            "justify_content": null,
            "justify_items": null,
            "left": null,
            "margin": null,
            "max_height": null,
            "max_width": null,
            "min_height": null,
            "min_width": null,
            "object_fit": null,
            "object_position": null,
            "order": null,
            "overflow": null,
            "overflow_x": null,
            "overflow_y": null,
            "padding": null,
            "right": null,
            "top": null,
            "visibility": null,
            "width": null
          }
        },
        "956ebe3d0b344d878755c0e2c02b5a1e": {
          "model_module": "@jupyter-widgets/base",
          "model_module_version": "1.2.0",
          "model_name": "LayoutModel",
          "state": {
            "_model_module": "@jupyter-widgets/base",
            "_model_module_version": "1.2.0",
            "_model_name": "LayoutModel",
            "_view_count": null,
            "_view_module": "@jupyter-widgets/base",
            "_view_module_version": "1.2.0",
            "_view_name": "LayoutView",
            "align_content": null,
            "align_items": null,
            "align_self": null,
            "border": null,
            "bottom": null,
            "display": null,
            "flex": null,
            "flex_flow": null,
            "grid_area": null,
            "grid_auto_columns": null,
            "grid_auto_flow": null,
            "grid_auto_rows": null,
            "grid_column": null,
            "grid_gap": null,
            "grid_row": null,
            "grid_template_areas": null,
            "grid_template_columns": null,
            "grid_template_rows": null,
            "height": null,
            "justify_content": null,
            "justify_items": null,
            "left": null,
            "margin": null,
            "max_height": null,
            "max_width": null,
            "min_height": null,
            "min_width": null,
            "object_fit": null,
            "object_position": null,
            "order": null,
            "overflow": null,
            "overflow_x": null,
            "overflow_y": null,
            "padding": null,
            "right": null,
            "top": null,
            "visibility": null,
            "width": null
          }
        },
        "98d09ddaaa634086b06e20f5c537c280": {
          "model_module": "@jupyter-widgets/controls",
          "model_module_version": "1.5.0",
          "model_name": "FloatProgressModel",
          "state": {
            "_dom_classes": [],
            "_model_module": "@jupyter-widgets/controls",
            "_model_module_version": "1.5.0",
            "_model_name": "FloatProgressModel",
            "_view_count": null,
            "_view_module": "@jupyter-widgets/controls",
            "_view_module_version": "1.5.0",
            "_view_name": "ProgressView",
            "bar_style": "success",
            "description": "",
            "description_tooltip": null,
            "layout": "IPY_MODEL_e04107a163d8482b9fff8f8bd634fab5",
            "max": 1068114,
            "min": 0,
            "orientation": "horizontal",
            "style": "IPY_MODEL_874e02aae976413ca311d2b92f57eeea",
            "value": 1068114
          }
        },
        "9db60f9eac184aa5a75554c4d6f882d8": {
          "model_module": "@jupyter-widgets/controls",
          "model_module_version": "1.5.0",
          "model_name": "HTMLModel",
          "state": {
            "_dom_classes": [],
            "_model_module": "@jupyter-widgets/controls",
            "_model_module_version": "1.5.0",
            "_model_name": "HTMLModel",
            "_view_count": null,
            "_view_module": "@jupyter-widgets/controls",
            "_view_module_version": "1.5.0",
            "_view_name": "HTMLView",
            "description": "",
            "description_tooltip": null,
            "layout": "IPY_MODEL_bbc516fbecf1491abee6dec0d6a28b7e",
            "placeholder": "​",
            "style": "IPY_MODEL_5f977ee4f21b492f8e7b2c63c1186177",
            "value": " 17.1M/17.1M [00:00&lt;00:00, 192MB/s]"
          }
        },
        "9e7ff25b2ef648b0be2950692d9da465": {
          "model_module": "@jupyter-widgets/controls",
          "model_module_version": "1.5.0",
          "model_name": "DescriptionStyleModel",
          "state": {
            "_model_module": "@jupyter-widgets/controls",
            "_model_module_version": "1.5.0",
            "_model_name": "DescriptionStyleModel",
            "_view_count": null,
            "_view_module": "@jupyter-widgets/base",
            "_view_module_version": "1.2.0",
            "_view_name": "StyleView",
            "description_width": ""
          }
        },
        "a5c4b89c78b24e6f9e0b62d89bb3e2aa": {
          "model_module": "@jupyter-widgets/base",
          "model_module_version": "1.2.0",
          "model_name": "LayoutModel",
          "state": {
            "_model_module": "@jupyter-widgets/base",
            "_model_module_version": "1.2.0",
            "_model_name": "LayoutModel",
            "_view_count": null,
            "_view_module": "@jupyter-widgets/base",
            "_view_module_version": "1.2.0",
            "_view_name": "LayoutView",
            "align_content": null,
            "align_items": null,
            "align_self": null,
            "border": null,
            "bottom": null,
            "display": null,
            "flex": null,
            "flex_flow": null,
            "grid_area": null,
            "grid_auto_columns": null,
            "grid_auto_flow": null,
            "grid_auto_rows": null,
            "grid_column": null,
            "grid_gap": null,
            "grid_row": null,
            "grid_template_areas": null,
            "grid_template_columns": null,
            "grid_template_rows": null,
            "height": null,
            "justify_content": null,
            "justify_items": null,
            "left": null,
            "margin": null,
            "max_height": null,
            "max_width": null,
            "min_height": null,
            "min_width": null,
            "object_fit": null,
            "object_position": null,
            "order": null,
            "overflow": null,
            "overflow_x": null,
            "overflow_y": null,
            "padding": null,
            "right": null,
            "top": null,
            "visibility": null,
            "width": null
          }
        },
        "a65a21b1b5004527b3ac518cd2cde15e": {
          "model_module": "@jupyter-widgets/controls",
          "model_module_version": "1.5.0",
          "model_name": "DescriptionStyleModel",
          "state": {
            "_model_module": "@jupyter-widgets/controls",
            "_model_module_version": "1.5.0",
            "_model_name": "DescriptionStyleModel",
            "_view_count": null,
            "_view_module": "@jupyter-widgets/base",
            "_view_module_version": "1.2.0",
            "_view_name": "StyleView",
            "description_width": ""
          }
        },
        "ac9b968f75cd42ceba19c4208612295a": {
          "model_module": "@jupyter-widgets/controls",
          "model_module_version": "1.5.0",
          "model_name": "HBoxModel",
          "state": {
            "_dom_classes": [],
            "_model_module": "@jupyter-widgets/controls",
            "_model_module_version": "1.5.0",
            "_model_name": "HBoxModel",
            "_view_count": null,
            "_view_module": "@jupyter-widgets/controls",
            "_view_module_version": "1.5.0",
            "_view_name": "HBoxView",
            "box_style": "",
            "children": [
              "IPY_MODEL_f7cb216a5a974bdfbffe19572cd94f66",
              "IPY_MODEL_bfa39a65e3c548bb885cfd2ec704fd82",
              "IPY_MODEL_9db60f9eac184aa5a75554c4d6f882d8"
            ],
            "layout": "IPY_MODEL_cac01c0d58f045e8bee2262791c00aea"
          }
        },
        "ae35f888ae1248529060f19e2ae0f2ce": {
          "model_module": "@jupyter-widgets/controls",
          "model_module_version": "1.5.0",
          "model_name": "HTMLModel",
          "state": {
            "_dom_classes": [],
            "_model_module": "@jupyter-widgets/controls",
            "_model_module_version": "1.5.0",
            "_model_name": "HTMLModel",
            "_view_count": null,
            "_view_module": "@jupyter-widgets/controls",
            "_view_module_version": "1.5.0",
            "_view_name": "HTMLView",
            "description": "",
            "description_tooltip": null,
            "layout": "IPY_MODEL_3ce6e7916ab043eebecb96597c2ee320",
            "placeholder": "​",
            "style": "IPY_MODEL_294dee4f35724cd484daa1d8ecdc42b8",
            "value": " 340/340 [00:00&lt;00:00, 4.90kB/s]"
          }
        },
        "b038658629f54b918493d37fceabe715": {
          "model_module": "@jupyter-widgets/controls",
          "model_module_version": "1.5.0",
          "model_name": "DescriptionStyleModel",
          "state": {
            "_model_module": "@jupyter-widgets/controls",
            "_model_module_version": "1.5.0",
            "_model_name": "DescriptionStyleModel",
            "_view_count": null,
            "_view_module": "@jupyter-widgets/base",
            "_view_module_version": "1.2.0",
            "_view_name": "StyleView",
            "description_width": ""
          }
        },
        "b1a6e5b7742a488395894ba1a04e2d99": {
          "model_module": "@jupyter-widgets/controls",
          "model_module_version": "1.5.0",
          "model_name": "DescriptionStyleModel",
          "state": {
            "_model_module": "@jupyter-widgets/controls",
            "_model_module_version": "1.5.0",
            "_model_name": "DescriptionStyleModel",
            "_view_count": null,
            "_view_module": "@jupyter-widgets/base",
            "_view_module_version": "1.2.0",
            "_view_name": "StyleView",
            "description_width": ""
          }
        },
        "b51ce694318348898a5d0eea58dfc49a": {
          "model_module": "@jupyter-widgets/controls",
          "model_module_version": "1.5.0",
          "model_name": "FloatProgressModel",
          "state": {
            "_dom_classes": [],
            "_model_module": "@jupyter-widgets/controls",
            "_model_module_version": "1.5.0",
            "_model_name": "FloatProgressModel",
            "_view_count": null,
            "_view_module": "@jupyter-widgets/controls",
            "_view_module_version": "1.5.0",
            "_view_name": "ProgressView",
            "bar_style": "success",
            "description": "",
            "description_tooltip": null,
            "layout": "IPY_MODEL_ca1529511e96448b88169015c362f0d9",
            "max": 2394,
            "min": 0,
            "orientation": "horizontal",
            "style": "IPY_MODEL_01b334eabfa64e2fb9fa94bfbbf856d2",
            "value": 2394
          }
        },
        "b832aa81f0a242d689e04837df80b062": {
          "model_module": "@jupyter-widgets/base",
          "model_module_version": "1.2.0",
          "model_name": "LayoutModel",
          "state": {
            "_model_module": "@jupyter-widgets/base",
            "_model_module_version": "1.2.0",
            "_model_name": "LayoutModel",
            "_view_count": null,
            "_view_module": "@jupyter-widgets/base",
            "_view_module_version": "1.2.0",
            "_view_name": "LayoutView",
            "align_content": null,
            "align_items": null,
            "align_self": null,
            "border": null,
            "bottom": null,
            "display": null,
            "flex": null,
            "flex_flow": null,
            "grid_area": null,
            "grid_auto_columns": null,
            "grid_auto_flow": null,
            "grid_auto_rows": null,
            "grid_column": null,
            "grid_gap": null,
            "grid_row": null,
            "grid_template_areas": null,
            "grid_template_columns": null,
            "grid_template_rows": null,
            "height": null,
            "justify_content": null,
            "justify_items": null,
            "left": null,
            "margin": null,
            "max_height": null,
            "max_width": null,
            "min_height": null,
            "min_width": null,
            "object_fit": null,
            "object_position": null,
            "order": null,
            "overflow": null,
            "overflow_x": null,
            "overflow_y": null,
            "padding": null,
            "right": null,
            "top": null,
            "visibility": null,
            "width": null
          }
        },
        "b8f2c9992ec547bcafc07cac2de41f6d": {
          "model_module": "@jupyter-widgets/base",
          "model_module_version": "1.2.0",
          "model_name": "LayoutModel",
          "state": {
            "_model_module": "@jupyter-widgets/base",
            "_model_module_version": "1.2.0",
            "_model_name": "LayoutModel",
            "_view_count": null,
            "_view_module": "@jupyter-widgets/base",
            "_view_module_version": "1.2.0",
            "_view_name": "LayoutView",
            "align_content": null,
            "align_items": null,
            "align_self": null,
            "border": null,
            "bottom": null,
            "display": null,
            "flex": null,
            "flex_flow": null,
            "grid_area": null,
            "grid_auto_columns": null,
            "grid_auto_flow": null,
            "grid_auto_rows": null,
            "grid_column": null,
            "grid_gap": null,
            "grid_row": null,
            "grid_template_areas": null,
            "grid_template_columns": null,
            "grid_template_rows": null,
            "height": null,
            "justify_content": null,
            "justify_items": null,
            "left": null,
            "margin": null,
            "max_height": null,
            "max_width": null,
            "min_height": null,
            "min_width": null,
            "object_fit": null,
            "object_position": null,
            "order": null,
            "overflow": null,
            "overflow_x": null,
            "overflow_y": null,
            "padding": null,
            "right": null,
            "top": null,
            "visibility": null,
            "width": null
          }
        },
        "b901d18c98604cba988a7a0513f4a5f2": {
          "model_module": "@jupyter-widgets/controls",
          "model_module_version": "1.5.0",
          "model_name": "DescriptionStyleModel",
          "state": {
            "_model_module": "@jupyter-widgets/controls",
            "_model_module_version": "1.5.0",
            "_model_name": "DescriptionStyleModel",
            "_view_count": null,
            "_view_module": "@jupyter-widgets/base",
            "_view_module_version": "1.2.0",
            "_view_name": "StyleView",
            "description_width": ""
          }
        },
        "bbc516fbecf1491abee6dec0d6a28b7e": {
          "model_module": "@jupyter-widgets/base",
          "model_module_version": "1.2.0",
          "model_name": "LayoutModel",
          "state": {
            "_model_module": "@jupyter-widgets/base",
            "_model_module_version": "1.2.0",
            "_model_name": "LayoutModel",
            "_view_count": null,
            "_view_module": "@jupyter-widgets/base",
            "_view_module_version": "1.2.0",
            "_view_name": "LayoutView",
            "align_content": null,
            "align_items": null,
            "align_self": null,
            "border": null,
            "bottom": null,
            "display": null,
            "flex": null,
            "flex_flow": null,
            "grid_area": null,
            "grid_auto_columns": null,
            "grid_auto_flow": null,
            "grid_auto_rows": null,
            "grid_column": null,
            "grid_gap": null,
            "grid_row": null,
            "grid_template_areas": null,
            "grid_template_columns": null,
            "grid_template_rows": null,
            "height": null,
            "justify_content": null,
            "justify_items": null,
            "left": null,
            "margin": null,
            "max_height": null,
            "max_width": null,
            "min_height": null,
            "min_width": null,
            "object_fit": null,
            "object_position": null,
            "order": null,
            "overflow": null,
            "overflow_x": null,
            "overflow_y": null,
            "padding": null,
            "right": null,
            "top": null,
            "visibility": null,
            "width": null
          }
        },
        "bfa39a65e3c548bb885cfd2ec704fd82": {
          "model_module": "@jupyter-widgets/controls",
          "model_module_version": "1.5.0",
          "model_name": "FloatProgressModel",
          "state": {
            "_dom_classes": [],
            "_model_module": "@jupyter-widgets/controls",
            "_model_module_version": "1.5.0",
            "_model_name": "FloatProgressModel",
            "_view_count": null,
            "_view_module": "@jupyter-widgets/controls",
            "_view_module_version": "1.5.0",
            "_view_name": "ProgressView",
            "bar_style": "success",
            "description": "",
            "description_tooltip": null,
            "layout": "IPY_MODEL_b8f2c9992ec547bcafc07cac2de41f6d",
            "max": 17082758,
            "min": 0,
            "orientation": "horizontal",
            "style": "IPY_MODEL_1840a39926d6494dbab9f28b65c651f9",
            "value": 17082758
          }
        },
        "c2c4ba7e6c2c4a328d775896662bfde5": {
          "model_module": "@jupyter-widgets/controls",
          "model_module_version": "1.5.0",
          "model_name": "HBoxModel",
          "state": {
            "_dom_classes": [],
            "_model_module": "@jupyter-widgets/controls",
            "_model_module_version": "1.5.0",
            "_model_name": "HBoxModel",
            "_view_count": null,
            "_view_module": "@jupyter-widgets/controls",
            "_view_module_version": "1.5.0",
            "_view_name": "HBoxView",
            "box_style": "",
            "children": [
              "IPY_MODEL_9219c39cf04e474082ebab2afa4ef2a3",
              "IPY_MODEL_f6d0fbc91f514898a9f51e3e40187a54",
              "IPY_MODEL_74ac7f71fe934bb0997364655e818339"
            ],
            "layout": "IPY_MODEL_e5d37faa8a404e0aaf5b9ece080bac2e"
          }
        },
        "c40c1c4948ff4c0ca8ee37c114c53b83": {
          "model_module": "@jupyter-widgets/controls",
          "model_module_version": "1.5.0",
          "model_name": "DescriptionStyleModel",
          "state": {
            "_model_module": "@jupyter-widgets/controls",
            "_model_module_version": "1.5.0",
            "_model_name": "DescriptionStyleModel",
            "_view_count": null,
            "_view_module": "@jupyter-widgets/base",
            "_view_module_version": "1.2.0",
            "_view_name": "StyleView",
            "description_width": ""
          }
        },
        "c44278964a604e44b5c4e1b9753bd606": {
          "model_module": "@jupyter-widgets/controls",
          "model_module_version": "1.5.0",
          "model_name": "HTMLModel",
          "state": {
            "_dom_classes": [],
            "_model_module": "@jupyter-widgets/controls",
            "_model_module_version": "1.5.0",
            "_model_name": "HTMLModel",
            "_view_count": null,
            "_view_module": "@jupyter-widgets/controls",
            "_view_module_version": "1.5.0",
            "_view_name": "HTMLView",
            "description": "",
            "description_tooltip": null,
            "layout": "IPY_MODEL_01f09297aa1741e197c4b89361d5a4d0",
            "placeholder": "​",
            "style": "IPY_MODEL_181e9914e1b54c848c7a66d47802d084",
            "value": "model.bin: 100%"
          }
        },
        "c4be5ca45e20473aa44e430ad9e99f16": {
          "model_module": "@jupyter-widgets/base",
          "model_module_version": "1.2.0",
          "model_name": "LayoutModel",
          "state": {
            "_model_module": "@jupyter-widgets/base",
            "_model_module_version": "1.2.0",
            "_model_name": "LayoutModel",
            "_view_count": null,
            "_view_module": "@jupyter-widgets/base",
            "_view_module_version": "1.2.0",
            "_view_name": "LayoutView",
            "align_content": null,
            "align_items": null,
            "align_self": null,
            "border": null,
            "bottom": null,
            "display": null,
            "flex": null,
            "flex_flow": null,
            "grid_area": null,
            "grid_auto_columns": null,
            "grid_auto_flow": null,
            "grid_auto_rows": null,
            "grid_column": null,
            "grid_gap": null,
            "grid_row": null,
            "grid_template_areas": null,
            "grid_template_columns": null,
            "grid_template_rows": null,
            "height": null,
            "justify_content": null,
            "justify_items": null,
            "left": null,
            "margin": null,
            "max_height": null,
            "max_width": null,
            "min_height": null,
            "min_width": null,
            "object_fit": null,
            "object_position": null,
            "order": null,
            "overflow": null,
            "overflow_x": null,
            "overflow_y": null,
            "padding": null,
            "right": null,
            "top": null,
            "visibility": null,
            "width": null
          }
        },
        "c9fa29bc00d34fb590995b9342e595e7": {
          "model_module": "@jupyter-widgets/base",
          "model_module_version": "1.2.0",
          "model_name": "LayoutModel",
          "state": {
            "_model_module": "@jupyter-widgets/base",
            "_model_module_version": "1.2.0",
            "_model_name": "LayoutModel",
            "_view_count": null,
            "_view_module": "@jupyter-widgets/base",
            "_view_module_version": "1.2.0",
            "_view_name": "LayoutView",
            "align_content": null,
            "align_items": null,
            "align_self": null,
            "border": null,
            "bottom": null,
            "display": null,
            "flex": null,
            "flex_flow": null,
            "grid_area": null,
            "grid_auto_columns": null,
            "grid_auto_flow": null,
            "grid_auto_rows": null,
            "grid_column": null,
            "grid_gap": null,
            "grid_row": null,
            "grid_template_areas": null,
            "grid_template_columns": null,
            "grid_template_rows": null,
            "height": null,
            "justify_content": null,
            "justify_items": null,
            "left": null,
            "margin": null,
            "max_height": null,
            "max_width": null,
            "min_height": null,
            "min_width": null,
            "object_fit": null,
            "object_position": null,
            "order": null,
            "overflow": null,
            "overflow_x": null,
            "overflow_y": null,
            "padding": null,
            "right": null,
            "top": null,
            "visibility": null,
            "width": null
          }
        },
        "ca1529511e96448b88169015c362f0d9": {
          "model_module": "@jupyter-widgets/base",
          "model_module_version": "1.2.0",
          "model_name": "LayoutModel",
          "state": {
            "_model_module": "@jupyter-widgets/base",
            "_model_module_version": "1.2.0",
            "_model_name": "LayoutModel",
            "_view_count": null,
            "_view_module": "@jupyter-widgets/base",
            "_view_module_version": "1.2.0",
            "_view_name": "LayoutView",
            "align_content": null,
            "align_items": null,
            "align_self": null,
            "border": null,
            "bottom": null,
            "display": null,
            "flex": null,
            "flex_flow": null,
            "grid_area": null,
            "grid_auto_columns": null,
            "grid_auto_flow": null,
            "grid_auto_rows": null,
            "grid_column": null,
            "grid_gap": null,
            "grid_row": null,
            "grid_template_areas": null,
            "grid_template_columns": null,
            "grid_template_rows": null,
            "height": null,
            "justify_content": null,
            "justify_items": null,
            "left": null,
            "margin": null,
            "max_height": null,
            "max_width": null,
            "min_height": null,
            "min_width": null,
            "object_fit": null,
            "object_position": null,
            "order": null,
            "overflow": null,
            "overflow_x": null,
            "overflow_y": null,
            "padding": null,
            "right": null,
            "top": null,
            "visibility": null,
            "width": null
          }
        },
        "cac01c0d58f045e8bee2262791c00aea": {
          "model_module": "@jupyter-widgets/base",
          "model_module_version": "1.2.0",
          "model_name": "LayoutModel",
          "state": {
            "_model_module": "@jupyter-widgets/base",
            "_model_module_version": "1.2.0",
            "_model_name": "LayoutModel",
            "_view_count": null,
            "_view_module": "@jupyter-widgets/base",
            "_view_module_version": "1.2.0",
            "_view_name": "LayoutView",
            "align_content": null,
            "align_items": null,
            "align_self": null,
            "border": null,
            "bottom": null,
            "display": null,
            "flex": null,
            "flex_flow": null,
            "grid_area": null,
            "grid_auto_columns": null,
            "grid_auto_flow": null,
            "grid_auto_rows": null,
            "grid_column": null,
            "grid_gap": null,
            "grid_row": null,
            "grid_template_areas": null,
            "grid_template_columns": null,
            "grid_template_rows": null,
            "height": null,
            "justify_content": null,
            "justify_items": null,
            "left": null,
            "margin": null,
            "max_height": null,
            "max_width": null,
            "min_height": null,
            "min_width": null,
            "object_fit": null,
            "object_position": null,
            "order": null,
            "overflow": null,
            "overflow_x": null,
            "overflow_y": null,
            "padding": null,
            "right": null,
            "top": null,
            "visibility": null,
            "width": null
          }
        },
        "cadcae2afee343b19ca350cd130c162c": {
          "model_module": "@jupyter-widgets/controls",
          "model_module_version": "1.5.0",
          "model_name": "HTMLModel",
          "state": {
            "_dom_classes": [],
            "_model_module": "@jupyter-widgets/controls",
            "_model_module_version": "1.5.0",
            "_model_name": "HTMLModel",
            "_view_count": null,
            "_view_module": "@jupyter-widgets/controls",
            "_view_module_version": "1.5.0",
            "_view_name": "HTMLView",
            "description": "",
            "description_tooltip": null,
            "layout": "IPY_MODEL_b832aa81f0a242d689e04837df80b062",
            "placeholder": "​",
            "style": "IPY_MODEL_734b741f9eb5439b9e9f09b400dff9c2",
            "value": " 2.48M/2.48M [00:00&lt;00:00, 6.60MB/s]"
          }
        },
        "d21f36219f1d4de3b84d7cbbf7f9ab23": {
          "model_module": "@jupyter-widgets/controls",
          "model_module_version": "1.5.0",
          "model_name": "DescriptionStyleModel",
          "state": {
            "_model_module": "@jupyter-widgets/controls",
            "_model_module_version": "1.5.0",
            "_model_name": "DescriptionStyleModel",
            "_view_count": null,
            "_view_module": "@jupyter-widgets/base",
            "_view_module_version": "1.2.0",
            "_view_name": "StyleView",
            "description_width": ""
          }
        },
        "d2feb0c3385643b1a8c5034c51c40bd8": {
          "model_module": "@jupyter-widgets/controls",
          "model_module_version": "1.5.0",
          "model_name": "HTMLModel",
          "state": {
            "_dom_classes": [],
            "_model_module": "@jupyter-widgets/controls",
            "_model_module_version": "1.5.0",
            "_model_name": "HTMLModel",
            "_view_count": null,
            "_view_module": "@jupyter-widgets/controls",
            "_view_module_version": "1.5.0",
            "_view_name": "HTMLView",
            "description": "",
            "description_tooltip": null,
            "layout": "IPY_MODEL_13f9bf72320e4ef5a449bbf6431328c1",
            "placeholder": "​",
            "style": "IPY_MODEL_0dd0c8749a104044b8093b4d93ef4e9d",
            "value": "config.json: 100%"
          }
        },
        "d5032d0ed7b14077ae9e13264a602cd1": {
          "model_module": "@jupyter-widgets/controls",
          "model_module_version": "1.5.0",
          "model_name": "HTMLModel",
          "state": {
            "_dom_classes": [],
            "_model_module": "@jupyter-widgets/controls",
            "_model_module_version": "1.5.0",
            "_model_name": "HTMLModel",
            "_view_count": null,
            "_view_module": "@jupyter-widgets/controls",
            "_view_module_version": "1.5.0",
            "_view_name": "HTMLView",
            "description": "",
            "description_tooltip": null,
            "layout": "IPY_MODEL_6b6372802da34adeb940c69db88795fe",
            "placeholder": "​",
            "style": "IPY_MODEL_4aa13decdc3f4b0988b4d3d48d9cb219",
            "value": "vocabulary.json: 100%"
          }
        },
        "e04107a163d8482b9fff8f8bd634fab5": {
          "model_module": "@jupyter-widgets/base",
          "model_module_version": "1.2.0",
          "model_name": "LayoutModel",
          "state": {
            "_model_module": "@jupyter-widgets/base",
            "_model_module_version": "1.2.0",
            "_model_name": "LayoutModel",
            "_view_count": null,
            "_view_module": "@jupyter-widgets/base",
            "_view_module_version": "1.2.0",
            "_view_name": "LayoutView",
            "align_content": null,
            "align_items": null,
            "align_self": null,
            "border": null,
            "bottom": null,
            "display": null,
            "flex": null,
            "flex_flow": null,
            "grid_area": null,
            "grid_auto_columns": null,
            "grid_auto_flow": null,
            "grid_auto_rows": null,
            "grid_column": null,
            "grid_gap": null,
            "grid_row": null,
            "grid_template_areas": null,
            "grid_template_columns": null,
            "grid_template_rows": null,
            "height": null,
            "justify_content": null,
            "justify_items": null,
            "left": null,
            "margin": null,
            "max_height": null,
            "max_width": null,
            "min_height": null,
            "min_width": null,
            "object_fit": null,
            "object_position": null,
            "order": null,
            "overflow": null,
            "overflow_x": null,
            "overflow_y": null,
            "padding": null,
            "right": null,
            "top": null,
            "visibility": null,
            "width": null
          }
        },
        "e427c3ee7a7a477aab6c0264432069fd": {
          "model_module": "@jupyter-widgets/controls",
          "model_module_version": "1.5.0",
          "model_name": "FloatProgressModel",
          "state": {
            "_dom_classes": [],
            "_model_module": "@jupyter-widgets/controls",
            "_model_module_version": "1.5.0",
            "_model_name": "FloatProgressModel",
            "_view_count": null,
            "_view_module": "@jupyter-widgets/controls",
            "_view_module_version": "1.5.0",
            "_view_name": "ProgressView",
            "bar_style": "success",
            "description": "",
            "description_tooltip": null,
            "layout": "IPY_MODEL_3b009e26a3ca405199ef352dae955a67",
            "max": 914,
            "min": 0,
            "orientation": "horizontal",
            "style": "IPY_MODEL_5e0578f2bedb43f0a8b8b6ddf88f3d4e",
            "value": 914
          }
        },
        "e4975bfd4a0a40d7b38a25d335fdea9b": {
          "model_module": "@jupyter-widgets/base",
          "model_module_version": "1.2.0",
          "model_name": "LayoutModel",
          "state": {
            "_model_module": "@jupyter-widgets/base",
            "_model_module_version": "1.2.0",
            "_model_name": "LayoutModel",
            "_view_count": null,
            "_view_module": "@jupyter-widgets/base",
            "_view_module_version": "1.2.0",
            "_view_name": "LayoutView",
            "align_content": null,
            "align_items": null,
            "align_self": null,
            "border": null,
            "bottom": null,
            "display": null,
            "flex": null,
            "flex_flow": null,
            "grid_area": null,
            "grid_auto_columns": null,
            "grid_auto_flow": null,
            "grid_auto_rows": null,
            "grid_column": null,
            "grid_gap": null,
            "grid_row": null,
            "grid_template_areas": null,
            "grid_template_columns": null,
            "grid_template_rows": null,
            "height": null,
            "justify_content": null,
            "justify_items": null,
            "left": null,
            "margin": null,
            "max_height": null,
            "max_width": null,
            "min_height": null,
            "min_width": null,
            "object_fit": null,
            "object_position": null,
            "order": null,
            "overflow": null,
            "overflow_x": null,
            "overflow_y": null,
            "padding": null,
            "right": null,
            "top": null,
            "visibility": null,
            "width": null
          }
        },
        "e5d37faa8a404e0aaf5b9ece080bac2e": {
          "model_module": "@jupyter-widgets/base",
          "model_module_version": "1.2.0",
          "model_name": "LayoutModel",
          "state": {
            "_model_module": "@jupyter-widgets/base",
            "_model_module_version": "1.2.0",
            "_model_name": "LayoutModel",
            "_view_count": null,
            "_view_module": "@jupyter-widgets/base",
            "_view_module_version": "1.2.0",
            "_view_name": "LayoutView",
            "align_content": null,
            "align_items": null,
            "align_self": null,
            "border": null,
            "bottom": null,
            "display": null,
            "flex": null,
            "flex_flow": null,
            "grid_area": null,
            "grid_auto_columns": null,
            "grid_auto_flow": null,
            "grid_auto_rows": null,
            "grid_column": null,
            "grid_gap": null,
            "grid_row": null,
            "grid_template_areas": null,
            "grid_template_columns": null,
            "grid_template_rows": null,
            "height": null,
            "justify_content": null,
            "justify_items": null,
            "left": null,
            "margin": null,
            "max_height": null,
            "max_width": null,
            "min_height": null,
            "min_width": null,
            "object_fit": null,
            "object_position": null,
            "order": null,
            "overflow": null,
            "overflow_x": null,
            "overflow_y": null,
            "padding": null,
            "right": null,
            "top": null,
            "visibility": null,
            "width": null
          }
        },
        "e5f830aa94d243ab85900bb008c5e71e": {
          "model_module": "@jupyter-widgets/controls",
          "model_module_version": "1.5.0",
          "model_name": "HBoxModel",
          "state": {
            "_dom_classes": [],
            "_model_module": "@jupyter-widgets/controls",
            "_model_module_version": "1.5.0",
            "_model_name": "HBoxModel",
            "_view_count": null,
            "_view_module": "@jupyter-widgets/controls",
            "_view_module_version": "1.5.0",
            "_view_name": "HBoxView",
            "box_style": "",
            "children": [
              "IPY_MODEL_d5032d0ed7b14077ae9e13264a602cd1",
              "IPY_MODEL_98d09ddaaa634086b06e20f5c537c280",
              "IPY_MODEL_626f5add4dc0457daaed1f1de176a6b4"
            ],
            "layout": "IPY_MODEL_e4975bfd4a0a40d7b38a25d335fdea9b"
          }
        },
        "e6de21c6017244f7b6c34a4c8faafd1a": {
          "model_module": "@jupyter-widgets/base",
          "model_module_version": "1.2.0",
          "model_name": "LayoutModel",
          "state": {
            "_model_module": "@jupyter-widgets/base",
            "_model_module_version": "1.2.0",
            "_model_name": "LayoutModel",
            "_view_count": null,
            "_view_module": "@jupyter-widgets/base",
            "_view_module_version": "1.2.0",
            "_view_name": "LayoutView",
            "align_content": null,
            "align_items": null,
            "align_self": null,
            "border": null,
            "bottom": null,
            "display": null,
            "flex": null,
            "flex_flow": null,
            "grid_area": null,
            "grid_auto_columns": null,
            "grid_auto_flow": null,
            "grid_auto_rows": null,
            "grid_column": null,
            "grid_gap": null,
            "grid_row": null,
            "grid_template_areas": null,
            "grid_template_columns": null,
            "grid_template_rows": null,
            "height": null,
            "justify_content": null,
            "justify_items": null,
            "left": null,
            "margin": null,
            "max_height": null,
            "max_width": null,
            "min_height": null,
            "min_width": null,
            "object_fit": null,
            "object_position": null,
            "order": null,
            "overflow": null,
            "overflow_x": null,
            "overflow_y": null,
            "padding": null,
            "right": null,
            "top": null,
            "visibility": null,
            "width": null
          }
        },
        "f1a0a35e771841acae7b75e7593c7498": {
          "model_module": "@jupyter-widgets/controls",
          "model_module_version": "1.5.0",
          "model_name": "DescriptionStyleModel",
          "state": {
            "_model_module": "@jupyter-widgets/controls",
            "_model_module_version": "1.5.0",
            "_model_name": "DescriptionStyleModel",
            "_view_count": null,
            "_view_module": "@jupyter-widgets/base",
            "_view_module_version": "1.2.0",
            "_view_name": "StyleView",
            "description_width": ""
          }
        },
        "f6d0fbc91f514898a9f51e3e40187a54": {
          "model_module": "@jupyter-widgets/controls",
          "model_module_version": "1.5.0",
          "model_name": "FloatProgressModel",
          "state": {
            "_dom_classes": [],
            "_model_module": "@jupyter-widgets/controls",
            "_model_module_version": "1.5.0",
            "_model_name": "FloatProgressModel",
            "_view_count": null,
            "_view_module": "@jupyter-widgets/controls",
            "_view_module_version": "1.5.0",
            "_view_name": "ProgressView",
            "bar_style": "success",
            "description": "",
            "description_tooltip": null,
            "layout": "IPY_MODEL_80a8494564f64439a3b3bb874b469b09",
            "max": 447,
            "min": 0,
            "orientation": "horizontal",
            "style": "IPY_MODEL_562b49f695304f3ab92c95edf6d869a9",
            "value": 447
          }
        },
        "f7cb216a5a974bdfbffe19572cd94f66": {
          "model_module": "@jupyter-widgets/controls",
          "model_module_version": "1.5.0",
          "model_name": "HTMLModel",
          "state": {
            "_dom_classes": [],
            "_model_module": "@jupyter-widgets/controls",
            "_model_module_version": "1.5.0",
            "_model_name": "HTMLModel",
            "_view_count": null,
            "_view_module": "@jupyter-widgets/controls",
            "_view_module_version": "1.5.0",
            "_view_name": "HTMLView",
            "description": "",
            "description_tooltip": null,
            "layout": "IPY_MODEL_6dbd9aad98c24fd5b96c3752d6b1635a",
            "placeholder": "​",
            "style": "IPY_MODEL_8a387378e48b4fa9a07aa164ac6cee91",
            "value": "tokenizer.json: 100%"
          }
        },
        "fc702cc3de604a31a4f33608a16ca798": {
          "model_module": "@jupyter-widgets/controls",
          "model_module_version": "1.5.0",
          "model_name": "HTMLModel",
          "state": {
            "_dom_classes": [],
            "_model_module": "@jupyter-widgets/controls",
            "_model_module_version": "1.5.0",
            "_model_name": "HTMLModel",
            "_view_count": null,
            "_view_module": "@jupyter-widgets/controls",
            "_view_module_version": "1.5.0",
            "_view_name": "HTMLView",
            "description": "",
            "description_tooltip": null,
            "layout": "IPY_MODEL_0e5532b8db15490eb90480848feaa94f",
            "placeholder": "​",
            "style": "IPY_MODEL_680d4ae8d6bc4538839a01dd30f34eef",
            "value": " 3.09G/3.09G [00:23&lt;00:00, 254MB/s]"
          }
        },
        "fec497772c5f49fab0cdd89e38f99fc4": {
          "model_module": "@jupyter-widgets/base",
          "model_module_version": "1.2.0",
          "model_name": "LayoutModel",
          "state": {
            "_model_module": "@jupyter-widgets/base",
            "_model_module_version": "1.2.0",
            "_model_name": "LayoutModel",
            "_view_count": null,
            "_view_module": "@jupyter-widgets/base",
            "_view_module_version": "1.2.0",
            "_view_name": "LayoutView",
            "align_content": null,
            "align_items": null,
            "align_self": null,
            "border": null,
            "bottom": null,
            "display": null,
            "flex": null,
            "flex_flow": null,
            "grid_area": null,
            "grid_auto_columns": null,
            "grid_auto_flow": null,
            "grid_auto_rows": null,
            "grid_column": null,
            "grid_gap": null,
            "grid_row": null,
            "grid_template_areas": null,
            "grid_template_columns": null,
            "grid_template_rows": null,
            "height": null,
            "justify_content": null,
            "justify_items": null,
            "left": null,
            "margin": null,
            "max_height": null,
            "max_width": null,
            "min_height": null,
            "min_width": null,
            "object_fit": null,
            "object_position": null,
            "order": null,
            "overflow": null,
            "overflow_x": null,
            "overflow_y": null,
            "padding": null,
            "right": null,
            "top": null,
            "visibility": null,
            "width": null
          }
        }
      }
    }
  },
  "nbformat": 4,
  "nbformat_minor": 0
}
