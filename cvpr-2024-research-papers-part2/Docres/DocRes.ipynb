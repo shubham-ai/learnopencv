{
 "cells": [
  {
   "cell_type": "code",
   "execution_count": 1,
   "metadata": {
    "colab": {
     "base_uri": "https://localhost:8080/"
    },
    "id": "_OcPAA8FUqJ8",
    "outputId": "30b4dc55-9365-4336-ea3a-5ec100542a29"
   },
   "outputs": [
    {
     "name": "stdout",
     "output_type": "stream",
     "text": [
      "Cloning into 'DocRes'...\n",
      "remote: Enumerating objects: 243, done.\u001b[K\n",
      "remote: Counting objects: 100% (30/30), done.\u001b[K\n",
      "remote: Compressing objects: 100% (24/24), done.\u001b[K\n",
      "remote: Total 243 (delta 11), reused 15 (delta 6), pack-reused 213\u001b[K\n",
      "Receiving objects: 100% (243/243), 223.36 MiB | 2.90 MiB/s, done.\n",
      "Resolving deltas: 100% (22/22), done.\n",
      "Updating files: 100% (137/137), done.\n"
     ]
    }
   ],
   "source": [
    "!git clone https://github.com/ZZZHANG-jx/DocRes.git"
   ]
  },
  {
   "cell_type": "code",
   "execution_count": 1,
   "metadata": {
    "colab": {
     "base_uri": "https://localhost:8080/"
    },
    "id": "mbmRFo-mUu3y",
    "outputId": "94bfcce6-4d41-45f6-8864-38b1c42e65b2"
   },
   "outputs": [
    {
     "name": "stdout",
     "output_type": "stream",
     "text": [
      "/home/jaykumaran/Blogs/CVPR 2024/DocRes/DocRes\n"
     ]
    },
    {
     "name": "stderr",
     "output_type": "stream",
     "text": [
      "/home/jaykumaran/.local/lib/python3.10/site-packages/IPython/core/magics/osm.py:417: UserWarning: This is now an optional IPython functionality, setting dhist requires you to install the `pickleshare` library.\n",
      "  self.shell.db['dhist'] = compress_dhist(dhist)[-100:]\n"
     ]
    }
   ],
   "source": [
    "%cd DocRes"
   ]
  },
  {
   "cell_type": "code",
   "execution_count": 3,
   "metadata": {
    "colab": {
     "base_uri": "https://localhost:8080/"
    },
    "id": "jM6ZYPA6VCNn",
    "outputId": "dc4e9ca9-48d4-4942-fc2d-4c0903261be9"
   },
   "outputs": [
    {
     "name": "stdout",
     "output_type": "stream",
     "text": [
      "\u001b[2K     \u001b[90m━━━━━━━━━━━━━━━━━━━━━━━━━━━━━━━━━━━━━━━━\u001b[0m \u001b[32m1.6/1.6 GB\u001b[0m \u001b[31m1.0 MB/s\u001b[0m eta \u001b[36m0:00:00\u001b[0m\n",
      "\u001b[2K     \u001b[90m━━━━━━━━━━━━━━━━━━━━━━━━━━━━━━━━━━━━━━━━\u001b[0m \u001b[32m22.3/22.3 MB\u001b[0m \u001b[31m50.2 MB/s\u001b[0m eta \u001b[36m0:00:00\u001b[0m\n",
      "\u001b[2K     \u001b[90m━━━━━━━━━━━━━━━━━━━━━━━━━━━━━━━━━━━━━━━━\u001b[0m \u001b[32m15.9/15.9 MB\u001b[0m \u001b[31m49.3 MB/s\u001b[0m eta \u001b[36m0:00:00\u001b[0m\n",
      "\u001b[2K     \u001b[90m━━━━━━━━━━━━━━━━━━━━━━━━━━━━━━━━━━━━━━━━\u001b[0m \u001b[32m43.2/43.2 kB\u001b[0m \u001b[31m4.7 MB/s\u001b[0m eta \u001b[36m0:00:00\u001b[0m\n",
      "\u001b[2K     \u001b[90m━━━━━━━━━━━━━━━━━━━━━━━━━━━━━━━━━━━━━━━━\u001b[0m \u001b[32m4.5/4.5 MB\u001b[0m \u001b[31m101.9 MB/s\u001b[0m eta \u001b[36m0:00:00\u001b[0m\n",
      "\u001b[2K     \u001b[90m━━━━━━━━━━━━━━━━━━━━━━━━━━━━━━━━━━━━━━━━\u001b[0m \u001b[32m6.8/6.8 MB\u001b[0m \u001b[31m103.3 MB/s\u001b[0m eta \u001b[36m0:00:00\u001b[0m\n",
      "\u001b[?25h\u001b[31mERROR: pip's dependency resolver does not currently take into account all the packages that are installed. This behaviour is the source of the following dependency conflicts.\n",
      "chex 0.1.86 requires numpy>=1.24.1, but you have numpy 1.21.6 which is incompatible.\n",
      "cudf-cu12 24.4.1 requires numpy<2.0a0,>=1.23, but you have numpy 1.21.6 which is incompatible.\n",
      "flax 0.8.4 requires numpy>=1.22, but you have numpy 1.21.6 which is incompatible.\n",
      "jax 0.4.26 requires numpy>=1.22, but you have numpy 1.21.6 which is incompatible.\n",
      "jaxlib 0.4.26+cuda12.cudnn89 requires numpy>=1.22, but you have numpy 1.21.6 which is incompatible.\n",
      "numba 0.58.1 requires numpy<1.27,>=1.22, but you have numpy 1.21.6 which is incompatible.\n",
      "numexpr 2.10.1 requires numpy>=1.23.0, but you have numpy 1.21.6 which is incompatible.\n",
      "pandas-stubs 2.0.3.230814 requires numpy>=1.25.0; python_version >= \"3.9\", but you have numpy 1.21.6 which is incompatible.\n",
      "plotnine 0.12.4 requires numpy>=1.23.0, but you have numpy 1.21.6 which is incompatible.\n",
      "rmm-cu12 24.4.0 requires numpy<2.0a0,>=1.23, but you have numpy 1.21.6 which is incompatible.\n",
      "statsmodels 0.14.2 requires numpy>=1.22.3, but you have numpy 1.21.6 which is incompatible.\n",
      "tensorflow 2.15.0 requires numpy<2.0.0,>=1.23.5, but you have numpy 1.21.6 which is incompatible.\n",
      "torchaudio 2.3.0+cu121 requires torch==2.3.0, but you have torch 1.11.0+cu113 which is incompatible.\n",
      "torchtext 0.18.0 requires torch>=2.3.0, but you have torch 1.11.0+cu113 which is incompatible.\n",
      "xarray-einstats 0.7.0 requires numpy>=1.22, but you have numpy 1.21.6 which is incompatible.\u001b[0m\u001b[31m\n",
      "\u001b[0m"
     ]
    }
   ],
   "source": [
    "# !pip install -r requirements.txt -q"
   ]
  },
  {
   "cell_type": "code",
   "execution_count": 6,
   "metadata": {
    "id": "p_DZoipl8OIL"
   },
   "outputs": [],
   "source": [
    "import os\n",
    "os.makedirs(\"data/MBD/checkpoint\", exist_ok=True)\n",
    "os.makedirs(\"checkpoints\", exist_ok=True)"
   ]
  },
  {
   "cell_type": "code",
   "execution_count": 11,
   "metadata": {},
   "outputs": [
    {
     "name": "stdout",
     "output_type": "stream",
     "text": [
      "\u001b[0m\u001b[01;34mcheckpoints\u001b[0m/  inference.py  \u001b[01;34mmodels\u001b[0m/           \u001b[01;34mrestorted\u001b[0m/\n",
      "\u001b[01;34mdata\u001b[0m/         \u001b[01;34minput\u001b[0m/        \u001b[01;34m__pycache__\u001b[0m/      start_train.sh\n",
      "eval.py       LICENSE       README.md         train.py\n",
      "\u001b[01;34mimages\u001b[0m/       \u001b[01;34mloaders\u001b[0m/      requirements.txt  utils.py\n"
     ]
    }
   ],
   "source": [
    "ls"
   ]
  },
  {
   "cell_type": "code",
   "execution_count": 8,
   "metadata": {
    "colab": {
     "base_uri": "https://localhost:8080/"
    },
    "id": "wzrFPppj0bqF",
    "outputId": "82ac1852-9ecc-42b1-c801-9dbbe093de6a"
   },
   "outputs": [],
   "source": [
    "!wget -O checkpoints/docres.pkl https://www.dropbox.com/scl/fi/7jy1040wa6rkaj74blbla/docres.pkl?rlkey=by6wjr8en5r3wxrrx4don2911&st=4tawdvez&dl=1"
   ]
  },
  {
   "cell_type": "code",
   "execution_count": 9,
   "metadata": {
    "colab": {
     "base_uri": "https://localhost:8080/"
    },
    "id": "CsN8CPCd71k4",
    "outputId": "be0f48fb-2080-44c8-bc65-ea85179b1055"
   },
   "outputs": [],
   "source": [
    "!wget -O data/MBD/checkpoints/mbd.pkl https://www.dropbox.com/scl/fi/xtbxj8qn3qofuo9qcmqrt/mbd.pkl?rlkey=fa4fvzjtmwtd85s00eqdagufm&st=i1okanou&dl=1"
   ]
  },
  {
   "cell_type": "code",
   "execution_count": 3,
   "metadata": {
    "colab": {
     "base_uri": "https://localhost:8080/",
     "height": 35
    },
    "id": "EZzoKoq78mtj",
    "outputId": "3cba9c60-13df-4cb5-bdd4-d9bd4b054074"
   },
   "outputs": [
    {
     "data": {
      "text/plain": [
       "'/home/jaykumaran/Blogs/CVPR 2024/DocRes/DocRes'"
      ]
     },
     "execution_count": 3,
     "metadata": {},
     "output_type": "execute_result"
    }
   ],
   "source": [
    "pwd"
   ]
  },
  {
   "cell_type": "markdown",
   "metadata": {},
   "source": [
    "# TASK: dewarping"
   ]
  },
  {
   "cell_type": "code",
   "execution_count": null,
   "metadata": {
    "colab": {
     "base_uri": "https://localhost:8080/"
    },
    "id": "Pk4ZSRMeVDK7",
    "outputId": "0b8f888b-39e4-4506-8d6d-86a25e03be20",
    "scrolled": true
   },
   "outputs": [],
   "source": [
    "!python inference.py --im_path ./input/218_in.png --task  dewarping --save_dtsprompt 1"
   ]
  },
  {
   "cell_type": "markdown",
   "metadata": {},
   "source": [
    "# TASK: deshadowing"
   ]
  },
  {
   "cell_type": "code",
   "execution_count": 3,
   "metadata": {},
   "outputs": [
    {
     "name": "stdout",
     "output_type": "stream",
     "text": [
      "^C\n"
     ]
    }
   ],
   "source": [
    "!python inference.py --im_path ./input/218_in.png --task  deshadowing --save_dtsprompt 1"
   ]
  },
  {
   "cell_type": "markdown",
   "metadata": {},
   "source": [
    "# TASK: appearance enhancement"
   ]
  },
  {
   "cell_type": "code",
   "execution_count": null,
   "metadata": {},
   "outputs": [],
   "source": [
    "!python inference.py --im_path ./input/218_in.png --task  appearance --save_dtsprompt 1"
   ]
  },
  {
   "cell_type": "markdown",
   "metadata": {},
   "source": [
    "# TASK: deblurring"
   ]
  },
  {
   "cell_type": "code",
   "execution_count": null,
   "metadata": {},
   "outputs": [],
   "source": [
    "!python inference.py --im_path ./input/218_in.png --task  deblurring --save_dtsprompt d"
   ]
  },
  {
   "cell_type": "markdown",
   "metadata": {},
   "source": [
    "# TASK: binarization"
   ]
  },
  {
   "cell_type": "code",
   "execution_count": null,
   "metadata": {},
   "outputs": [],
   "source": [
    "!python inference.py --im_path ./input/218_in.png --task  deblurring --save_dtsprompt d"
   ]
  }
 ],
 "metadata": {
  "accelerator": "GPU",
  "colab": {
   "gpuType": "T4",
   "provenance": []
  },
  "kernelspec": {
   "display_name": "Python 3 (ipykernel)",
   "language": "python",
   "name": "python3"
  },
  "language_info": {
   "codemirror_mode": {
    "name": "ipython",
    "version": 3
   },
   "file_extension": ".py",
   "mimetype": "text/x-python",
   "name": "python",
   "nbconvert_exporter": "python",
   "pygments_lexer": "ipython3",
   "version": "3.10.12"
  }
 },
 "nbformat": 4,
 "nbformat_minor": 4
}
