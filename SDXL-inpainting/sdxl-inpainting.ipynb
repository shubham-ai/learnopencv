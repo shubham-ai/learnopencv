{
 "cells": [
  {
   "cell_type": "code",
   "execution_count": null,
   "metadata": {},
   "outputs": [],
   "source": [
    "# install the packages\n",
    "! pip install diffusers -q\n",
    "! pip install accelerate -q"
   ]
  },
  {
   "cell_type": "code",
   "execution_count": null,
   "metadata": {},
   "outputs": [],
   "source": [
    "# import libraries\n",
    "from diffusers import AutoPipelineForInpainting\n",
    "from diffusers.utils import load_image, make_image_grid\n",
    "import torch\n",
    "\n",
    "# define the pipeline object\n",
    "pipe = AutoPipelineForInpainting.from_pretrained(\"diffusers/stable-diffusion-xl-1.0-inpainting-0.1\", torch_dtype=torch.float16, variant=\"fp16\").to(\"cuda\")\n",
    "\n",
    "# load the image and mask\n",
    "img_url = \"https://raw.githubusercontent.com/CompVis/latent-diffusion/main/data/inpainting_examples/overture-creations-5sI6fQgYIuo.png\"\n",
    "mask_url = \"https://raw.githubusercontent.com/CompVis/latent-diffusion/main/data/inpainting_examples/overture-creations-5sI6fQgYIuo_mask.png\"\n",
    "\n",
    "input_image = load_image(img_url).resize((1024, 1024))\n",
    "mask_image = load_image(mask_url).resize((1024, 1024))\n",
    "\n",
    "# defining variables for inference pipeline\n",
    "prompt = \"a cute baby lion sitting on a park bench\"\n",
    "negative_prompt = \"bad anatomy, deformed, ugly, disfigured\"\n",
    "generator = torch.Generator(device=\"cuda\").manual_seed(0)\n",
    "\n",
    "# inpainting pipeline creation\n",
    "image = pipe(\n",
    "  prompt=prompt,\n",
    "  negative_prompt=negative_prompt,\n",
    "  image=input_image,\n",
    "  mask_image=mask_image,\n",
    "  guidance_scale=20.0, # affects the alignment between the text prompt and the generated image.\n",
    "  num_inference_steps=100,  # steps between 15 and 30 work well for us\n",
    "  strength=0.99,  # make sure to use `strength` below 1.0\n",
    "  generator=generator,\n",
    "  padding_mask_crop=32 #Crops masked area + padding from image and mask.\n",
    ").images[0]\n",
    "\n",
    "#disply the output\n",
    "make_image_grid([input_image,mask_image,image], rows=1, cols=3)"
   ]
  }
 ],
 "metadata": {
  "language_info": {
   "name": "python"
  }
 },
 "nbformat": 4,
 "nbformat_minor": 2
}
