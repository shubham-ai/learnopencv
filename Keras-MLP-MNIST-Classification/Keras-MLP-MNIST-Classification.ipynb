{
 "cells": [
  {
   "cell_type": "markdown",
   "id": "a5695ccc",
   "metadata": {
    "id": "a5695ccc"
   },
   "source": [
    "<h1 style=\"font-size:30px;\">Image Classification using Feedforward Networks in Keras</h1>\n",
    "\n",
    "In this notebook, we will introduce several new concepts associated with the general problem of classification involving more than two classes. This is sometimes referred to as multinomial regression or softmax regression when the number of classes is more than two. Specifically, we will see how to classify hand-written digits from the MNIST dataset using a feed-forward Multilayer Perceptron Network. MLPs are not the preferred way to process image data, but this serves as a good example to introduce some new concepts. The MNIST hand-written digit dataset is included in Tensorflow and can easily be imported and loaded, as we will see below. Using this dataset and a simple feed-forward network, we will demonstrate one approach for how to work with image data and build a network that classifies digits `[0,9]`. \n",
    "\n",
    "<img src='https://learnopencv.com/wp-content/uploads/2023/01/keras-mnist-digits-classification.png' width=800 align='center'>"
   ]
  },
  {
   "cell_type": "markdown",
   "id": "BDATBBUaB0Bn",
   "metadata": {
    "id": "BDATBBUaB0Bn"
   },
   "source": [
    "## Table of Contents\n",
    "* [1 Load the MNIST Dataset](#1-Load-the-MNIST-Dataset)\n",
    "* [2 Dataset Preprocessing](#2-Dataset-Preprocessing)\n",
    "* [3 Model Architecture](#3-Model-Architecture)\n",
    "* [4 Model Implementation](#4-Model-Implementation)\n",
    "* [5 Model Evaluation](#5-Model-Evaluation)\n",
    "* [6 Conclusion](#6-Conclusion)"
   ]
  },
  {
   "cell_type": "code",
   "execution_count": 19,
   "id": "c712db14",
   "metadata": {
    "id": "c712db14"
   },
   "outputs": [],
   "source": [
    "import random\n",
    "import matplotlib.pyplot as plt\n",
    "import matplotlib\n",
    "import numpy as np\n",
    "import tensorflow as tf\n",
    "\n",
    "from tensorflow.keras import layers\n",
    "from tensorflow.keras import Sequential\n",
    "from tensorflow.keras.layers import Dense, Dropout\n",
    "from tensorflow.keras.datasets import mnist\n",
    "from tensorflow.keras.utils import to_categorical\n",
    "\n",
    "from matplotlib.ticker import (MultipleLocator, FormatStrFormatter)\n",
    "\n",
    "plt.rcParams['axes.titlesize'] = 16\n",
    "plt.rcParams['axes.labelsize'] = 14\n",
    "plt.rcParams['image.cmap'] = 'gray'"
   ]
  },
  {
   "cell_type": "code",
   "execution_count": 20,
   "id": "d0af3384",
   "metadata": {},
   "outputs": [],
   "source": [
    "from tensorflow.keras.datasets import fashion_mnist"
   ]
  },
  {
   "cell_type": "code",
   "execution_count": 21,
   "id": "e94247d8",
   "metadata": {
    "id": "e94247d8"
   },
   "outputs": [],
   "source": [
    "SEED_VALUE = 42\n",
    "\n",
    "# Fix seed to make training deterministic.\n",
    "random.seed(SEED_VALUE)\n",
    "np.random.seed(SEED_VALUE)\n",
    "tf.random.set_seed(SEED_VALUE)"
   ]
  },
  {
   "cell_type": "markdown",
   "id": "f7b8ac81",
   "metadata": {
    "id": "2d5d8122"
   },
   "source": [
    "## 1 Load and Split the MNIST Dataset\n",
    "\n",
    "The MNIST dataset contains 70,000 images partitioned into 60,000 for training and 10,000 for test. Reserving a portion of the data for validation can be accomplished by further partitioning the training data. As shown below, we carve out 10,000 samples from the training data to use for validation. "
   ]
  },
  {
   "cell_type": "code",
   "execution_count": 4,
   "id": "76cd566d",
   "metadata": {
    "colab": {
     "base_uri": "https://localhost:8080/"
    },
    "id": "76cd566d",
    "outputId": "ebccd430-af2d-445f-b41b-b47f0f869549",
    "scrolled": true
   },
   "outputs": [
    {
     "name": "stdout",
     "output_type": "stream",
     "text": [
      "(50000, 28, 28)\n",
      "(10000, 28, 28)\n",
      "(10000, 28, 28)\n"
     ]
    }
   ],
   "source": [
    "(X_train_all, y_train_all), (X_test, y_test) = mnist.load_data()\n",
    "\n",
    "X_valid = X_train_all[:10000]\n",
    "X_train = X_train_all[10000:]\n",
    "\n",
    "y_valid = y_train_all[:10000]\n",
    "y_train = y_train_all[10000:]\n",
    "\n",
    "print(X_train.shape)\n",
    "print(X_valid.shape)\n",
    "print(X_test.shape)"
   ]
  },
  {
   "cell_type": "code",
   "execution_count": 5,
   "id": "09751097",
   "metadata": {
    "colab": {
     "base_uri": "https://localhost:8080/",
     "height": 320
    },
    "id": "09751097",
    "outputId": "ba3c8be4-a210-4261-95ee-de06bcace67f",
    "scrolled": true
   },
   "outputs": [
    {
     "data": {
      "image/png": "[encoded data removed]",
      "text/plain": [
       "<Figure size 1296x360 with 3 Axes>"
      ]
     },
     "metadata": {
      "needs_background": "light"
     },
     "output_type": "display_data"
    }
   ],
   "source": [
    "plt.figure(figsize=(18, 5))\n",
    "for i in range(3):\n",
    "    plt.subplot(1, 3, i + 1)\n",
    "    plt.axis(True)\n",
    "    plt.imshow(X_train[i], cmap='gray')\n",
    "    plt.subplots_adjust(wspace=0.2, hspace=0.2)"
   ]
  },
  {
   "cell_type": "markdown",
   "id": "6bfe41ae",
   "metadata": {
    "id": "6bfe41ae"
   },
   "source": [
    "## 2 Dataset Preprocessing\n",
    "\n",
    "### 2.1 Input Feature Transformation and Normalization\n",
    "\n",
    "Since we are now working with images as the input, we need to find some logical way to represent the image data as a set of features. A naive approach that actually works fairly well for this dataset is to just assume that the pixel intensities **are** the features. And one way to transform the image data into a set of features that we can process is to flatten the 2D array into a 1D array. The `28x28` input image thus becomes a 1D array containing 784 features. Notice that we also normalize the pixel intensities to be in the range `[0, 1]`. This is very common when working with image data which helps the model train more efficiently. Also, just to be clear, using the pixel intensities as features is a naive approach that we are using intentionally here to keep things simple. As we will see in subsequent posts, we will learn about convolutional neural networks (CNNs), which use more advanced techniques for representing and processing image data in neural networks.\n"
   ]
  },
  {
   "cell_type": "code",
   "execution_count": 6,
   "id": "925cbd53",
   "metadata": {
    "id": "925cbd53"
   },
   "outputs": [],
   "source": [
    "X_train = X_train.reshape((X_train.shape[0], 28 * 28))\n",
    "X_train = X_train.astype(\"float32\") / 255\n",
    "\n",
    "X_test = X_test.reshape((X_test.shape[0], 28 * 28))\n",
    "X_test = X_test.astype(\"float32\") / 255\n",
    "\n",
    "X_valid = X_valid.reshape((X_valid.shape[0], 28 * 28))\n",
    "X_valid = X_valid.astype(\"float32\") / 255"
   ]
  },
  {
   "cell_type": "markdown",
   "id": "8978bc41",
   "metadata": {},
   "source": [
    "### 2.2 Label Encoding Options\n",
    "\n",
    "When working with categorical data, the target labels need to be represented as numerical values prior to processing the data through machine learning algorithms. Label encoding is the process of converting class labels from strings to numerical values. We have a couple of options for how to numerically encode the labels for each class. We can use ordinal **integer encoding**, where an integer is assigned to each class, or we can use a technique called **one-hot encoding**, which uses a separate binary vector to encode each class label. Depending on the dataset, one approach might be preferred over the other, but for most situations, one-hot encoding is often used. Since this is an introductory post, we will briefly demonstrate what each encoding looks like so you are familiar with both representations."
   ]
  },
  {
   "cell_type": "markdown",
   "id": "e53616e8",
   "metadata": {},
   "source": [
    "### 2.2.1 Integer Label Encoding\n",
    "\n",
    "Datasets that contain categorical labels may represent the labels internally as strings or as integers. However, prior to processing the dataset through a neural network, the labels must have a numerical representation. When the dataset contains integer labels for categorical data, a class label file is provided that defines the mapping from class names to their integer representations in the dataset so the integers can be mapped back to class names when needed. As a concrete example, consider the dictionary mapping shown below for the Fashion MNIST dataset.\n",
    "\n",
    "``\n",
    "Label\tDescription\n",
    "0\t    T-shirt/top\n",
    "1\t    Trouser\n",
    "2\t    Pullover\n",
    "3\t    Dress\n",
    "4\t    Coat\n",
    "5\t    Sandal\n",
    "6\t    Shirt\n",
    "7\t    Sneaker\n",
    "8\t    Bag\n",
    "9\t    Ankle boot``\n",
    "\n",
    "The Fashion MNIST dataset itself contains the integer label,s which we can verify this by loading the dataset and printing out some of the labels as shown in the output from the code cell below. This type of label encoding is called **Integer Encoding** because unique integers are used to encode the class (string) labels. However, when the class labels have no relationship to one another, it is often recommended that **One-Hot Encoding** is used instead, which is described in the next section. "
   ]
  },
  {
   "cell_type": "code",
   "execution_count": 7,
   "id": "d1869ee3",
   "metadata": {},
   "outputs": [
    {
     "name": "stdout",
     "output_type": "stream",
     "text": [
      "[9 0 0 3 0 2 7 2 5]\n"
     ]
    }
   ],
   "source": [
    "# Load the Fashion MNIST dataset.\n",
    "((X_train_fashion, y_train_fashion), (_, _)) = fashion_mnist.load_data()\n",
    "\n",
    "# The labels in the Fashion MNIST dataset are encoded as integers.\n",
    "print(y_train_fashion[0:9])"
   ]
  },
  {
   "cell_type": "markdown",
   "id": "983fd96e",
   "metadata": {},
   "source": [
    "### 2.2.2 One-Hot Label Encoding\n",
    "One-hot encoding is a technique that represents categorical labels as one-hot encoded vectors. So rather than representing the class labels as unique integers, we can represent each label as a binary vector using the `to_categorical()` function in Keras as a pre-processing step. In this case, each label is converted to a binary vector where the length of the vector is equal to the number of classes. All entries are set to zero except for the element that corresponds to the integer label. "
   ]
  },
  {
   "cell_type": "code",
   "execution_count": 8,
   "id": "30d8c3b7",
   "metadata": {
    "scrolled": true
   },
   "outputs": [
    {
     "name": "stdout",
     "output_type": "stream",
     "text": [
      "[[0. 0. 0. 0. 0. 0. 0. 0. 0. 1.]\n",
      " [1. 0. 0. 0. 0. 0. 0. 0. 0. 0.]\n",
      " [1. 0. 0. 0. 0. 0. 0. 0. 0. 0.]\n",
      " [0. 0. 0. 1. 0. 0. 0. 0. 0. 0.]\n",
      " [1. 0. 0. 0. 0. 0. 0. 0. 0. 0.]\n",
      " [0. 0. 1. 0. 0. 0. 0. 0. 0. 0.]\n",
      " [0. 0. 0. 0. 0. 0. 0. 1. 0. 0.]\n",
      " [0. 0. 1. 0. 0. 0. 0. 0. 0. 0.]\n",
      " [0. 0. 0. 0. 0. 1. 0. 0. 0. 0.]]\n"
     ]
    }
   ],
   "source": [
    "y_train_onehot = to_categorical(y_train_fashion[0:9])\n",
    "print(y_train_onehot)"
   ]
  },
  {
   "cell_type": "markdown",
   "id": "4be617d9",
   "metadata": {},
   "source": [
    "**Note**: Since the labels from the **MNIST digit** dataset have integer labels that correspond directly to the class labels (i.e., integer `4` corresponds to the class label `4`), there is technically no need for a class mapping file. And further, since the integer labels have a natural ordering, we can use the integer labels directly. But since one-hot encoding is most often used, we will proceed with encoding the labels this way, as shown below. "
   ]
  },
  {
   "cell_type": "code",
   "execution_count": 9,
   "id": "7768f432",
   "metadata": {},
   "outputs": [],
   "source": [
    "# Convert integer labels to one-hot encoded vectors.\n",
    "y_train = to_categorical(y_train)\n",
    "y_valid = to_categorical(y_valid)\n",
    "y_test  = to_categorical(y_test)"
   ]
  },
  {
   "cell_type": "markdown",
   "id": "7d4e2d28",
   "metadata": {
    "id": "7d4e2d28"
   },
   "source": [
    "## 3 Model Architecture \n",
    "\n",
    "### 3.1 Deep Neural Network Architecture\n",
    "\n",
    "The network architecture shown below has multiple layers. An input layer, two hidden layers, and an output layer. There are several things to note about this architecture.\n",
    "\n",
    "1. **Input Data**: The image input data is pre-processed (flattened) from a 2-Dimensional array `[28x28]` to 1-Dimensional vector of length `[784x1]` where the elements in this input vector are the normalized pixel intensities. The input to the network is sometimes referred to as the input \"layer\", but it's not technically a layer in the network because there are no trainable parameters associated with it.\n",
    "2. **Hidden Layers**: We have two hidden layers that contain some number of neurons (that we need to specify). Each of the neurons in these layers has a non-linear activation function (e.g., ReLU, Sigmoid, etc...).\n",
    "3. **Output Layer**: We now have ten neurons in the output layer to represent the ten different classes (digits: 0 to 9), instead of a single neuron as in the regression example.\n",
    "4. **Dense Layers**: All the layers in the network are fully connected, meaning that each neuron in a given layer is fully connected (or dense) to each of the neurons in the previous layer. The **weights** associated with each layer are represented in bold to indicate that these are matrices that contain each of the weights for all the connections between adjacent layers in the network.\n",
    "5. **Softmax Function**: The values from each of the neurons in the output layer are pased through a **softmax** function to produce a probability score for each of the ten digits in the dataset. \n",
    "\n",
    "6. **Network Output**: The network output ($y’$), is a vector of length ten, that contains the probabilities of each output neuron. Predicting the class label simply requires passing ($y'$) through the `argmax` function to determine the index of the predicted label.\n",
    "6. **Loss Function**: The loss function used is **Cross Entropy Loss**, which is generally the preferred loss function for classification problems. It is computed from the ground truth labels ($y$) and the output probabilities of the network ($y'$). Note that $y$ and $y'$ are both vectors whose length is equal to the number of classes.\n",
    "\n",
    "Although the diagram looks quite a bit different from the single-layer perceptron in the linear regression example, it is fundamentally very similar in terms of the processing that takes place during training and prediction. We still compute a loss based on the predicted output of the network and the ground truth label of the inputs. Backpropagation is used to compute the gradient of the loss with respect to the weights in the network. An optimizer (which implements gradient descent) is used to update the weights in the neural network.\n",
    "\n",
    "<img src='https://learnopencv.com/wp-content/uploads/2023/01/keras-mnist-mlp-network.png' align='center' width='1000'>"
   ]
  },
  {
   "cell_type": "markdown",
   "id": "6202e88e",
   "metadata": {
    "id": "6202e88e"
   },
   "source": [
    "## 4 Model Implementation\n",
    "\n",
    "Here we use Keras to define the model architecture, which has two dense layers (each with 128 neurons) and a single output layer with 10 neurons. Each neuron in the output layer corresponds to a class label from the dataset (0 through 9) where the output of each represents the probability that the input image corresponds to the class associated with that neuron. For example, if the output from the 5th neuron is .87, then that means the probability that the input image is a 4 is 87% (since the first class is 0, the 5th neuron represents the digit `4`). \n",
    "\n",
    "Notice that the first hidden layer has an input shape of [784,1] since the 28x28 image is flattened to a vector of length 784. The neurons in each of the hidden layers have activation functions called \"ReLU\" which stands for Rectified Linear Unit. The neurons in the output layer are then passed through a \"softmax\" function which transforms (normalizes) the raw output, which can be interpreted as a probability as described above.\n",
    "\n",
    "We will not cover the details of the softmax function or the cross entropy loss function in this post as these are more advanced topics and will be deferred to a post, but briefly, the softmax function normalizes the outputs from the network and converts them to probabilities. The cross-entropy loss function computes a loss between the predicted output probabilities and the ground truth labels. The further the predicted output probabilities are from the target labels the higher the loss. \n",
    "\n",
    "\n",
    "### 4.1 Define the Model"
   ]
  },
  {
   "cell_type": "code",
   "execution_count": 10,
   "id": "06ac2797",
   "metadata": {
    "colab": {
     "base_uri": "https://localhost:8080/"
    },
    "id": "06ac2797",
    "outputId": "e97eee1a-b4f9-4550-e32a-2a5a1610adfc"
   },
   "outputs": [
    {
     "name": "stdout",
     "output_type": "stream",
     "text": [
      "Model: \"sequential\"\n",
      "_________________________________________________________________\n",
      " Layer (type)                Output Shape              Param #   \n",
      "=================================================================\n",
      " dense (Dense)               (None, 128)               100480    \n",
      "                                                                 \n",
      " dense_1 (Dense)             (None, 128)               16512     \n",
      "                                                                 \n",
      " dense_2 (Dense)             (None, 10)                1290      \n",
      "                                                                 \n",
      "=================================================================\n",
      "Total params: 118,282\n",
      "Trainable params: 118,282\n",
      "Non-trainable params: 0\n",
      "_________________________________________________________________\n"
     ]
    },
    {
     "name": "stderr",
     "output_type": "stream",
     "text": [
      "2022-12-20 12:46:37.754120: I tensorflow/core/platform/cpu_feature_guard.cc:151] This TensorFlow binary is optimized with oneAPI Deep Neural Network Library (oneDNN) to use the following CPU instructions in performance-critical operations:  AVX2 FMA\n",
      "To enable them in other operations, rebuild TensorFlow with the appropriate compiler flags.\n"
     ]
    }
   ],
   "source": [
    "# Instantiate the model.\n",
    "model = tf.keras.Sequential()\n",
    "\n",
    "# Build the model.\n",
    "model.add(Dense(128, activation='relu', input_shape=(X_train.shape[1],)))\n",
    "model.add(Dense(128, activation='relu'))\n",
    "model.add(Dense(10,  activation=\"softmax\"))\n",
    "\n",
    "# Display the model summary.\n",
    "model.summary()"
   ]
  },
  {
   "cell_type": "markdown",
   "id": "b0348e25",
   "metadata": {
    "id": "b0348e25"
   },
   "source": [
    "### 4.2 Compile the Model\n",
    "\n",
    "This step defines the optimizer and the loss function that will be used in the training loop. This is also where we can specify any additional metrics to track.\n",
    "\n",
    "**Optimizer**: Here, we will use the RMSProp optimizer in Keras.\n",
    "\n",
    "**Loss Function**: As mentioned above, the preferred loss function for classification problems is **Cross Entropy**. But depending on how the labels are encoded we’ll need to specify the proper form of the cross entropy loss function. If the labels are one-hot encoded, then you should specify the loss function as `categorical_crossentropy`, and if the labels are integer encoded, then you should use `sparse_categorical_crossentropy`. When performing binary classification, you should use `binary_crossentropy` as the loss function. Since we are using one-hot encoding in this example, we will specify the loss function as `categorical_crossentropy`. \n",
    "\n",
    "**Metrics**: Finally, we also specify `accuracy` as an additional metric to record during training so that we can plot it after training is completed. The training loss and validation loss are automatically recorded, so there is no need to specify those."
   ]
  },
  {
   "cell_type": "code",
   "execution_count": 11,
   "id": "cd922b3b",
   "metadata": {
    "id": "cd922b3b"
   },
   "outputs": [],
   "source": [
    "model.compile(optimizer=\"rmsprop\",\n",
    "              loss=\"categorical_crossentropy\",\n",
    "              metrics=[\"accuracy\"])"
   ]
  },
  {
   "cell_type": "markdown",
   "id": "6ed49f59",
   "metadata": {
    "id": "6ed49f59"
   },
   "source": [
    "### 4.3 Train the Model\n",
    "To train the model we call the `fit()` method in Keras. Notice that since we split the original training data into train and validation components, we need to explicitly specify the validation dataset using `validation_data=(X_valid, y_valid))`. Recall from an ealier post in this series on linear regression, that we also have the option to use the `validation_split` argument to automatically withhold a random portion of the training data for use as the validation data. So here, we're demonstrating how to explicitly use a separate validation dataset. "
   ]
  },
  {
   "cell_type": "code",
   "execution_count": 12,
   "id": "aacbcb95",
   "metadata": {
    "colab": {
     "base_uri": "https://localhost:8080/"
    },
    "id": "aacbcb95",
    "outputId": "ba9066f4-e910-45b6-a563-0ca5900ca03b",
    "scrolled": true
   },
   "outputs": [
    {
     "name": "stdout",
     "output_type": "stream",
     "text": [
      "Epoch 1/21\n",
      "782/782 [==============================] - 2s 2ms/step - loss: 0.2780 - accuracy: 0.9184 - val_loss: 0.1816 - val_accuracy: 0.9410\n",
      "Epoch 2/21\n",
      "782/782 [==============================] - 1s 2ms/step - loss: 0.1174 - accuracy: 0.9654 - val_loss: 0.1199 - val_accuracy: 0.9645\n",
      "Epoch 3/21\n",
      "782/782 [==============================] - 1s 2ms/step - loss: 0.0838 - accuracy: 0.9745 - val_loss: 0.1213 - val_accuracy: 0.9622\n",
      "Epoch 4/21\n",
      "782/782 [==============================] - 1s 2ms/step - loss: 0.0641 - accuracy: 0.9801 - val_loss: 0.0888 - val_accuracy: 0.9746\n",
      "Epoch 5/21\n",
      "782/782 [==============================] - 1s 2ms/step - loss: 0.0508 - accuracy: 0.9835 - val_loss: 0.0941 - val_accuracy: 0.9753\n",
      "Epoch 6/21\n",
      "782/782 [==============================] - 2s 2ms/step - loss: 0.0420 - accuracy: 0.9873 - val_loss: 0.0869 - val_accuracy: 0.9776\n",
      "Epoch 7/21\n",
      "782/782 [==============================] - 2s 2ms/step - loss: 0.0335 - accuracy: 0.9897 - val_loss: 0.0997 - val_accuracy: 0.9761\n",
      "Epoch 8/21\n",
      "782/782 [==============================] - 2s 2ms/step - loss: 0.0267 - accuracy: 0.9917 - val_loss: 0.1061 - val_accuracy: 0.9747\n",
      "Epoch 9/21\n",
      "782/782 [==============================] - 2s 3ms/step - loss: 0.0231 - accuracy: 0.9932 - val_loss: 0.1292 - val_accuracy: 0.9725\n",
      "Epoch 10/21\n",
      "782/782 [==============================] - 2s 3ms/step - loss: 0.0184 - accuracy: 0.9942 - val_loss: 0.1066 - val_accuracy: 0.9754\n",
      "Epoch 11/21\n",
      "782/782 [==============================] - 2s 3ms/step - loss: 0.0162 - accuracy: 0.9949 - val_loss: 0.0973 - val_accuracy: 0.9773\n",
      "Epoch 12/21\n",
      "782/782 [==============================] - 2s 3ms/step - loss: 0.0136 - accuracy: 0.9956 - val_loss: 0.1267 - val_accuracy: 0.9761\n",
      "Epoch 13/21\n",
      "782/782 [==============================] - 3s 3ms/step - loss: 0.0112 - accuracy: 0.9966 - val_loss: 0.1495 - val_accuracy: 0.9739\n",
      "Epoch 14/21\n",
      "782/782 [==============================] - 3s 4ms/step - loss: 0.0104 - accuracy: 0.9966 - val_loss: 0.1469 - val_accuracy: 0.9754\n",
      "Epoch 15/21\n",
      "782/782 [==============================] - 3s 3ms/step - loss: 0.0090 - accuracy: 0.9972 - val_loss: 0.1411 - val_accuracy: 0.9756\n",
      "Epoch 16/21\n",
      "782/782 [==============================] - 3s 3ms/step - loss: 0.0075 - accuracy: 0.9976 - val_loss: 0.1344 - val_accuracy: 0.9771\n",
      "Epoch 17/21\n",
      "782/782 [==============================] - 3s 4ms/step - loss: 0.0071 - accuracy: 0.9979 - val_loss: 0.1521 - val_accuracy: 0.9762\n",
      "Epoch 18/21\n",
      "782/782 [==============================] - 3s 4ms/step - loss: 0.0063 - accuracy: 0.9980 - val_loss: 0.1770 - val_accuracy: 0.9750\n",
      "Epoch 19/21\n",
      "782/782 [==============================] - 3s 4ms/step - loss: 0.0065 - accuracy: 0.9980 - val_loss: 0.1498 - val_accuracy: 0.9758\n",
      "Epoch 20/21\n",
      "782/782 [==============================] - 3s 4ms/step - loss: 0.0050 - accuracy: 0.9984 - val_loss: 0.1696 - val_accuracy: 0.9772\n",
      "Epoch 21/21\n",
      "782/782 [==============================] - 4s 5ms/step - loss: 0.0047 - accuracy: 0.9985 - val_loss: 0.1747 - val_accuracy: 0.9776\n"
     ]
    }
   ],
   "source": [
    "training_results = model.fit(X_train, \n",
    "                             y_train, \n",
    "                             epochs=21, \n",
    "                             batch_size=64, \n",
    "                             validation_data=(X_valid, y_valid));"
   ]
  },
  {
   "cell_type": "markdown",
   "id": "0129e99b",
   "metadata": {
    "id": "0129e99b"
   },
   "source": [
    "## 4.4 Plot the Training Results\n",
    "\n",
    "The function below is a convenience function to plot training and validation losses and training and validation accuracies. It has a single required argument which is a list of metrics to plot. "
   ]
  },
  {
   "cell_type": "code",
   "execution_count": 13,
   "id": "25642c9f",
   "metadata": {
    "id": "25642c9f"
   },
   "outputs": [],
   "source": [
    "def plot_results(metrics, title=None, ylabel=None, ylim=None, metric_name=None, color=None):\n",
    "    \n",
    "    fig, ax = plt.subplots(figsize=(15, 4))\n",
    "\n",
    "    if not (isinstance(metric_name, list) or isinstance(metric_name, tuple)):\n",
    "        metrics = [metrics,]\n",
    "        metric_name = [metric_name,]\n",
    "        \n",
    "    for idx, metric in enumerate(metrics):    \n",
    "        ax.plot(metric, color=color[idx])\n",
    "    \n",
    "    plt.xlabel(\"Epoch\")\n",
    "    plt.ylabel(ylabel)\n",
    "    plt.title(title)\n",
    "    plt.xlim([0, 20])\n",
    "    plt.ylim(ylim)\n",
    "    # Tailor x-axis tick marks\n",
    "    ax.xaxis.set_major_locator(MultipleLocator(5))\n",
    "    ax.xaxis.set_major_formatter(FormatStrFormatter('%d'))\n",
    "    ax.xaxis.set_minor_locator(MultipleLocator(1))\n",
    "    plt.grid(True)\n",
    "    plt.legend(metric_name)   \n",
    "    plt.show()\n",
    "    plt.close()"
   ]
  },
  {
   "cell_type": "markdown",
   "id": "82297be1",
   "metadata": {},
   "source": [
    "The loss and accuracy metrics can be accessed from the `history` object returned from the fit method. We access the metrics using predefined dictionary keys as shown below.  "
   ]
  },
  {
   "cell_type": "code",
   "execution_count": 14,
   "id": "9b2637f5",
   "metadata": {
    "colab": {
     "base_uri": "https://localhost:8080/",
     "height": 557
    },
    "id": "9b2637f5",
    "outputId": "514d1994-2a52-4203-e4f0-a000e07fac48"
   },
   "outputs": [
    {
     "data": {
      "image/png": "[encoded data removed]",
      "text/plain": [
       "<Figure size 1080x288 with 1 Axes>"
      ]
     },
     "metadata": {
      "needs_background": "light"
     },
     "output_type": "display_data"
    },
    {
     "data": {
      "image/png": "[encoded data removed]",
      "text/plain": [
       "<Figure size 1080x288 with 1 Axes>"
      ]
     },
     "metadata": {
      "needs_background": "light"
     },
     "output_type": "display_data"
    }
   ],
   "source": [
    "# Retrieve training results.\n",
    "train_loss = training_results.history[\"loss\"]\n",
    "train_acc  = training_results.history[\"accuracy\"]\n",
    "valid_loss = training_results.history[\"val_loss\"]\n",
    "valid_acc  = training_results.history[\"val_accuracy\"]\n",
    "\n",
    "plot_results([ train_loss, valid_loss ],        \n",
    "            ylabel=\"Loss\", \n",
    "            ylim = [0.0, 0.5],\n",
    "            metric_name=[\"Training Loss\", \"Validation Loss\"],\n",
    "            color=[\"g\", \"b\"]);\n",
    "\n",
    "plot_results([ train_acc, valid_acc ], \n",
    "            ylabel=\"Accuracy\",\n",
    "            ylim = [0.9, 1.0],\n",
    "            metric_name=[\"Training Accuracy\", \"Validation Accuracy\"],\n",
    "            color=[\"g\", \"b\"])"
   ]
  },
  {
   "cell_type": "markdown",
   "id": "2f27ef96",
   "metadata": {
    "id": "2f27ef96"
   },
   "source": [
    "## 5 Model Evaluation\n",
    "\n",
    "### 5.1 Make Predictions on Sample Test Images\n",
    "We can now predict the results for all the test images, as shown in the code below. Here, we call the `predict()` method to retrieve all the predictions, and then we select a specific index from the test set and print out the predicted scores for each class. You can experiment with the code below by setting the test index to various values and see how the highest score is usually associated with the correct value indicated by the ground truth."
   ]
  },
  {
   "cell_type": "code",
   "execution_count": 15,
   "id": "9f477add",
   "metadata": {
    "colab": {
     "base_uri": "https://localhost:8080/"
    },
    "id": "9f477add",
    "outputId": "2c0e2a70-dcf6-42eb-f580-297fc36a93b7"
   },
   "outputs": [
    {
     "name": "stdout",
     "output_type": "stream",
     "text": [
      "Ground truth for test digit:  [0. 0. 0. 0. 0. 0. 0. 1. 0. 0.]\n",
      "\n",
      "\n",
      "Predictions for each class:\n",
      "\n",
      "digit: 0  probability:  3.9249666e-25\n",
      "digit: 1  probability:  1.5630953e-20\n",
      "digit: 2  probability:  1.9468813e-16\n",
      "digit: 3  probability:  1.7925114e-16\n",
      "digit: 4  probability:  2.5092093e-30\n",
      "digit: 5  probability:  3.045341e-23\n",
      "digit: 6  probability:  0.0\n",
      "digit: 7  probability:  1.0\n",
      "digit: 8  probability:  1.8266262e-22\n",
      "digit: 9  probability:  8.35862e-14\n"
     ]
    }
   ],
   "source": [
    "predictions = model.predict(X_test)\n",
    "index = 0 # up to 9999\n",
    "print('Ground truth for test digit: ',y_test[index])\n",
    "print('\\n');\n",
    "print('Predictions for each class:\\n')\n",
    "for i in range(10):\n",
    "    print('digit:', i, ' probability: ', predictions[index][i])"
   ]
  },
  {
   "cell_type": "markdown",
   "id": "dcc4e3e8",
   "metadata": {
    "id": "dcc4e3e8"
   },
   "source": [
    "### 5.2 Confusion Matrix\n",
    "\n",
    "A confusion matrix is a very common metric that is used to summarize the results of a classification problem. The information is presented in the form of a table or matrix where one axis represents the ground truth labels for each class, and the other axis represents the predicted lables from the network. The entries in the table represent the number of instances from an experiment (which are sometimes represented as percentages rather than counts). Generating a confusion matrix in TensorFlow is accomplished by calling the function `tf.math.confusion_matrix()`, which takes two required arguments which are the list of ground truth labels and the associated predicted lables."
   ]
  },
  {
   "cell_type": "code",
   "execution_count": 16,
   "id": "145de872",
   "metadata": {
    "colab": {
     "base_uri": "https://localhost:8080/"
    },
    "id": "145de872",
    "outputId": "c435dc10-32d1-4652-c26b-3ea41822cab3"
   },
   "outputs": [],
   "source": [
    "# Generate predictions for the test dataset.\n",
    "predictions = model.predict(X_test)\n",
    "\n",
    "# For each sample image in the test dataset, select the class label with the highest probability.\n",
    "predicted_labels = [np.argmax(i) for i in predictions]"
   ]
  },
  {
   "cell_type": "code",
   "execution_count": 18,
   "id": "74c5b9a3",
   "metadata": {
    "colab": {
     "base_uri": "https://localhost:8080/",
     "height": 501
    },
    "id": "74c5b9a3",
    "outputId": "fe6e87b9-4ac5-4892-fadb-767ad6ceaaa5",
    "scrolled": false
   },
   "outputs": [
    {
     "data": {
      "image/png": "[encoded data removed]",
      "text/plain": [
       "<Figure size 1080x576 with 2 Axes>"
      ]
     },
     "metadata": {
      "needs_background": "light"
     },
     "output_type": "display_data"
    }
   ],
   "source": [
    "# Convert one-hot encoded labels to integers.\n",
    "y_test_integer_labels = tf.argmax(y_test, axis=1)\n",
    "\n",
    "# Generate a confusion matrix for the test dataset.\n",
    "cm = tf.math.confusion_matrix(labels=y_test_integer_labels, predictions=predicted_labels)\n",
    "\n",
    "# Plot the confusion matrix as a heatmap.\n",
    "plt.figure(figsize=[15, 8])\n",
    "import seaborn as sn\n",
    "sn.heatmap(cm, annot=True, fmt='d', annot_kws={\"size\": 14})\n",
    "plt.xlabel('Predicted')\n",
    "plt.ylabel('Truth')\n",
    "plt.show()"
   ]
  },
  {
   "cell_type": "markdown",
   "id": "f5fb8a09",
   "metadata": {
    "id": "f5fb8a09"
   },
   "source": [
    "### 6. Conclusions\n",
    "\n",
    "In this notebook, we introduced a simple approach for how to model image data for use in a densely connected network to perform multinomial classification. In the next notebook, we will learn about Convolutional Neural Networks (CNNs) that are specifically designed to process image data. The following link contains a really nice interactive web-based animation of several well-known CNN architectures, which is a great place to start getting familiar with them.\n",
    "\n",
    "https://tensorspace.org/html/playground/lenet.html"
   ]
  },
  {
   "cell_type": "code",
   "execution_count": null,
   "id": "3a31cf08",
   "metadata": {},
   "outputs": [],
   "source": []
  }
 ],
 "metadata": {
  "colab": {
   "collapsed_sections": [],
   "provenance": []
  },
  "kernelspec": {
   "display_name": "py38-tf-metal",
   "language": "python",
   "name": "py38-tf-metal"
  },
  "language_info": {
   "codemirror_mode": {
    "name": "ipython",
    "version": 3
   },
   "file_extension": ".py",
   "mimetype": "text/x-python",
   "name": "python",
   "nbconvert_exporter": "python",
   "pygments_lexer": "ipython3",
   "version": "3.8.15"
  }
 },
 "nbformat": 4,
 "nbformat_minor": 5
}
