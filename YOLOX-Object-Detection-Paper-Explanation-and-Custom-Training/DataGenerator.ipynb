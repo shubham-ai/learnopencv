{
 "cells": [
  {
   "cell_type": "code",
   "execution_count": null,
   "id": "a359f7a8",
   "metadata": {},
   "outputs": [],
   "source": [
    "import os\n",
    "import random\n",
    "import shutil\n",
    "import glob"
   ]
  },
  {
   "cell_type": "markdown",
   "id": "9752b4d3",
   "metadata": {},
   "source": [
    "## Define Image and Annotation Directory Paths"
   ]
  },
  {
   "cell_type": "code",
   "execution_count": null,
   "id": "982b2ca4",
   "metadata": {},
   "outputs": [],
   "source": [
    "images_list = os.listdir('./Images_directory/')\n",
    "print('Total number of images : ', len(images_list))"
   ]
  },
  {
   "cell_type": "code",
   "execution_count": null,
   "id": "fbe6cbf7",
   "metadata": {},
   "outputs": [],
   "source": [
    "# Path to XML annotation directory\n",
    "annotations = './XML_Annotations_directory'"
   ]
  },
  {
   "cell_type": "markdown",
   "id": "4887cb22",
   "metadata": {},
   "source": [
    "## Split Train and Test"
   ]
  },
  {
   "cell_type": "code",
   "execution_count": null,
   "id": "bcaec614",
   "metadata": {},
   "outputs": [],
   "source": [
    "# Split\n",
    "train_percentage = 80\n",
    "test_percentage = 100 - train_percentage\n",
    "\n",
    "n_train_images = int(0.8*len(images_list))\n",
    "n_test_images = len(images_list) - n_train_images"
   ]
  },
  {
   "cell_type": "code",
   "execution_count": null,
   "id": "3cb07621",
   "metadata": {},
   "outputs": [],
   "source": [
    "train_images_list = random.sample(images_list, n_train_images)"
   ]
  },
  {
   "cell_type": "code",
   "execution_count": null,
   "id": "63ce4638",
   "metadata": {},
   "outputs": [],
   "source": [
    "test_images_list = []\n",
    "for x in images_list:\n",
    "    if x not in train_images_list:\n",
    "        test_images_list.append(x)"
   ]
  },
  {
   "cell_type": "code",
   "execution_count": null,
   "id": "13a09eb0",
   "metadata": {},
   "outputs": [],
   "source": [
    "print('Train: ', len(train_images_list))\n",
    "print('Test : ', len(test_images_list))"
   ]
  },
  {
   "cell_type": "markdown",
   "id": "4d698bac",
   "metadata": {},
   "source": [
    "## YOLOX PASCAL VOC Formatting"
   ]
  },
  {
   "cell_type": "code",
   "execution_count": null,
   "id": "f3fc6eb6",
   "metadata": {},
   "outputs": [],
   "source": [
    "%mkdir VOCdevkit\n",
    "%cd VOCdevkit\n",
    "%mkdir VOC2012\n",
    "%cd VOC2012\n",
    "%mkdir ImageSets\n",
    "%mkdir JPEGImages\n",
    "%mkdir Annotations\n",
    "%cd ImageSets\n",
    "%mkdir Main\n",
    "%cd Main"
   ]
  },
  {
   "cell_type": "code",
   "execution_count": null,
   "id": "f8a60834",
   "metadata": {},
   "outputs": [],
   "source": [
    "with open('train.txt', 'w') as f:\n",
    "    for file in train_images_list:\n",
    "        new_line = file.replace('.jpg', '')\n",
    "        f.writelines(new_line + '\\n')"
   ]
  },
  {
   "cell_type": "code",
   "execution_count": null,
   "id": "735c7c27",
   "metadata": {},
   "outputs": [],
   "source": [
    "with open('test.txt', 'w') as f:\n",
    "    for file in test_images_list:\n",
    "        new_line = file.replace('.jpg', '')\n",
    "        f.writelines(new_line + '\\n')"
   ]
  },
  {
   "cell_type": "code",
   "execution_count": null,
   "id": "053047f0",
   "metadata": {},
   "outputs": [],
   "source": [
    "%cd ../../../../"
   ]
  },
  {
   "cell_type": "markdown",
   "id": "39d99aff",
   "metadata": {},
   "source": [
    "## Copy the files"
   ]
  },
  {
   "cell_type": "code",
   "execution_count": null,
   "id": "ad9aeb84",
   "metadata": {},
   "outputs": [],
   "source": [
    "for filename in glob.glob(os.path.join('temp', '*.*')):\n",
    "    shutil.copy(filename, 'VOCdevkit/VOC2012/JPEGImages/')"
   ]
  },
  {
   "cell_type": "code",
   "execution_count": null,
   "id": "06a7d964",
   "metadata": {},
   "outputs": [],
   "source": [
    "for filename in glob.glob(os.path.join('Annotations', '*.*')):\n",
    "    shutil.copy(filename, 'VOCdevkit/VOC2012/Annotations/')"
   ]
  }
 ],
 "metadata": {
  "kernelspec": {
   "display_name": "Python 3 (ipykernel)",
   "language": "python",
   "name": "python3"
  },
  "language_info": {
   "codemirror_mode": {
    "name": "ipython",
    "version": 3
   },
   "file_extension": ".py",
   "mimetype": "text/x-python",
   "name": "python",
   "nbconvert_exporter": "python",
   "pygments_lexer": "ipython3",
   "version": "3.9.12"
  }
 },
 "nbformat": 4,
 "nbformat_minor": 5
}
