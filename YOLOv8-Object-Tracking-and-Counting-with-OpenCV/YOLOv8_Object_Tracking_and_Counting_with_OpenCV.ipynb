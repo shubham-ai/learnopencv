{
  "nbformat": 4,
  "nbformat_minor": 0,
  "metadata": {
    "colab": {
      "provenance": []
    },
    "kernelspec": {
      "name": "python3",
      "display_name": "Python 3"
    },
    "language_info": {
      "name": "python"
    }
  },
  "cells": [
    {
      "cell_type": "markdown",
      "source": [
        "# Object Tracking"
      ],
      "metadata": {
        "id": "jzIZaPRfPSCw"
      }
    },
    {
      "cell_type": "markdown",
      "source": [
        "## Environment Set-UP"
      ],
      "metadata": {
        "id": "IMEpxDu2fZWy"
      }
    },
    {
      "cell_type": "code",
      "source": [
        "!conda create -n ankan python=3.9.0\n",
        "!conda activate ankan\n",
        "!conda install pytorch torchvision torchaudio pytorch-cuda=11.8 -c pytorch -c nvidia\n",
        "!pip install ultralytics\n",
        "!pip install opencv-python\n",
        "!pip install jupyterlab"
      ],
      "metadata": {
        "id": "EoDiNyVEPT-n"
      },
      "execution_count": null,
      "outputs": []
    },
    {
      "cell_type": "markdown",
      "source": [
        "**you have to go to pytorch [website](https://pytorch.org/get-started/locally/) to install your preferable cuda version.**"
      ],
      "metadata": {
        "id": "eiei34NwfeYl"
      }
    },
    {
      "cell_type": "markdown",
      "source": [
        "### Library Imports"
      ],
      "metadata": {
        "id": "Eyw7Pbapfh--"
      }
    },
    {
      "cell_type": "code",
      "source": [
        "import cv2\n",
        "from ultralytics import YOLO\n",
        "import torch\n",
        "import numpy as np"
      ],
      "metadata": {
        "id": "XLReHY80fg7l"
      },
      "execution_count": null,
      "outputs": []
    },
    {
      "cell_type": "markdown",
      "source": [
        "## Tracking with Official YOLOv8 Model"
      ],
      "metadata": {
        "id": "mQvN8pfOgS5P"
      }
    },
    {
      "cell_type": "code",
      "source": [
        "# Load an official or custom model\n",
        "model = YOLO('yolov8x.pt')  # Load an official Detect model\n",
        "\n",
        "# Perform tracking with the model\n",
        "results = model.track(source=\"path/to/your/video.mp4\", show=False, save=True, name='output_dir_name', persist=True, classes=1)  # Tracking with default tracker\n",
        "# results = model.track(source=\"https://youtu.be/LNwODJXcvt4\", show=True, tracker=\"bytetrack.yaml\")  # Tracking with ByteTrack tracker"
      ],
      "metadata": {
        "id": "mD5S4QQPgWB3"
      },
      "execution_count": null,
      "outputs": []
    },
    {
      "cell_type": "markdown",
      "source": [
        "# Object Counting"
      ],
      "metadata": {
        "id": "R43SY-vsi7Fo"
      }
    },
    {
      "cell_type": "markdown",
      "source": [
        "## Whole Frame based Counting"
      ],
      "metadata": {
        "id": "l4HvKLSui-Qv"
      }
    },
    {
      "cell_type": "markdown",
      "source": [
        "## Set up the Environment"
      ],
      "metadata": {
        "id": "2f5PGW2hjvFm"
      }
    },
    {
      "cell_type": "code",
      "source": [
        "# Clone Ultralytics repo\n",
        "git clone https://github.com/ultralytics/ultralytics\n",
        "\n",
        "# Navigate to the local directory\n",
        "cd ultralytics/examples/YOLOv8-Region-Counter"
      ],
      "metadata": {
        "id": "c9Tza7E9j8EE"
      },
      "execution_count": null,
      "outputs": []
    },
    {
      "cell_type": "markdown",
      "source": [
        "### Now You have to go to the `ultralytics/examples/YOLOv8-Region-Counter/yolov8_region_counter.py` and replace the updated `yolov8_region_counter.py` file provided."
      ],
      "metadata": {
        "id": "f2dOsNnxkPR4"
      }
    },
    {
      "cell_type": "markdown",
      "source": [
        "## Run Inference"
      ],
      "metadata": {
        "id": "-lFSXaBfm45d"
      }
    },
    {
      "cell_type": "code",
      "source": [
        "# Run Inference on Official/Custom Models\n",
        "!python ultralytics/examples/YOLOv8-Region-Counter/yolov8_region_counter.py --source \"path/to/your/video.mp4\" --weights \"path/to/yout/model.pt\" --view-img --save-img --classes 2"
      ],
      "metadata": {
        "id": "Fexp-L-IjSg2"
      },
      "execution_count": null,
      "outputs": []
    }
  ]
}