{
 "cells": [
  {
   "cell_type": "markdown",
   "id": "52b2517e-e69c-41ad-95b3-49a5a5e84ce5",
   "metadata": {},
   "source": [
    "# Depth Anything - Inference Pipeline"
   ]
  },
  {
   "cell_type": "markdown",
   "id": "9d57ec4e-c88e-479b-af18-e9eb7a7b6e5b",
   "metadata": {},
   "source": [
    "#### Code Written by Pranav Durai"
   ]
  },
  {
   "cell_type": "markdown",
   "id": "740b0e5c-1620-40b5-9895-b5142666294e",
   "metadata": {},
   "source": [
    "In this notebook, the local installation and inference pipeline for the Depth Anything model has been shown."
   ]
  },
  {
   "cell_type": "markdown",
   "id": "9cf910d1-3695-4030-8677-af9afd6c89e9",
   "metadata": {},
   "source": [
    "### Clone the Depth Anything GitHub Repository"
   ]
  },
  {
   "cell_type": "code",
   "execution_count": null,
   "id": "10b4542d-3d75-4054-8c82-e382ef163d92",
   "metadata": {},
   "outputs": [],
   "source": [
    "!git clone https://github.com/LiheYoung/Depth-Anything"
   ]
  },
  {
   "cell_type": "code",
   "execution_count": null,
   "id": "1d317035-a707-4159-be6b-e73947917990",
   "metadata": {},
   "outputs": [],
   "source": [
    "%cd \"Depth-Anything\"\n",
    "!pwd"
   ]
  },
  {
   "cell_type": "markdown",
   "id": "b2a6260f-cba4-4ddb-a8b1-333339bb3d27",
   "metadata": {},
   "source": [
    "### Inference Pipeline"
   ]
  },
  {
   "cell_type": "markdown",
   "id": "0ff38c73-2963-4581-a6b9-a1dc40db7620",
   "metadata": {},
   "source": [
    "**Arguments:**\n",
    "\n",
    "`--img-path`: you can either \n",
    "1) point it to an image directory storing all interested images\n",
    "2) point it to a single image, or\n",
    "3) point it to a text file storing all image paths."
   ]
  },
  {
   "cell_type": "markdown",
   "id": "144488a6-11d3-4599-8ba5-6de72b62705e",
   "metadata": {},
   "source": [
    "`--pred-only` is set to save the predicted depth map only. Without it, by default, we visualize both image and its depth map side by side."
   ]
  },
  {
   "cell_type": "markdown",
   "id": "dd381e19-5fc8-44cf-bfd7-0888f7ed4936",
   "metadata": {},
   "source": [
    "`--grayscale` is set to save the grayscale depth map. Without it, by default, we apply a color palette to the depth map."
   ]
  },
  {
   "cell_type": "markdown",
   "id": "b92aa9ab-05a7-4f99-87b3-d8f263451bd4",
   "metadata": {},
   "source": [
    "#### Image Inference - Usage"
   ]
  },
  {
   "cell_type": "code",
   "execution_count": null,
   "id": "5b66948a-b52d-4e02-8483-9824f9701a4e",
   "metadata": {},
   "outputs": [],
   "source": [
    "!python run.py --encoder <vits | vitb | vitl> --img-path <img-directory | single-img | txt-file> --outdir <outdir> [--pred-only] [--grayscale]"
   ]
  },
  {
   "cell_type": "markdown",
   "id": "a35b4263-e67c-481a-877f-d20e42c8aa33",
   "metadata": {},
   "source": [
    "#### Image Inference - Example"
   ]
  },
  {
   "cell_type": "code",
   "execution_count": null,
   "id": "aff12b05-b5ad-4996-ae95-a17070e0b6f7",
   "metadata": {},
   "outputs": [],
   "source": [
    "!python run.py --encoder vitl --img-path assets/examples --outdir depth_vis"
   ]
  },
  {
   "cell_type": "markdown",
   "id": "c3def970-66e7-4e06-980c-e4c213bc457c",
   "metadata": {},
   "source": [
    "#### Video Inference"
   ]
  },
  {
   "cell_type": "code",
   "execution_count": null,
   "id": "77f700b2-0f27-41c8-a503-b14a85c3fca6",
   "metadata": {},
   "outputs": [],
   "source": [
    "!python run_video.py --encoder vitl --video-path assets/examples_video --outdir video_depth_vis"
   ]
  }
 ],
 "metadata": {
  "kernelspec": {
   "display_name": "Python 3 (ipykernel)",
   "language": "python",
   "name": "python3"
  },
  "language_info": {
   "codemirror_mode": {
    "name": "ipython",
    "version": 3
   },
   "file_extension": ".py",
   "mimetype": "text/x-python",
   "name": "python",
   "nbconvert_exporter": "python",
   "pygments_lexer": "ipython3",
   "version": "3.9.18"
  }
 },
 "nbformat": 4,
 "nbformat_minor": 5
}
