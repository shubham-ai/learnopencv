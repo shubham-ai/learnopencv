{
 "cells": [
  {
   "cell_type": "markdown",
   "metadata": {},
   "source": [
    "# Focal Loss Pytorch Code:"
   ]
  },
  {
   "cell_type": "code",
   "execution_count": 19,
   "metadata": {},
   "outputs": [],
   "source": [
    "import torch\n",
    "import torch.nn as nn\n",
    "import torch.nn.functional as F\n"
   ]
  },
  {
   "cell_type": "code",
   "execution_count": null,
   "metadata": {},
   "outputs": [],
   "source": [
    "\n",
    "class FocalLoss(nn.Module):\n",
    "    def __init__(self, alpha=None, gamma=2):\n",
    "      super(FocalLoss, self).__init__()\n",
    "      self.alpha = alpha\n",
    "      self.gamma = gamma\n",
    "\n",
    "    def forward(self, inputs, targets):\n",
    "      p = torch.sigmoid(inputs)\n",
    "      bce_loss = F.binary_cross_entropy_with_logits(inputs, targets, reduction='none')\n",
    "      pt = p * targets + (1 - p) * (1 - targets)\n",
    "      loss = (1 - pt) ** self.gamma * bce_loss\n",
    "      if self.alpha>=0:\n",
    "        alpha_t = self.alpha * targets + (1 - self.alpha) * (1 - targets)\n",
    "        loss = alpha_t * loss\n",
    "        loss = loss.mean()\n",
    "      return loss\n"
   ]
  },
  {
   "cell_type": "code",
   "execution_count": 13,
   "metadata": {},
   "outputs": [],
   "source": [
    "inputs = torch.randn(10)\n",
    "targets = torch.randint(1, 5, (10,)).to(torch.float32)"
   ]
  },
  {
   "cell_type": "code",
   "execution_count": 21,
   "metadata": {},
   "outputs": [
    {
     "name": "stdout",
     "output_type": "stream",
     "text": [
      "tensor(16.7573)\n"
     ]
    }
   ],
   "source": [
    "loss = FocalLoss(alpha = 0.30)\n",
    "print(loss(inputs, targets))"
   ]
  },
  {
   "cell_type": "code",
   "execution_count": null,
   "metadata": {},
   "outputs": [],
   "source": []
  }
 ],
 "metadata": {
  "kernelspec": {
   "display_name": "base2",
   "language": "python",
   "name": "python3"
  },
  "language_info": {
   "codemirror_mode": {
    "name": "ipython",
    "version": 3
   },
   "file_extension": ".py",
   "mimetype": "text/x-python",
   "name": "python",
   "nbconvert_exporter": "python",
   "pygments_lexer": "ipython3",
   "version": "3.10.13"
  }
 },
 "nbformat": 4,
 "nbformat_minor": 2
}
