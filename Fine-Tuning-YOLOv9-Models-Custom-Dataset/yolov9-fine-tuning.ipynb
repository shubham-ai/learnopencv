{
 "cells": [
  {
   "cell_type": "markdown",
   "id": "c371e535-587c-4645-8ad7-3c555442a193",
   "metadata": {},
   "source": [
    "# Fine-Tuning YOLOv9 on Custom SkyFusion Dataset"
   ]
  },
  {
   "cell_type": "markdown",
   "id": "0e854809-6d5d-43f5-a7a4-c6f23ac31764",
   "metadata": {},
   "source": [
    "#### Code written by Pranav Durai"
   ]
  },
  {
   "cell_type": "markdown",
   "id": "352bfda8-8b6a-4284-bbb4-8cc7961ba493",
   "metadata": {},
   "source": [
    "In this notebook, we embark on a journey to fine-tune YOLOv9, an advanced deep learning model for object detection, using the SkyFusion Dataset. \n",
    "\n",
    "The SkyFusion Dataset, tailored for aerial surveillance and remote sensing, comprises high-resolution images captured from various aerial platforms. These images are rich in diverse features, encompassing a wide range of objects such as vehicles, ships and airplanes, making it an ideal dataset for enhancing the capabilities of YOLOv9 in aerial image analysis."
   ]
  },
  {
   "cell_type": "markdown",
   "id": "26d487f2-0f7c-4b8f-ab79-a6853aa1d86c",
   "metadata": {},
   "source": [
    "Fine-tuning YOLOv9 on the SkyFusion Dataset aims to achieve a more specialized and optimized model for aerial object detection. This process involves adjusting the pre-trained YOLOv9 model to better recognize and localize the unique objects and patterns present in aerial imagery. By training on SkyFusion, we expect the model to adapt to the specific characteristics and challenges of aerial views, such as varying scales, orientations, and lighting conditions."
   ]
  },
  {
   "cell_type": "markdown",
   "id": "8ee17da4-1999-4175-87f0-fa92ff6bc974",
   "metadata": {},
   "source": [
    "This notebook will guide you through the steps of preparing the SkyFusion Dataset, setting up the YOLOv9 model, and executing the fine-tuning process. The ultimate goal is to obtain a robust object detection model that excels in aerial imagery analysis, paving the way for innovative applications in areas such as urban planning, environmental monitoring, and security surveillance."
   ]
  },
  {
   "cell_type": "markdown",
   "id": "eab785bb-4b59-4bc9-9304-f9366121b16b",
   "metadata": {},
   "source": [
    "## Install Required Packages"
   ]
  },
  {
   "cell_type": "code",
   "execution_count": null,
   "id": "ce698e48-7102-437a-a0c9-9746f4069317",
   "metadata": {},
   "outputs": [],
   "source": [
    "!pip install ultralytics"
   ]
  },
  {
   "cell_type": "markdown",
   "id": "b881f61a-6a20-45c4-bcc0-63709099c768",
   "metadata": {},
   "source": [
    "## Import Packages"
   ]
  },
  {
   "cell_type": "markdown",
   "id": "595822f5-33af-4b4b-b733-b86c69228934",
   "metadata": {},
   "source": [
    "Given below are some of the packages that need to be imported to get this pipeline up and running. "
   ]
  },
  {
   "cell_type": "code",
   "execution_count": null,
   "id": "378597e0-18fb-490a-8e8a-42bdda74b6bc",
   "metadata": {},
   "outputs": [],
   "source": [
    "from ultralytics import YOLO \n",
    "\n",
    "import os \n",
    "import urllib.request import urlretrieve\n",
    "from zipfile import ZipFile"
   ]
  },
  {
   "cell_type": "markdown",
   "id": "bfeffbc8-5953-4760-8a09-4e795ef06f27",
   "metadata": {},
   "source": [
    "## Download SkyFusion Dataset"
   ]
  },
  {
   "cell_type": "markdown",
   "id": "129a19fe-3e67-4160-8340-431c75984124",
   "metadata": {},
   "source": [
    "Function `download_and_unzip()` assists in downloading the SkyFusion Dataset, unzips it, and saves it in the current working directory. "
   ]
  },
  {
   "cell_type": "code",
   "execution_count": null,
   "id": "a8e1fcc9-865e-4dc9-b2c3-d628589c104d",
   "metadata": {},
   "outputs": [],
   "source": [
    "def download_and_unzip(url, save_path):\n",
    "    print(f\"Downloading and extracting assets....\", end=\"\")\n",
    "    # Downloading zip file using urllib package.\n",
    "    urlretrieve(url, save_path)\n",
    "    try:\n",
    "        # Extracting zip file using the zipfile package.\n",
    "        with ZipFile(save_path) as z:\n",
    "            # Extract ZIP file contents in the same directory.\n",
    "            z.extractall(os.path.split(save_path)[0])\n",
    "        print(\"Done\")\n",
    "    except Exception as e:\n",
    "        print(\"\\nInvalid file.\", e)\n",
    "URL = r\"https://www.dropbox.com/scl/fi/36utqtkyfg7piqczxlmb3/SkyFusion-YOLOv9.zip?rlkey=c1801ghd40kzs0uk8d4bnelhg&dl=1\"\n",
    "asset_zip_path = os.path.join(os.getcwd(), \"Fine-Tuning-YOLOv9.zip\")"
   ]
  },
  {
   "cell_type": "markdown",
   "id": "7dce57d6-2359-4dee-9b82-5e7466fd8052",
   "metadata": {},
   "source": [
    "Run the below cell to execute `download_and_unzip()`:"
   ]
  },
  {
   "cell_type": "code",
   "execution_count": null,
   "id": "463ae40f-ca95-4d92-99f6-83bc9a6fd937",
   "metadata": {},
   "outputs": [],
   "source": [
    "download_and_unzip(URL, asset_zip_path)"
   ]
  },
  {
   "cell_type": "markdown",
   "id": "bcad43c6-ece9-405a-a536-e47482a4970c",
   "metadata": {},
   "source": [
    "## Model Initialization"
   ]
  },
  {
   "cell_type": "markdown",
   "id": "c47edff0-bdd3-4ab5-b166-34332e60383c",
   "metadata": {},
   "source": [
    "In this entire notebook, we will be using the **YOLOv9-C** model for the fine-tuning process. But, you can also change the model parameter here to also invoke the **YOLOv9-E** model. The below line of code will download the `yolov9-c.pt` file into your current working directory. "
   ]
  },
  {
   "cell_type": "code",
   "execution_count": null,
   "id": "095beace-8eae-4d16-ab41-aedfc21daade",
   "metadata": {},
   "outputs": [],
   "source": [
    "model = YOLO('yolov9c.pt')"
   ]
  },
  {
   "cell_type": "markdown",
   "id": "c07fa4bc-7acb-4572-b41d-50a82ce7e7f9",
   "metadata": {},
   "source": [
    "## Baseline Training"
   ]
  },
  {
   "cell_type": "markdown",
   "id": "badaebb7-162b-49b7-8f71-2ab25d7fb4db",
   "metadata": {},
   "source": [
    "By running the below line of code, you will be able to start the training process using Ultralytics library: "
   ]
  },
  {
   "cell_type": "code",
   "execution_count": null,
   "id": "fae22b2d-f96c-44c4-b10c-b26053f58d9b",
   "metadata": {},
   "outputs": [],
   "source": [
    "results = model.train(data='SkyFusion-YOLOv9/data.yaml', epochs=100, imgsz=640)"
   ]
  },
  {
   "cell_type": "markdown",
   "id": "83eb141c-a0df-49dd-8884-88174ac6e2bf",
   "metadata": {},
   "source": [
    "## Fine-Tuning Techniques"
   ]
  },
  {
   "cell_type": "markdown",
   "id": "e694d950-e469-4a4f-95f4-f18a74f17a04",
   "metadata": {},
   "source": [
    "In this notebook, we will be looking at a few hyperparameters that can be tuned to perform fine-tuning. In this case, let's go ahead and run multiple experiments with variations in hyperparameters like `imgsz`, `freeze`, `lr0` - which are nothing but **image_size**, **no. of layers to freeze**, and **learning_rate**."
   ]
  },
  {
   "cell_type": "markdown",
   "id": "c4409cce-68ab-49fa-89ce-fcabc703f773",
   "metadata": {},
   "source": [
    "### Experiment 1: Freezing the Backbone + Learning Rate at 0.001"
   ]
  },
  {
   "cell_type": "code",
   "execution_count": null,
   "id": "d8c80236-9d1c-43d4-b4df-4ad52cc58f46",
   "metadata": {},
   "outputs": [],
   "source": [
    "results = model.train(data='SkyFusion-YOLOv9/data.yaml', epochs=100, imgsz=640, freeze=10, lr0=0.001)"
   ]
  },
  {
   "cell_type": "markdown",
   "id": "193298a9-59fb-4121-9b42-a7c3ddad4eee",
   "metadata": {},
   "source": [
    "### Experiment 2: Freezing Backbone + Learning Rate at 0.01"
   ]
  },
  {
   "cell_type": "code",
   "execution_count": null,
   "id": "daa77bb7-f4b0-4042-b057-860140095377",
   "metadata": {},
   "outputs": [],
   "source": [
    "results = model.train(data='SkyFusion-YOLOv9/data.yaml', epochs=100, imgsz=640, freeze=10, lr0=0.01)"
   ]
  },
  {
   "cell_type": "markdown",
   "id": "65011468-203d-4651-a17b-c3df2e98d79d",
   "metadata": {},
   "source": [
    "### Experiment 3: Freezing Backbone + Enlarged Input Image Size + Learning Rate at 0.01"
   ]
  },
  {
   "cell_type": "code",
   "execution_count": null,
   "id": "082965bc-191b-4477-a18d-beb4ca30432c",
   "metadata": {},
   "outputs": [],
   "source": [
    "results = model.train(data='SkyFusion-YOLOv9/data.yaml', epochs=100, imgsz=1024, freeze=10, lr0=0.01)"
   ]
  },
  {
   "cell_type": "markdown",
   "id": "3f36be43-abe7-43c2-a587-fbaf4d7e1eb7",
   "metadata": {},
   "source": [
    "## Key Takeaways"
   ]
  },
  {
   "cell_type": "markdown",
   "id": "bcc4f05f-a4f3-4e10-a887-87f25fed8d89",
   "metadata": {},
   "source": [
    "The following points summarize the key research findings on improving YOLOv9 models for better object detection performance and efficiency: \n",
    "\n",
    "1. Fine-tuning YOLOv9 on the SkyFusion dataset significantly improved object detection, achieving an mAP50 of 0.713 through strategic modifications like learning rate adjustments and backbone freezing.\n",
    "2. GELAN, with its emphasis on efficient gradient flow, demonstrated superior performance and stability across various computational blocks, especially CSP blocks which enhanced average precision by 0.7%.\n",
    "3. Aerial object detection in images and videos showcased the practical efficacy of the fine-tuned YOLOv9 models, highlighting their robustness in real-world applications."
   ]
  },
  {
   "cell_type": "markdown",
   "id": "4891d090-4742-44dc-a32b-2f7609fb9eba",
   "metadata": {},
   "source": [
    "## Inference Results"
   ]
  },
  {
   "cell_type": "markdown",
   "id": "bd6909cf-a842-4238-9038-3040eb77447b",
   "metadata": {},
   "source": [
    "In this section of the notebook, let's have a look at a few image and video inference results from the fine-tuned model. Also, to perform inference, the below command-line argument can be used: "
   ]
  },
  {
   "cell_type": "markdown",
   "id": "29b73f22-608c-459a-b0f5-b0f9ee336d87",
   "metadata": {},
   "source": [
    "**NOTE:** `--visualize` flag can be used to export feature visualization maps for each layer in the `YOLOv9-C` model."
   ]
  },
  {
   "cell_type": "code",
   "execution_count": null,
   "id": "226904ad-73ba-4b46-8877-28c17154f6e1",
   "metadata": {},
   "outputs": [],
   "source": [
    "!yolo predict model=run1/weights/best.pt source=images --visualize"
   ]
  },
  {
   "cell_type": "markdown",
   "id": "05bb3011-ebd3-4b31-bc80-5f131e895ddf",
   "metadata": {},
   "source": [
    "Let's also have a look at few inference results on images and videos, shall we? 😉"
   ]
  },
  {
   "cell_type": "markdown",
   "id": "4058d4d6-64ba-4216-a2d0-77c64ae13ec7",
   "metadata": {},
   "source": [
    "### Aerial Airplane Detection"
   ]
  },
  {
   "cell_type": "markdown",
   "id": "4c2e6978-6590-4334-9676-3ba31a4a7de6",
   "metadata": {},
   "source": [
    "#### Image Inference: 640x640"
   ]
  },
  {
   "cell_type": "markdown",
   "id": "8ef382b8-cd5c-4450-b402-cb3fbffd4b96",
   "metadata": {},
   "source": [
    "<img src=\"media/fine-tuning-yolov9-airplane-inference.jpg\">"
   ]
  },
  {
   "cell_type": "markdown",
   "id": "80da1015-1df6-4721-aeb6-f10ef8306e8f",
   "metadata": {},
   "source": [
    "#### Video Inference: 567x1024"
   ]
  },
  {
   "cell_type": "markdown",
   "id": "6446c9a7-08e5-4f1a-ad4c-f9fdd6e9faa0",
   "metadata": {},
   "source": [
    "<img src=\"media/fine-tuning-yolov9-inference-airplane-detection.gif\">"
   ]
  },
  {
   "cell_type": "markdown",
   "id": "475b490c-3696-4451-96dd-5aaab702d670",
   "metadata": {},
   "source": [
    "### Aerial Ship Detection"
   ]
  },
  {
   "cell_type": "markdown",
   "id": "14762795-a496-4ad5-9dc6-ed785bf35963",
   "metadata": {},
   "source": [
    "#### Image Inference: 640x640"
   ]
  },
  {
   "cell_type": "markdown",
   "id": "dcc4baa0-ba02-4632-80c6-b62c82643d54",
   "metadata": {},
   "source": [
    "<img src=\"media/fine-tuning-yolov9-ship-inference.jpg\">"
   ]
  },
  {
   "cell_type": "markdown",
   "id": "45313554-4c12-429e-bc63-57706bfee30e",
   "metadata": {},
   "source": [
    "#### Video Inference: 567x1024"
   ]
  },
  {
   "cell_type": "markdown",
   "id": "6b8924ae-5128-4cd2-afce-660be1384687",
   "metadata": {},
   "source": [
    "<img src=\"media/fine-tuning-yolov9-inference-ship-detection.gif\">"
   ]
  },
  {
   "cell_type": "markdown",
   "id": "c1899939-43da-4a79-b3bd-eab21469697d",
   "metadata": {},
   "source": [
    "### Aerial Vehicle Detection"
   ]
  },
  {
   "cell_type": "markdown",
   "id": "18d056c6-ba11-47dd-9a20-fb1efd2ef15f",
   "metadata": {},
   "source": [
    "#### Image Inference: 640x640"
   ]
  },
  {
   "cell_type": "markdown",
   "id": "5fae51c1-5950-41bd-a651-1cda9532cc0b",
   "metadata": {},
   "source": [
    "<img src=\"media/fine-tuning-yolov9-vehicle-inference.jpg\">"
   ]
  },
  {
   "cell_type": "markdown",
   "id": "d8f7838e-1e49-4410-bbc0-05350e6a336e",
   "metadata": {},
   "source": [
    "#### Video Inference: 567x1024"
   ]
  },
  {
   "cell_type": "markdown",
   "id": "674efbbc-9023-46e0-addf-8fe874a5451e",
   "metadata": {},
   "source": [
    "<img src=\"media/fine-tuning-yolov9-inference-vehicle-detection.gif\">"
   ]
  },
  {
   "cell_type": "markdown",
   "id": "398a2890-c6f5-4e80-8154-6c25b7f793ed",
   "metadata": {},
   "source": [
    "## Conclusion"
   ]
  },
  {
   "cell_type": "markdown",
   "id": "4918d2cb-a923-49f6-8ff3-7ed363df2b64",
   "metadata": {},
   "source": [
    "Alright, so in this notebook, the baseline training procedure for `YOLOv9` models was shown. Along with this, few fine-tuning techniques with hyperparameters were also explored."
   ]
  }
 ],
 "metadata": {
  "kernelspec": {
   "display_name": "Python 3 (ipykernel)",
   "language": "python",
   "name": "python3"
  },
  "language_info": {
   "codemirror_mode": {
    "name": "ipython",
    "version": 3
   },
   "file_extension": ".py",
   "mimetype": "text/x-python",
   "name": "python",
   "nbconvert_exporter": "python",
   "pygments_lexer": "ipython3",
   "version": "3.9.18"
  }
 },
 "nbformat": 4,
 "nbformat_minor": 5
}
