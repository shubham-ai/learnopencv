{
 "cells": [
  {
   "cell_type": "markdown",
   "id": "0e0946b2-7b7f-43d8-aa7d-eccb51a9cf2d",
   "metadata": {},
   "source": [
    "# Fine-Tuning YOLOv10 Models"
   ]
  },
  {
   "cell_type": "markdown",
   "id": "638c4b07-7254-45eb-831d-8e8fa800377a",
   "metadata": {},
   "source": [
    "Code written by Pranav Durai"
   ]
  },
  {
   "cell_type": "markdown",
   "id": "160484c3-71da-4a2f-9e89-e85795d7de30",
   "metadata": {},
   "source": [
    "### Library Imports"
   ]
  },
  {
   "cell_type": "code",
   "execution_count": null,
   "id": "297dd27f-e88c-4256-863f-8147899868f6",
   "metadata": {},
   "outputs": [],
   "source": [
    "import os\n",
    "import json\n",
    "import random\n",
    "import requests\n",
    "import zipfile"
   ]
  },
  {
   "cell_type": "markdown",
   "id": "93a83d8a-0832-4472-8add-332a8242816e",
   "metadata": {},
   "source": [
    "### Clone the Official YOLOv10 Repository"
   ]
  },
  {
   "cell_type": "code",
   "execution_count": null,
   "id": "851eb608-bca0-4a0c-8189-6b1ef0488c2e",
   "metadata": {},
   "outputs": [],
   "source": [
    "HOME = os.getcwd()"
   ]
  },
  {
   "cell_type": "code",
   "execution_count": null,
   "id": "b0144625-7180-464a-9167-2213b76b6d22",
   "metadata": {},
   "outputs": [],
   "source": [
    "!pip install -q git+https://github.com/THU-MIG/yolov10.git\n",
    "!pip install huggingface_hub"
   ]
  },
  {
   "cell_type": "markdown",
   "id": "217cb43d-03b6-4ec4-b4a9-74946d1cce1b",
   "metadata": {},
   "source": [
    "### Download Kidney Stone Detection Dataset"
   ]
  },
  {
   "cell_type": "code",
   "execution_count": null,
   "id": "90179d09-1236-47d0-9348-da68256cb580",
   "metadata": {},
   "outputs": [],
   "source": [
    "def download_and_unzip(dropbox_link):\n",
    "    \n",
    "    # Set the output directory path\n",
    "    output_dir = '/content'\n",
    "\n",
    "    # Extract the filename from the Dropbox link\n",
    "    filename = dropbox_link.split('/')[-1]\n",
    "\n",
    "    # Download the zip file\n",
    "    response = requests.get(dropbox_link)\n",
    "    zip_path = os.path.join(output_dir, filename)\n",
    "    with open(zip_path, 'wb') as f:\n",
    "        f.write(response.content)\n",
    "\n",
    "    # Extract the contents of the zip file\n",
    "    with zipfile.ZipFile(zip_path, 'r') as zip_ref:\n",
    "        zip_ref.extractall(output_dir)\n",
    "\n",
    "    # Remove the zip file\n",
    "    os.remove(zip_path)\n",
    "\n",
    "    # Print success message\n",
    "    print(f\"Zip file downloaded and extracted to: {output_dir}\")"
   ]
  },
  {
   "cell_type": "code",
   "execution_count": null,
   "id": "f145e10c-adb7-40c0-8e01-52b0f0c30e44",
   "metadata": {},
   "outputs": [],
   "source": [
    "# Function call to dowload_and_unzip() - ORIGINAL DATASET\n",
    "dropbox_link = \"https://www.dropbox.com/scl/fi/1xrhftpzvkw43rv0dbabg/KIDNEY_STONE_DATASET.zip?rlkey=56iykq3o4aclssdeymmyw78jb&st=s6x9qmko&dl=1\"\n",
    "download_and_unzip(dropbox_link)"
   ]
  },
  {
   "cell_type": "markdown",
   "id": "4613f2aa-a1ac-4fb4-9428-109962b25719",
   "metadata": {},
   "source": [
    "### Pull YOLOv10 Model Weights"
   ]
  },
  {
   "cell_type": "code",
   "execution_count": null,
   "id": "94eabbe7-3763-431e-b674-b797190911b4",
   "metadata": {},
   "outputs": [],
   "source": [
    "!mkdir -p {HOME}/weights\n",
    "!wget -P {HOME}/weights -q https://github.com/THU-MIG/yolov10/releases/download/v1.1/yolov10n.pt\n",
    "!wget -P {HOME}/weights -q https://github.com/THU-MIG/yolov10/releases/download/v1.1/yolov10s.pt\n",
    "!wget -P {HOME}/weights -q https://github.com/THU-MIG/yolov10/releases/download/v1.1/yolov10m.pt\n",
    "!wget -P {HOME}/weights -q https://github.com/THU-MIG/yolov10/releases/download/v1.1/yolov10b.pt\n",
    "!wget -P {HOME}/weights -q https://github.com/THU-MIG/yolov10/releases/download/v1.1/yolov10x.pt\n",
    "!wget -P {HOME}/weights -q https://github.com/THU-MIG/yolov10/releases/download/v1.1/yolov10l.pt\n",
    "!ls -lh {HOME}/weights"
   ]
  },
  {
   "cell_type": "markdown",
   "id": "713011dc-b284-4f14-9479-618b5a60deb1",
   "metadata": {},
   "source": [
    "### Training"
   ]
  },
  {
   "cell_type": "code",
   "execution_count": null,
   "id": "d9e6a2b9-4703-49fa-9a26-24dbebe895b0",
   "metadata": {},
   "outputs": [],
   "source": [
    "%cd {HOME}"
   ]
  },
  {
   "cell_type": "code",
   "execution_count": null,
   "id": "3c2acb3c-f949-4cb9-9f95-f24497f3d422",
   "metadata": {},
   "outputs": [],
   "source": [
    "!yolo task=detect mode=train epochs=100 batch=24 plots=True \\\n",
    "model=/weights/yolov10l.pt \\\n",
    "data=/MODIFIED_DATASET/data.yaml"
   ]
  },
  {
   "cell_type": "markdown",
   "id": "be70527b-9623-4abd-9ac3-2462dff3c383",
   "metadata": {},
   "source": [
    "### Inference"
   ]
  },
  {
   "cell_type": "code",
   "execution_count": null,
   "id": "3b5a49cc-f625-4571-9833-0c902d23d471",
   "metadata": {},
   "outputs": [],
   "source": [
    "!yolo task=detect mode=predict conf=0.25 save=True show_labels=False \\\n",
    "model=best.pt \\\n",
    "source=test/images"
   ]
  }
 ],
 "metadata": {
  "kernelspec": {
   "display_name": "Python 3 (ipykernel)",
   "language": "python",
   "name": "python3"
  },
  "language_info": {
   "codemirror_mode": {
    "name": "ipython",
    "version": 3
   },
   "file_extension": ".py",
   "mimetype": "text/x-python",
   "name": "python",
   "nbconvert_exporter": "python",
   "pygments_lexer": "ipython3",
   "version": "3.9.19"
  }
 },
 "nbformat": 4,
 "nbformat_minor": 5
}
