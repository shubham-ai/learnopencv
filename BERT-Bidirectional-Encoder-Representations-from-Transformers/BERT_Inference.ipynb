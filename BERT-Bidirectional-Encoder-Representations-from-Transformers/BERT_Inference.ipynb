{
 "cells": [
  {
   "cell_type": "markdown",
   "id": "182b7a71-8e40-4feb-801e-6f4585b6b314",
   "metadata": {},
   "source": [
    "# Introduction\n",
    "\n",
    "This notebook loads and used a pretrained BERT (variation of BERT) model to label a sentence as postive or negative."
   ]
  },
  {
   "cell_type": "code",
   "execution_count": 1,
   "id": "3516cad0-54d2-4cdd-b50e-3dc777e3365c",
   "metadata": {
    "scrolled": true
   },
   "outputs": [
    {
     "name": "stdout",
     "output_type": "stream",
     "text": [
      "Requirement already satisfied: transformers in /home/sovit/miniconda3/envs/torch_2_0_1/lib/python3.10/site-packages (4.34.0)\n",
      "Requirement already satisfied: filelock in /home/sovit/miniconda3/envs/torch_2_0_1/lib/python3.10/site-packages (from transformers) (3.9.0)\n",
      "Requirement already satisfied: huggingface-hub<1.0,>=0.16.4 in /home/sovit/miniconda3/envs/torch_2_0_1/lib/python3.10/site-packages (from transformers) (0.17.3)\n",
      "Requirement already satisfied: numpy>=1.17 in /home/sovit/miniconda3/envs/torch_2_0_1/lib/python3.10/site-packages (from transformers) (1.26.0)\n",
      "Requirement already satisfied: packaging>=20.0 in /home/sovit/miniconda3/envs/torch_2_0_1/lib/python3.10/site-packages (from transformers) (23.1)\n",
      "Requirement already satisfied: pyyaml>=5.1 in /home/sovit/miniconda3/envs/torch_2_0_1/lib/python3.10/site-packages (from transformers) (6.0.1)\n",
      "Requirement already satisfied: regex!=2019.12.17 in /home/sovit/miniconda3/envs/torch_2_0_1/lib/python3.10/site-packages (from transformers) (2023.8.8)\n",
      "Requirement already satisfied: requests in /home/sovit/miniconda3/envs/torch_2_0_1/lib/python3.10/site-packages (from transformers) (2.31.0)\n",
      "Requirement already satisfied: tokenizers<0.15,>=0.14 in /home/sovit/miniconda3/envs/torch_2_0_1/lib/python3.10/site-packages (from transformers) (0.14.1)\n",
      "Requirement already satisfied: safetensors>=0.3.1 in /home/sovit/miniconda3/envs/torch_2_0_1/lib/python3.10/site-packages (from transformers) (0.3.3)\n",
      "Requirement already satisfied: tqdm>=4.27 in /home/sovit/miniconda3/envs/torch_2_0_1/lib/python3.10/site-packages (from transformers) (4.66.1)\n",
      "Requirement already satisfied: fsspec in /home/sovit/miniconda3/envs/torch_2_0_1/lib/python3.10/site-packages (from huggingface-hub<1.0,>=0.16.4->transformers) (2023.9.2)\n",
      "Requirement already satisfied: typing-extensions>=3.7.4.3 in /home/sovit/miniconda3/envs/torch_2_0_1/lib/python3.10/site-packages (from huggingface-hub<1.0,>=0.16.4->transformers) (4.7.1)\n",
      "Requirement already satisfied: charset-normalizer<4,>=2 in /home/sovit/miniconda3/envs/torch_2_0_1/lib/python3.10/site-packages (from requests->transformers) (2.0.4)\n",
      "Requirement already satisfied: idna<4,>=2.5 in /home/sovit/miniconda3/envs/torch_2_0_1/lib/python3.10/site-packages (from requests->transformers) (3.4)\n",
      "Requirement already satisfied: urllib3<3,>=1.21.1 in /home/sovit/miniconda3/envs/torch_2_0_1/lib/python3.10/site-packages (from requests->transformers) (1.26.16)\n",
      "Requirement already satisfied: certifi>=2017.4.17 in /home/sovit/miniconda3/envs/torch_2_0_1/lib/python3.10/site-packages (from requests->transformers) (2023.7.22)\n"
     ]
    }
   ],
   "source": [
    "!pip install -U transformers"
   ]
  },
  {
   "cell_type": "code",
   "execution_count": 2,
   "id": "33d78e57-1250-4ddf-94aa-6c78abefabc9",
   "metadata": {},
   "outputs": [],
   "source": [
    "from transformers import pipeline"
   ]
  },
  {
   "cell_type": "markdown",
   "id": "7e4d1e12-7615-4590-b71b-42f751f6fefa",
   "metadata": {},
   "source": [
    "## Masked Language Modeling"
   ]
  },
  {
   "cell_type": "code",
   "execution_count": 3,
   "id": "2773ab25-2706-481f-8440-31af21b905ab",
   "metadata": {},
   "outputs": [
    {
     "name": "stderr",
     "output_type": "stream",
     "text": [
      "Some weights of the model checkpoint at bert-base-uncased were not used when initializing BertForMaskedLM: ['bert.pooler.dense.weight', 'cls.seq_relationship.bias', 'bert.pooler.dense.bias', 'cls.seq_relationship.weight']\n",
      "- This IS expected if you are initializing BertForMaskedLM from the checkpoint of a model trained on another task or with another architecture (e.g. initializing a BertForSequenceClassification model from a BertForPreTraining model).\n",
      "- This IS NOT expected if you are initializing BertForMaskedLM from the checkpoint of a model that you expect to be exactly identical (initializing a BertForSequenceClassification model from a BertForSequenceClassification model).\n"
     ]
    }
   ],
   "source": [
    "unmasker = pipeline(task='fill-mask', model='bert-base-uncased')"
   ]
  },
  {
   "cell_type": "code",
   "execution_count": 4,
   "id": "8e9ef308-f741-497c-9b31-cff2469a5c08",
   "metadata": {},
   "outputs": [
    {
     "data": {
      "text/plain": [
       "[{'score': 0.07382672280073166,\n",
       "  'token': 2047,\n",
       "  'token_str': 'new',\n",
       "  'sequence': 'this is a new car.'},\n",
       " {'score': 0.05252403765916824,\n",
       "  'token': 3835,\n",
       "  'token_str': 'nice',\n",
       "  'sequence': 'this is a nice car.'},\n",
       " {'score': 0.04461159184575081,\n",
       "  'token': 4438,\n",
       "  'token_str': 'classic',\n",
       "  'sequence': 'this is a classic car.'},\n",
       " {'score': 0.037506841123104095,\n",
       "  'token': 2998,\n",
       "  'token_str': 'sports',\n",
       "  'sequence': 'this is a sports car.'},\n",
       " {'score': 0.034782662987709045,\n",
       "  'token': 4145,\n",
       "  'token_str': 'concept',\n",
       "  'sequence': 'this is a concept car.'}]"
      ]
     },
     "execution_count": 4,
     "metadata": {},
     "output_type": "execute_result"
    }
   ],
   "source": [
    "unmasker('This is a [MASK] car.')"
   ]
  },
  {
   "cell_type": "markdown",
   "id": "fd84c09f-b515-4532-8f28-15ed378d0bf9",
   "metadata": {},
   "source": [
    "## Sentiment Analysis"
   ]
  },
  {
   "cell_type": "markdown",
   "id": "03742b06-e9e9-4113-9b84-b17507e909ea",
   "metadata": {},
   "source": [
    "The default model that is used for sentiment analysis is **[`distilbert-base-uncased-finetuned-sst-2-english`](https://huggingface.co/distilbert-base-uncased-finetuned-sst-2-english)**."
   ]
  },
  {
   "cell_type": "code",
   "execution_count": 5,
   "id": "62e0a0a2-1aa4-43cb-82d5-71b6854d5d24",
   "metadata": {},
   "outputs": [
    {
     "name": "stderr",
     "output_type": "stream",
     "text": [
      "No model was supplied, defaulted to distilbert-base-uncased-finetuned-sst-2-english and revision af0f99b (https://huggingface.co/distilbert-base-uncased-finetuned-sst-2-english).\n",
      "Using a pipeline without specifying a model name and revision in production is not recommended.\n"
     ]
    }
   ],
   "source": [
    "sentiment_analysis = pipeline(task='sentiment-analysis')"
   ]
  },
  {
   "cell_type": "code",
   "execution_count": 6,
   "id": "cda8df8b-bfb2-4af0-8f7b-a6ab47cbf496",
   "metadata": {},
   "outputs": [],
   "source": [
    "sentences = [\n",
    "    'The movie was great.',\n",
    "    'It was a bad experience at the amusement park.'\n",
    "]"
   ]
  },
  {
   "cell_type": "code",
   "execution_count": 7,
   "id": "754c39c1-4e6e-46ba-bf80-f0a7031229c9",
   "metadata": {},
   "outputs": [
    {
     "data": {
      "text/plain": [
       "[{'label': 'POSITIVE', 'score': 0.9998748302459717},\n",
       " {'label': 'NEGATIVE', 'score': 0.9997939467430115}]"
      ]
     },
     "execution_count": 7,
     "metadata": {},
     "output_type": "execute_result"
    }
   ],
   "source": [
    "sentiment_analysis(sentences)"
   ]
  }
 ],
 "metadata": {
  "kernelspec": {
   "display_name": "Python 3 (ipykernel)",
   "language": "python",
   "name": "python3"
  },
  "language_info": {
   "codemirror_mode": {
    "name": "ipython",
    "version": 3
   },
   "file_extension": ".py",
   "mimetype": "text/x-python",
   "name": "python",
   "nbconvert_exporter": "python",
   "pygments_lexer": "ipython3",
   "version": "3.10.13"
  }
 },
 "nbformat": 4,
 "nbformat_minor": 5
}
