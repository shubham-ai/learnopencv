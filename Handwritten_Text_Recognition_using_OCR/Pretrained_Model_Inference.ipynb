{
 "cells": [
  {
   "cell_type": "code",
   "execution_count": 1,
   "metadata": {},
   "outputs": [],
   "source": [
    "from transformers import VisionEncoderDecoderModel, TrOCRProcessor\n",
    "from PIL import Image\n",
    "from tqdm import tqdm\n",
    "\n",
    "import torch\n",
    "import os\n",
    "import glob as glob\n",
    "import matplotlib.pyplot as plt\n",
    "import warnings"
   ]
  },
  {
   "cell_type": "code",
   "execution_count": 2,
   "metadata": {},
   "outputs": [],
   "source": [
    "warnings.filterwarnings('ignore')"
   ]
  },
  {
   "cell_type": "code",
   "execution_count": 3,
   "metadata": {},
   "outputs": [],
   "source": [
    "device = torch.device('cuda:0' if torch.cuda.is_available else 'cpu')"
   ]
  },
  {
   "cell_type": "code",
   "execution_count": 4,
   "metadata": {},
   "outputs": [
    {
     "name": "stderr",
     "output_type": "stream",
     "text": [
      "Some weights of VisionEncoderDecoderModel were not initialized from the model checkpoint at microsoft/trocr-small-handwritten and are newly initialized: ['encoder.pooler.dense.bias', 'encoder.pooler.dense.weight']\n",
      "You should probably TRAIN this model on a down-stream task to be able to use it for predictions and inference.\n"
     ]
    }
   ],
   "source": [
    "processor = TrOCRProcessor.from_pretrained('microsoft/trocr-small-handwritten')\n",
    "trained_model = VisionEncoderDecoderModel.from_pretrained('microsoft/trocr-small-handwritten').to(device)"
   ]
  },
  {
   "cell_type": "code",
   "execution_count": 5,
   "metadata": {},
   "outputs": [],
   "source": [
    "def read_and_show(image_path):\n",
    "    \"\"\"\n",
    "    :param image_path: String, path to the input image.\n",
    "\n",
    "    Returns:\n",
    "        image: PIL Image.\n",
    "    \"\"\"\n",
    "    image = Image.open(image_path).convert('RGB')\n",
    "    return image"
   ]
  },
  {
   "cell_type": "code",
   "execution_count": 6,
   "metadata": {},
   "outputs": [],
   "source": [
    "def ocr(image, processor, model):\n",
    "    \"\"\"\n",
    "    :param image: PIL Image.\n",
    "    :param processor: Huggingface OCR processor.\n",
    "    :param model: Huggingface OCR model.\n",
    "\n",
    "    Returns:\n",
    "        generated_text: the OCR'd text string.\n",
    "    \"\"\"\n",
    "    pixel_values = processor(image, return_tensors='pt').pixel_values.to(device)\n",
    "    generated_ids = model.generate(pixel_values)\n",
    "    generated_text = processor.batch_decode(generated_ids, skip_special_tokens=True)[0]\n",
    "    return generated_text"
   ]
  },
  {
   "cell_type": "code",
   "execution_count": 7,
   "metadata": {},
   "outputs": [],
   "source": [
    "def eval_new_data(\n",
    "    data_path=None,\n",
    "    num_samples=50,\n",
    "    show_image=False\n",
    "):\n",
    "    image_paths = glob.glob(data_path)\n",
    "    for i, image_path in tqdm(enumerate(image_paths), total=len(image_paths)):\n",
    "        if i == num_samples and num_samples != -1:\n",
    "            break\n",
    "        image = read_and_show(image_path)\n",
    "        text = ocr(image, processor, trained_model)\n",
    "\n",
    "        # Save figure\n",
    "        plt.figure(figsize=(7, 4))\n",
    "        plt.title(text)\n",
    "        plt.imshow(image)\n",
    "        plt.axis('off')\n",
    "        plt.savefig(os.path.join('pretrained_model_inference', image_path.split('/')[-1]))\n",
    "        plt.close()  # Close the figure to free up memory\n",
    "\n",
    "        # Show image if requested\n",
    "        if show_image:\n",
    "            plt.figure(figsize=(7, 4))\n",
    "            plt.title(text)\n",
    "            plt.imshow(image)\n",
    "            plt.axis('off')\n",
    "            plt.show()"
   ]
  },
  {
   "cell_type": "code",
   "execution_count": 8,
   "metadata": {},
   "outputs": [
    {
     "name": "stderr",
     "output_type": "stream",
     "text": [
      "100%|██████████| 10066/10066 [08:18<00:00, 20.21it/s]\n"
     ]
    }
   ],
   "source": [
    "os.makedirs('pretrained_model_inference', exist_ok=True)\n",
    "\n",
    "eval_new_data(\n",
    "    data_path=os.path.join('input/gnhk_dataset/test_processed/images', '*'),\n",
    "    num_samples=-1,\n",
    "    show_image=False\n",
    ")"
   ]
  },
  {
   "cell_type": "code",
   "execution_count": null,
   "metadata": {},
   "outputs": [],
   "source": []
  }
 ],
 "metadata": {
  "kernelspec": {
   "display_name": "torch_2_4_0",
   "language": "python",
   "name": "python3"
  },
  "language_info": {
   "codemirror_mode": {
    "name": "ipython",
    "version": 3
   },
   "file_extension": ".py",
   "mimetype": "text/x-python",
   "name": "python",
   "nbconvert_exporter": "python",
   "pygments_lexer": "ipython3",
   "version": "3.10.14"
  }
 },
 "nbformat": 4,
 "nbformat_minor": 2
}
